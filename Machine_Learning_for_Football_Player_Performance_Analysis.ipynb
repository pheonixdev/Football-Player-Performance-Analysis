{
  "cells": [
    {
      "cell_type": "markdown",
      "source": [
        "### ⏩Installation of required packages"
      ],
      "metadata": {
        "id": "q-sZp2CiFGil"
      }
    },
    {
      "cell_type": "code",
      "execution_count": 1,
      "metadata": {
        "colab": {
          "base_uri": "https://localhost:8080/"
        },
        "id": "7VwdU7c0lcRX",
        "outputId": "97b8f596-2aaa-4298-d6f7-4a6c55604a3a"
      },
      "outputs": [
        {
          "output_type": "stream",
          "name": "stdout",
          "text": [
            "Looking in indexes: https://pypi.org/simple, https://us-python.pkg.dev/colab-wheels/public/simple/\n",
            "Collecting BorutaShap\n",
            "  Downloading BorutaShap-1.0.16-py3-none-any.whl (13 kB)\n",
            "Requirement already satisfied: scikit-learn in /usr/local/lib/python3.7/dist-packages (from BorutaShap) (1.0.2)\n",
            "Requirement already satisfied: statsmodels in /usr/local/lib/python3.7/dist-packages (from BorutaShap) (0.12.2)\n",
            "Requirement already satisfied: matplotlib in /usr/local/lib/python3.7/dist-packages (from BorutaShap) (3.2.2)\n",
            "Requirement already satisfied: tqdm in /usr/local/lib/python3.7/dist-packages (from BorutaShap) (4.64.1)\n",
            "Requirement already satisfied: pandas in /usr/local/lib/python3.7/dist-packages (from BorutaShap) (1.3.5)\n",
            "Requirement already satisfied: numpy in /usr/local/lib/python3.7/dist-packages (from BorutaShap) (1.21.6)\n",
            "Collecting shap>=0.34.0\n",
            "  Downloading shap-0.41.0-cp37-cp37m-manylinux_2_12_x86_64.manylinux2010_x86_64.whl (569 kB)\n",
            "\u001b[K     |████████████████████████████████| 569 kB 4.2 MB/s \n",
            "\u001b[?25hRequirement already satisfied: seaborn in /usr/local/lib/python3.7/dist-packages (from BorutaShap) (0.11.2)\n",
            "Requirement already satisfied: scipy in /usr/local/lib/python3.7/dist-packages (from BorutaShap) (1.7.3)\n",
            "Collecting slicer==0.0.7\n",
            "  Downloading slicer-0.0.7-py3-none-any.whl (14 kB)\n",
            "Requirement already satisfied: cloudpickle in /usr/local/lib/python3.7/dist-packages (from shap>=0.34.0->BorutaShap) (1.5.0)\n",
            "Requirement already satisfied: packaging>20.9 in /usr/local/lib/python3.7/dist-packages (from shap>=0.34.0->BorutaShap) (21.3)\n",
            "Requirement already satisfied: numba in /usr/local/lib/python3.7/dist-packages (from shap>=0.34.0->BorutaShap) (0.56.2)\n",
            "Requirement already satisfied: pyparsing!=3.0.5,>=2.0.2 in /usr/local/lib/python3.7/dist-packages (from packaging>20.9->shap>=0.34.0->BorutaShap) (3.0.9)\n",
            "Requirement already satisfied: kiwisolver>=1.0.1 in /usr/local/lib/python3.7/dist-packages (from matplotlib->BorutaShap) (1.4.4)\n",
            "Requirement already satisfied: cycler>=0.10 in /usr/local/lib/python3.7/dist-packages (from matplotlib->BorutaShap) (0.11.0)\n",
            "Requirement already satisfied: python-dateutil>=2.1 in /usr/local/lib/python3.7/dist-packages (from matplotlib->BorutaShap) (2.8.2)\n",
            "Requirement already satisfied: typing-extensions in /usr/local/lib/python3.7/dist-packages (from kiwisolver>=1.0.1->matplotlib->BorutaShap) (4.1.1)\n",
            "Requirement already satisfied: six>=1.5 in /usr/local/lib/python3.7/dist-packages (from python-dateutil>=2.1->matplotlib->BorutaShap) (1.15.0)\n",
            "Requirement already satisfied: llvmlite<0.40,>=0.39.0dev0 in /usr/local/lib/python3.7/dist-packages (from numba->shap>=0.34.0->BorutaShap) (0.39.1)\n",
            "Requirement already satisfied: setuptools<60 in /usr/local/lib/python3.7/dist-packages (from numba->shap>=0.34.0->BorutaShap) (57.4.0)\n",
            "Requirement already satisfied: importlib-metadata in /usr/local/lib/python3.7/dist-packages (from numba->shap>=0.34.0->BorutaShap) (4.12.0)\n",
            "Requirement already satisfied: zipp>=0.5 in /usr/local/lib/python3.7/dist-packages (from importlib-metadata->numba->shap>=0.34.0->BorutaShap) (3.8.1)\n",
            "Requirement already satisfied: pytz>=2017.3 in /usr/local/lib/python3.7/dist-packages (from pandas->BorutaShap) (2022.2.1)\n",
            "Requirement already satisfied: joblib>=0.11 in /usr/local/lib/python3.7/dist-packages (from scikit-learn->BorutaShap) (1.1.0)\n",
            "Requirement already satisfied: threadpoolctl>=2.0.0 in /usr/local/lib/python3.7/dist-packages (from scikit-learn->BorutaShap) (3.1.0)\n",
            "Requirement already satisfied: patsy>=0.5 in /usr/local/lib/python3.7/dist-packages (from statsmodels->BorutaShap) (0.5.2)\n",
            "Installing collected packages: slicer, shap, BorutaShap\n",
            "Successfully installed BorutaShap-1.0.16 shap-0.41.0 slicer-0.0.7\n"
          ]
        }
      ],
      "source": [
        "# For implementing the BorutaShap feature selection algorithm\n",
        "!pip install BorutaShap"
      ]
    },
    {
      "cell_type": "markdown",
      "metadata": {
        "id": "eLt-bZH_f-vf"
      },
      "source": [
        "### ⏩ Importing the necessary modules"
      ]
    },
    {
      "cell_type": "code",
      "execution_count": 2,
      "metadata": {
        "id": "YNXZ7-CzDQmx"
      },
      "outputs": [],
      "source": [
        "import sqlite3\n",
        "import pandas as pd\n",
        "import matplotlib.pyplot as plt\n",
        "import plotly.express as px\n",
        "import plotly.graph_objects as go\n",
        "import seaborn as sns\n",
        "import numpy as np\n",
        "import matplotlib.ticker as mtick\n",
        "from sklearn.manifold import TSNE\n",
        "from sklearn.preprocessing import StandardScaler\n",
        "from bokeh.plotting import figure, ColumnDataSource, show\n",
        "from bokeh.models import HoverTool\n",
        "from bokeh.io import output_notebook\n",
        "output_notebook()\n",
        "from sklearn.model_selection import train_test_split\n",
        "from sklearn.linear_model import LinearRegression\n",
        "from sklearn.tree import DecisionTreeRegressor\n",
        "from sklearn.ensemble import RandomForestRegressor\n",
        "from sklearn.neighbors import KNeighborsRegressor\n",
        "from sklearn.svm import SVR\n",
        "from xgboost import XGBRegressor\n",
        "from sklearn.metrics import mean_squared_error\n",
        "from sklearn.model_selection import cross_val_score\n",
        "from sklearn.model_selection import GridSearchCV\n",
        "\n",
        "from BorutaShap import BorutaShap\n",
        "from scipy import stats"
      ]
    },
    {
      "cell_type": "markdown",
      "metadata": {
        "id": "YaSqBVusgC4k"
      },
      "source": [
        "### ⏩Configuring Kaggle with Google Colab"
      ]
    },
    {
      "cell_type": "code",
      "execution_count": 3,
      "metadata": {
        "colab": {
          "base_uri": "https://localhost:8080/",
          "height": 91
        },
        "id": "7zUEJ6X_Mgs-",
        "outputId": "01c9c127-6067-42a8-c71e-f94b61bb0061"
      },
      "outputs": [
        {
          "output_type": "display_data",
          "data": {
            "text/plain": [
              "<IPython.core.display.HTML object>"
            ],
            "text/html": [
              "\n",
              "     <input type=\"file\" id=\"files-eeae61cc-f42b-4609-a06e-58b0b5ca374f\" name=\"files[]\" multiple disabled\n",
              "        style=\"border:none\" />\n",
              "     <output id=\"result-eeae61cc-f42b-4609-a06e-58b0b5ca374f\">\n",
              "      Upload widget is only available when the cell has been executed in the\n",
              "      current browser session. Please rerun this cell to enable.\n",
              "      </output>\n",
              "      <script>// Copyright 2017 Google LLC\n",
              "//\n",
              "// Licensed under the Apache License, Version 2.0 (the \"License\");\n",
              "// you may not use this file except in compliance with the License.\n",
              "// You may obtain a copy of the License at\n",
              "//\n",
              "//      http://www.apache.org/licenses/LICENSE-2.0\n",
              "//\n",
              "// Unless required by applicable law or agreed to in writing, software\n",
              "// distributed under the License is distributed on an \"AS IS\" BASIS,\n",
              "// WITHOUT WARRANTIES OR CONDITIONS OF ANY KIND, either express or implied.\n",
              "// See the License for the specific language governing permissions and\n",
              "// limitations under the License.\n",
              "\n",
              "/**\n",
              " * @fileoverview Helpers for google.colab Python module.\n",
              " */\n",
              "(function(scope) {\n",
              "function span(text, styleAttributes = {}) {\n",
              "  const element = document.createElement('span');\n",
              "  element.textContent = text;\n",
              "  for (const key of Object.keys(styleAttributes)) {\n",
              "    element.style[key] = styleAttributes[key];\n",
              "  }\n",
              "  return element;\n",
              "}\n",
              "\n",
              "// Max number of bytes which will be uploaded at a time.\n",
              "const MAX_PAYLOAD_SIZE = 100 * 1024;\n",
              "\n",
              "function _uploadFiles(inputId, outputId) {\n",
              "  const steps = uploadFilesStep(inputId, outputId);\n",
              "  const outputElement = document.getElementById(outputId);\n",
              "  // Cache steps on the outputElement to make it available for the next call\n",
              "  // to uploadFilesContinue from Python.\n",
              "  outputElement.steps = steps;\n",
              "\n",
              "  return _uploadFilesContinue(outputId);\n",
              "}\n",
              "\n",
              "// This is roughly an async generator (not supported in the browser yet),\n",
              "// where there are multiple asynchronous steps and the Python side is going\n",
              "// to poll for completion of each step.\n",
              "// This uses a Promise to block the python side on completion of each step,\n",
              "// then passes the result of the previous step as the input to the next step.\n",
              "function _uploadFilesContinue(outputId) {\n",
              "  const outputElement = document.getElementById(outputId);\n",
              "  const steps = outputElement.steps;\n",
              "\n",
              "  const next = steps.next(outputElement.lastPromiseValue);\n",
              "  return Promise.resolve(next.value.promise).then((value) => {\n",
              "    // Cache the last promise value to make it available to the next\n",
              "    // step of the generator.\n",
              "    outputElement.lastPromiseValue = value;\n",
              "    return next.value.response;\n",
              "  });\n",
              "}\n",
              "\n",
              "/**\n",
              " * Generator function which is called between each async step of the upload\n",
              " * process.\n",
              " * @param {string} inputId Element ID of the input file picker element.\n",
              " * @param {string} outputId Element ID of the output display.\n",
              " * @return {!Iterable<!Object>} Iterable of next steps.\n",
              " */\n",
              "function* uploadFilesStep(inputId, outputId) {\n",
              "  const inputElement = document.getElementById(inputId);\n",
              "  inputElement.disabled = false;\n",
              "\n",
              "  const outputElement = document.getElementById(outputId);\n",
              "  outputElement.innerHTML = '';\n",
              "\n",
              "  const pickedPromise = new Promise((resolve) => {\n",
              "    inputElement.addEventListener('change', (e) => {\n",
              "      resolve(e.target.files);\n",
              "    });\n",
              "  });\n",
              "\n",
              "  const cancel = document.createElement('button');\n",
              "  inputElement.parentElement.appendChild(cancel);\n",
              "  cancel.textContent = 'Cancel upload';\n",
              "  const cancelPromise = new Promise((resolve) => {\n",
              "    cancel.onclick = () => {\n",
              "      resolve(null);\n",
              "    };\n",
              "  });\n",
              "\n",
              "  // Wait for the user to pick the files.\n",
              "  const files = yield {\n",
              "    promise: Promise.race([pickedPromise, cancelPromise]),\n",
              "    response: {\n",
              "      action: 'starting',\n",
              "    }\n",
              "  };\n",
              "\n",
              "  cancel.remove();\n",
              "\n",
              "  // Disable the input element since further picks are not allowed.\n",
              "  inputElement.disabled = true;\n",
              "\n",
              "  if (!files) {\n",
              "    return {\n",
              "      response: {\n",
              "        action: 'complete',\n",
              "      }\n",
              "    };\n",
              "  }\n",
              "\n",
              "  for (const file of files) {\n",
              "    const li = document.createElement('li');\n",
              "    li.append(span(file.name, {fontWeight: 'bold'}));\n",
              "    li.append(span(\n",
              "        `(${file.type || 'n/a'}) - ${file.size} bytes, ` +\n",
              "        `last modified: ${\n",
              "            file.lastModifiedDate ? file.lastModifiedDate.toLocaleDateString() :\n",
              "                                    'n/a'} - `));\n",
              "    const percent = span('0% done');\n",
              "    li.appendChild(percent);\n",
              "\n",
              "    outputElement.appendChild(li);\n",
              "\n",
              "    const fileDataPromise = new Promise((resolve) => {\n",
              "      const reader = new FileReader();\n",
              "      reader.onload = (e) => {\n",
              "        resolve(e.target.result);\n",
              "      };\n",
              "      reader.readAsArrayBuffer(file);\n",
              "    });\n",
              "    // Wait for the data to be ready.\n",
              "    let fileData = yield {\n",
              "      promise: fileDataPromise,\n",
              "      response: {\n",
              "        action: 'continue',\n",
              "      }\n",
              "    };\n",
              "\n",
              "    // Use a chunked sending to avoid message size limits. See b/62115660.\n",
              "    let position = 0;\n",
              "    do {\n",
              "      const length = Math.min(fileData.byteLength - position, MAX_PAYLOAD_SIZE);\n",
              "      const chunk = new Uint8Array(fileData, position, length);\n",
              "      position += length;\n",
              "\n",
              "      const base64 = btoa(String.fromCharCode.apply(null, chunk));\n",
              "      yield {\n",
              "        response: {\n",
              "          action: 'append',\n",
              "          file: file.name,\n",
              "          data: base64,\n",
              "        },\n",
              "      };\n",
              "\n",
              "      let percentDone = fileData.byteLength === 0 ?\n",
              "          100 :\n",
              "          Math.round((position / fileData.byteLength) * 100);\n",
              "      percent.textContent = `${percentDone}% done`;\n",
              "\n",
              "    } while (position < fileData.byteLength);\n",
              "  }\n",
              "\n",
              "  // All done.\n",
              "  yield {\n",
              "    response: {\n",
              "      action: 'complete',\n",
              "    }\n",
              "  };\n",
              "}\n",
              "\n",
              "scope.google = scope.google || {};\n",
              "scope.google.colab = scope.google.colab || {};\n",
              "scope.google.colab._files = {\n",
              "  _uploadFiles,\n",
              "  _uploadFilesContinue,\n",
              "};\n",
              "})(self);\n",
              "</script> "
            ]
          },
          "metadata": {}
        },
        {
          "output_type": "stream",
          "name": "stdout",
          "text": [
            "Saving kaggle.json to kaggle.json\n"
          ]
        },
        {
          "output_type": "execute_result",
          "data": {
            "text/plain": [
              "{'kaggle.json': b'{\"username\":\"sabarinathms\",\"key\":\"b7df2939a6df5bd4504dd99988b24cdc\"}'}"
            ]
          },
          "metadata": {},
          "execution_count": 3
        }
      ],
      "source": [
        "from google.colab import files # import the files from colab\n",
        "files.upload() # upload your kaggle.json file form your PC"
      ]
    },
    {
      "cell_type": "markdown",
      "metadata": {
        "id": "-kjXcg7YgKnA"
      },
      "source": [
        "Configuring the Kaggle File"
      ]
    },
    {
      "cell_type": "code",
      "execution_count": 4,
      "metadata": {
        "id": "jcuXpf_xpmOW"
      },
      "outputs": [],
      "source": [
        "! mkdir ~/.kaggle"
      ]
    },
    {
      "cell_type": "code",
      "execution_count": 5,
      "metadata": {
        "id": "0a2KDgkLpi1d"
      },
      "outputs": [],
      "source": [
        "! cp kaggle.json ~/.kaggle/"
      ]
    },
    {
      "cell_type": "code",
      "execution_count": 6,
      "metadata": {
        "id": "Q4bh2-_gjcnn"
      },
      "outputs": [],
      "source": [
        "! chmod 600 ~/.kaggle/kaggle.json"
      ]
    },
    {
      "cell_type": "code",
      "execution_count": 7,
      "metadata": {
        "id": "uBr0yO6AXvCV"
      },
      "outputs": [],
      "source": [
        "import os\n",
        "os.environ['KAGGLE_CONFIG_DIR'] ='/content'"
      ]
    },
    {
      "cell_type": "markdown",
      "metadata": {
        "id": "tsgfMUcQgO4E"
      },
      "source": [
        "### ⏩ Downloading Database\n",
        "> The database used for this project is the European Soccer Database by Hugo Mathien from Kaggle\n",
        "\n",
        "> The database has the details of players, teams, matches, etc from 2009 to 2016\n",
        "\n",
        "> [Clink on the link to get to the database](https://www.kaggle.com/datasets/hugomathien/soccer)\n",
        "\n",
        "\n",
        "\n",
        "\n",
        "\n",
        "\n"
      ]
    },
    {
      "cell_type": "code",
      "execution_count": 8,
      "metadata": {
        "colab": {
          "base_uri": "https://localhost:8080/"
        },
        "id": "qRq8v_HPXz0W",
        "outputId": "ff0eb052-3cd2-4dc5-d04c-11d654d63d22"
      },
      "outputs": [
        {
          "output_type": "stream",
          "name": "stdout",
          "text": [
            "Warning: Your Kaggle API key is readable by other users on this system! To fix this, you can run 'chmod 600 /content/kaggle.json'\n",
            "Downloading soccer.zip to /content\n",
            " 89% 29.0M/32.7M [00:00<00:00, 135MB/s] \n",
            "100% 32.7M/32.7M [00:00<00:00, 132MB/s]\n"
          ]
        }
      ],
      "source": [
        "!kaggle datasets download -d hugomathien/soccer"
      ]
    },
    {
      "cell_type": "code",
      "execution_count": 9,
      "metadata": {
        "colab": {
          "base_uri": "https://localhost:8080/"
        },
        "id": "LdMo7LyXYFsu",
        "outputId": "8b528fe4-3588-44f7-a54c-4dd014335466"
      },
      "outputs": [
        {
          "output_type": "stream",
          "name": "stdout",
          "text": [
            "Archive:  soccer.zip\n",
            "  inflating: database.sqlite         \n"
          ]
        }
      ],
      "source": [
        "!unzip \\*.zip && rm *.zip"
      ]
    },
    {
      "cell_type": "code",
      "execution_count": 10,
      "metadata": {
        "id": "Kh-YrETPDx32"
      },
      "outputs": [],
      "source": [
        "path = '/content/database.sqlite'"
      ]
    },
    {
      "cell_type": "code",
      "execution_count": 11,
      "metadata": {
        "id": "V-tqoUWMDkBl"
      },
      "outputs": [],
      "source": [
        "connection = sqlite3.connect(path)"
      ]
    },
    {
      "cell_type": "code",
      "execution_count": 12,
      "metadata": {
        "colab": {
          "base_uri": "https://localhost:8080/",
          "height": 300
        },
        "id": "yXhvcDJaRZVr",
        "outputId": "be446b3d-3c67-4dcb-acd1-547c2cce8be5"
      },
      "outputs": [
        {
          "output_type": "execute_result",
          "data": {
            "text/plain": [
              "                name\n",
              "0    sqlite_sequence\n",
              "1  Player_Attributes\n",
              "2             Player\n",
              "3              Match\n",
              "4             League\n",
              "5            Country\n",
              "6               Team\n",
              "7    Team_Attributes"
            ],
            "text/html": [
              "\n",
              "  <div id=\"df-daee721d-e930-4bf6-86f8-f9a98e025908\">\n",
              "    <div class=\"colab-df-container\">\n",
              "      <div>\n",
              "<style scoped>\n",
              "    .dataframe tbody tr th:only-of-type {\n",
              "        vertical-align: middle;\n",
              "    }\n",
              "\n",
              "    .dataframe tbody tr th {\n",
              "        vertical-align: top;\n",
              "    }\n",
              "\n",
              "    .dataframe thead th {\n",
              "        text-align: right;\n",
              "    }\n",
              "</style>\n",
              "<table border=\"1\" class=\"dataframe\">\n",
              "  <thead>\n",
              "    <tr style=\"text-align: right;\">\n",
              "      <th></th>\n",
              "      <th>name</th>\n",
              "    </tr>\n",
              "  </thead>\n",
              "  <tbody>\n",
              "    <tr>\n",
              "      <th>0</th>\n",
              "      <td>sqlite_sequence</td>\n",
              "    </tr>\n",
              "    <tr>\n",
              "      <th>1</th>\n",
              "      <td>Player_Attributes</td>\n",
              "    </tr>\n",
              "    <tr>\n",
              "      <th>2</th>\n",
              "      <td>Player</td>\n",
              "    </tr>\n",
              "    <tr>\n",
              "      <th>3</th>\n",
              "      <td>Match</td>\n",
              "    </tr>\n",
              "    <tr>\n",
              "      <th>4</th>\n",
              "      <td>League</td>\n",
              "    </tr>\n",
              "    <tr>\n",
              "      <th>5</th>\n",
              "      <td>Country</td>\n",
              "    </tr>\n",
              "    <tr>\n",
              "      <th>6</th>\n",
              "      <td>Team</td>\n",
              "    </tr>\n",
              "    <tr>\n",
              "      <th>7</th>\n",
              "      <td>Team_Attributes</td>\n",
              "    </tr>\n",
              "  </tbody>\n",
              "</table>\n",
              "</div>\n",
              "      <button class=\"colab-df-convert\" onclick=\"convertToInteractive('df-daee721d-e930-4bf6-86f8-f9a98e025908')\"\n",
              "              title=\"Convert this dataframe to an interactive table.\"\n",
              "              style=\"display:none;\">\n",
              "        \n",
              "  <svg xmlns=\"http://www.w3.org/2000/svg\" height=\"24px\"viewBox=\"0 0 24 24\"\n",
              "       width=\"24px\">\n",
              "    <path d=\"M0 0h24v24H0V0z\" fill=\"none\"/>\n",
              "    <path d=\"M18.56 5.44l.94 2.06.94-2.06 2.06-.94-2.06-.94-.94-2.06-.94 2.06-2.06.94zm-11 1L8.5 8.5l.94-2.06 2.06-.94-2.06-.94L8.5 2.5l-.94 2.06-2.06.94zm10 10l.94 2.06.94-2.06 2.06-.94-2.06-.94-.94-2.06-.94 2.06-2.06.94z\"/><path d=\"M17.41 7.96l-1.37-1.37c-.4-.4-.92-.59-1.43-.59-.52 0-1.04.2-1.43.59L10.3 9.45l-7.72 7.72c-.78.78-.78 2.05 0 2.83L4 21.41c.39.39.9.59 1.41.59.51 0 1.02-.2 1.41-.59l7.78-7.78 2.81-2.81c.8-.78.8-2.07 0-2.86zM5.41 20L4 18.59l7.72-7.72 1.47 1.35L5.41 20z\"/>\n",
              "  </svg>\n",
              "      </button>\n",
              "      \n",
              "  <style>\n",
              "    .colab-df-container {\n",
              "      display:flex;\n",
              "      flex-wrap:wrap;\n",
              "      gap: 12px;\n",
              "    }\n",
              "\n",
              "    .colab-df-convert {\n",
              "      background-color: #E8F0FE;\n",
              "      border: none;\n",
              "      border-radius: 50%;\n",
              "      cursor: pointer;\n",
              "      display: none;\n",
              "      fill: #1967D2;\n",
              "      height: 32px;\n",
              "      padding: 0 0 0 0;\n",
              "      width: 32px;\n",
              "    }\n",
              "\n",
              "    .colab-df-convert:hover {\n",
              "      background-color: #E2EBFA;\n",
              "      box-shadow: 0px 1px 2px rgba(60, 64, 67, 0.3), 0px 1px 3px 1px rgba(60, 64, 67, 0.15);\n",
              "      fill: #174EA6;\n",
              "    }\n",
              "\n",
              "    [theme=dark] .colab-df-convert {\n",
              "      background-color: #3B4455;\n",
              "      fill: #D2E3FC;\n",
              "    }\n",
              "\n",
              "    [theme=dark] .colab-df-convert:hover {\n",
              "      background-color: #434B5C;\n",
              "      box-shadow: 0px 1px 3px 1px rgba(0, 0, 0, 0.15);\n",
              "      filter: drop-shadow(0px 1px 2px rgba(0, 0, 0, 0.3));\n",
              "      fill: #FFFFFF;\n",
              "    }\n",
              "  </style>\n",
              "\n",
              "      <script>\n",
              "        const buttonEl =\n",
              "          document.querySelector('#df-daee721d-e930-4bf6-86f8-f9a98e025908 button.colab-df-convert');\n",
              "        buttonEl.style.display =\n",
              "          google.colab.kernel.accessAllowed ? 'block' : 'none';\n",
              "\n",
              "        async function convertToInteractive(key) {\n",
              "          const element = document.querySelector('#df-daee721d-e930-4bf6-86f8-f9a98e025908');\n",
              "          const dataTable =\n",
              "            await google.colab.kernel.invokeFunction('convertToInteractive',\n",
              "                                                     [key], {});\n",
              "          if (!dataTable) return;\n",
              "\n",
              "          const docLinkHtml = 'Like what you see? Visit the ' +\n",
              "            '<a target=\"_blank\" href=https://colab.research.google.com/notebooks/data_table.ipynb>data table notebook</a>'\n",
              "            + ' to learn more about interactive tables.';\n",
              "          element.innerHTML = '';\n",
              "          dataTable['output_type'] = 'display_data';\n",
              "          await google.colab.output.renderOutput(dataTable, element);\n",
              "          const docLink = document.createElement('div');\n",
              "          docLink.innerHTML = docLinkHtml;\n",
              "          element.appendChild(docLink);\n",
              "        }\n",
              "      </script>\n",
              "    </div>\n",
              "  </div>\n",
              "  "
            ]
          },
          "metadata": {},
          "execution_count": 12
        }
      ],
      "source": [
        "query = \"SELECT name FROM sqlite_master WHERE type='table';\"\n",
        "pd.read_sql(query, connection)"
      ]
    },
    {
      "cell_type": "markdown",
      "metadata": {
        "id": "3zOpJNrIgiHK"
      },
      "source": [
        "Only the player and player_attributes table is needed, so we convert them into pandas dataframe"
      ]
    },
    {
      "cell_type": "code",
      "execution_count": 13,
      "metadata": {
        "colab": {
          "base_uri": "https://localhost:8080/",
          "height": 206
        },
        "id": "TPRUKLI9npG0",
        "outputId": "e225c073-9fe6-4d9b-9f84-2a66c85a5cda"
      },
      "outputs": [
        {
          "output_type": "execute_result",
          "data": {
            "text/plain": [
              "   id  player_api_id         player_name  player_fifa_api_id  \\\n",
              "0   1         505942  Aaron Appindangoye              218353   \n",
              "1   2         155782     Aaron Cresswell              189615   \n",
              "2   3         162549         Aaron Doran              186170   \n",
              "3   4          30572       Aaron Galindo              140161   \n",
              "4   5          23780        Aaron Hughes               17725   \n",
              "\n",
              "              birthday  height  weight  \n",
              "0  1992-02-29 00:00:00  182.88     187  \n",
              "1  1989-12-15 00:00:00  170.18     146  \n",
              "2  1991-05-13 00:00:00  170.18     163  \n",
              "3  1982-05-08 00:00:00  182.88     198  \n",
              "4  1979-11-08 00:00:00  182.88     154  "
            ],
            "text/html": [
              "\n",
              "  <div id=\"df-af7246ca-5d82-4336-83a4-401e8916a4a8\">\n",
              "    <div class=\"colab-df-container\">\n",
              "      <div>\n",
              "<style scoped>\n",
              "    .dataframe tbody tr th:only-of-type {\n",
              "        vertical-align: middle;\n",
              "    }\n",
              "\n",
              "    .dataframe tbody tr th {\n",
              "        vertical-align: top;\n",
              "    }\n",
              "\n",
              "    .dataframe thead th {\n",
              "        text-align: right;\n",
              "    }\n",
              "</style>\n",
              "<table border=\"1\" class=\"dataframe\">\n",
              "  <thead>\n",
              "    <tr style=\"text-align: right;\">\n",
              "      <th></th>\n",
              "      <th>id</th>\n",
              "      <th>player_api_id</th>\n",
              "      <th>player_name</th>\n",
              "      <th>player_fifa_api_id</th>\n",
              "      <th>birthday</th>\n",
              "      <th>height</th>\n",
              "      <th>weight</th>\n",
              "    </tr>\n",
              "  </thead>\n",
              "  <tbody>\n",
              "    <tr>\n",
              "      <th>0</th>\n",
              "      <td>1</td>\n",
              "      <td>505942</td>\n",
              "      <td>Aaron Appindangoye</td>\n",
              "      <td>218353</td>\n",
              "      <td>1992-02-29 00:00:00</td>\n",
              "      <td>182.88</td>\n",
              "      <td>187</td>\n",
              "    </tr>\n",
              "    <tr>\n",
              "      <th>1</th>\n",
              "      <td>2</td>\n",
              "      <td>155782</td>\n",
              "      <td>Aaron Cresswell</td>\n",
              "      <td>189615</td>\n",
              "      <td>1989-12-15 00:00:00</td>\n",
              "      <td>170.18</td>\n",
              "      <td>146</td>\n",
              "    </tr>\n",
              "    <tr>\n",
              "      <th>2</th>\n",
              "      <td>3</td>\n",
              "      <td>162549</td>\n",
              "      <td>Aaron Doran</td>\n",
              "      <td>186170</td>\n",
              "      <td>1991-05-13 00:00:00</td>\n",
              "      <td>170.18</td>\n",
              "      <td>163</td>\n",
              "    </tr>\n",
              "    <tr>\n",
              "      <th>3</th>\n",
              "      <td>4</td>\n",
              "      <td>30572</td>\n",
              "      <td>Aaron Galindo</td>\n",
              "      <td>140161</td>\n",
              "      <td>1982-05-08 00:00:00</td>\n",
              "      <td>182.88</td>\n",
              "      <td>198</td>\n",
              "    </tr>\n",
              "    <tr>\n",
              "      <th>4</th>\n",
              "      <td>5</td>\n",
              "      <td>23780</td>\n",
              "      <td>Aaron Hughes</td>\n",
              "      <td>17725</td>\n",
              "      <td>1979-11-08 00:00:00</td>\n",
              "      <td>182.88</td>\n",
              "      <td>154</td>\n",
              "    </tr>\n",
              "  </tbody>\n",
              "</table>\n",
              "</div>\n",
              "      <button class=\"colab-df-convert\" onclick=\"convertToInteractive('df-af7246ca-5d82-4336-83a4-401e8916a4a8')\"\n",
              "              title=\"Convert this dataframe to an interactive table.\"\n",
              "              style=\"display:none;\">\n",
              "        \n",
              "  <svg xmlns=\"http://www.w3.org/2000/svg\" height=\"24px\"viewBox=\"0 0 24 24\"\n",
              "       width=\"24px\">\n",
              "    <path d=\"M0 0h24v24H0V0z\" fill=\"none\"/>\n",
              "    <path d=\"M18.56 5.44l.94 2.06.94-2.06 2.06-.94-2.06-.94-.94-2.06-.94 2.06-2.06.94zm-11 1L8.5 8.5l.94-2.06 2.06-.94-2.06-.94L8.5 2.5l-.94 2.06-2.06.94zm10 10l.94 2.06.94-2.06 2.06-.94-2.06-.94-.94-2.06-.94 2.06-2.06.94z\"/><path d=\"M17.41 7.96l-1.37-1.37c-.4-.4-.92-.59-1.43-.59-.52 0-1.04.2-1.43.59L10.3 9.45l-7.72 7.72c-.78.78-.78 2.05 0 2.83L4 21.41c.39.39.9.59 1.41.59.51 0 1.02-.2 1.41-.59l7.78-7.78 2.81-2.81c.8-.78.8-2.07 0-2.86zM5.41 20L4 18.59l7.72-7.72 1.47 1.35L5.41 20z\"/>\n",
              "  </svg>\n",
              "      </button>\n",
              "      \n",
              "  <style>\n",
              "    .colab-df-container {\n",
              "      display:flex;\n",
              "      flex-wrap:wrap;\n",
              "      gap: 12px;\n",
              "    }\n",
              "\n",
              "    .colab-df-convert {\n",
              "      background-color: #E8F0FE;\n",
              "      border: none;\n",
              "      border-radius: 50%;\n",
              "      cursor: pointer;\n",
              "      display: none;\n",
              "      fill: #1967D2;\n",
              "      height: 32px;\n",
              "      padding: 0 0 0 0;\n",
              "      width: 32px;\n",
              "    }\n",
              "\n",
              "    .colab-df-convert:hover {\n",
              "      background-color: #E2EBFA;\n",
              "      box-shadow: 0px 1px 2px rgba(60, 64, 67, 0.3), 0px 1px 3px 1px rgba(60, 64, 67, 0.15);\n",
              "      fill: #174EA6;\n",
              "    }\n",
              "\n",
              "    [theme=dark] .colab-df-convert {\n",
              "      background-color: #3B4455;\n",
              "      fill: #D2E3FC;\n",
              "    }\n",
              "\n",
              "    [theme=dark] .colab-df-convert:hover {\n",
              "      background-color: #434B5C;\n",
              "      box-shadow: 0px 1px 3px 1px rgba(0, 0, 0, 0.15);\n",
              "      filter: drop-shadow(0px 1px 2px rgba(0, 0, 0, 0.3));\n",
              "      fill: #FFFFFF;\n",
              "    }\n",
              "  </style>\n",
              "\n",
              "      <script>\n",
              "        const buttonEl =\n",
              "          document.querySelector('#df-af7246ca-5d82-4336-83a4-401e8916a4a8 button.colab-df-convert');\n",
              "        buttonEl.style.display =\n",
              "          google.colab.kernel.accessAllowed ? 'block' : 'none';\n",
              "\n",
              "        async function convertToInteractive(key) {\n",
              "          const element = document.querySelector('#df-af7246ca-5d82-4336-83a4-401e8916a4a8');\n",
              "          const dataTable =\n",
              "            await google.colab.kernel.invokeFunction('convertToInteractive',\n",
              "                                                     [key], {});\n",
              "          if (!dataTable) return;\n",
              "\n",
              "          const docLinkHtml = 'Like what you see? Visit the ' +\n",
              "            '<a target=\"_blank\" href=https://colab.research.google.com/notebooks/data_table.ipynb>data table notebook</a>'\n",
              "            + ' to learn more about interactive tables.';\n",
              "          element.innerHTML = '';\n",
              "          dataTable['output_type'] = 'display_data';\n",
              "          await google.colab.output.renderOutput(dataTable, element);\n",
              "          const docLink = document.createElement('div');\n",
              "          docLink.innerHTML = docLinkHtml;\n",
              "          element.appendChild(docLink);\n",
              "        }\n",
              "      </script>\n",
              "    </div>\n",
              "  </div>\n",
              "  "
            ]
          },
          "metadata": {},
          "execution_count": 13
        }
      ],
      "source": [
        "query = \"SELECT * FROM Player;\"\n",
        "data = pd.read_sql(query, connection)\n",
        "data.head()"
      ]
    },
    {
      "cell_type": "code",
      "execution_count": 14,
      "metadata": {
        "colab": {
          "base_uri": "https://localhost:8080/",
          "height": 473
        },
        "id": "qivgV14gR8Ky",
        "outputId": "cdf42e20-2d5c-4232-a952-214834f20cdf"
      },
      "outputs": [
        {
          "output_type": "execute_result",
          "data": {
            "text/plain": [
              "   id  player_fifa_api_id  player_api_id                 date  overall_rating  \\\n",
              "0   1              218353         505942  2016-02-18 00:00:00            67.0   \n",
              "1   2              218353         505942  2015-11-19 00:00:00            67.0   \n",
              "2   3              218353         505942  2015-09-21 00:00:00            62.0   \n",
              "3   4              218353         505942  2015-03-20 00:00:00            61.0   \n",
              "4   5              218353         505942  2007-02-22 00:00:00            61.0   \n",
              "\n",
              "   potential preferred_foot attacking_work_rate defensive_work_rate  crossing  \\\n",
              "0       71.0          right              medium              medium      49.0   \n",
              "1       71.0          right              medium              medium      49.0   \n",
              "2       66.0          right              medium              medium      49.0   \n",
              "3       65.0          right              medium              medium      48.0   \n",
              "4       65.0          right              medium              medium      48.0   \n",
              "\n",
              "   ...  vision  penalties  marking  standing_tackle  sliding_tackle  \\\n",
              "0  ...    54.0       48.0     65.0             69.0            69.0   \n",
              "1  ...    54.0       48.0     65.0             69.0            69.0   \n",
              "2  ...    54.0       48.0     65.0             66.0            69.0   \n",
              "3  ...    53.0       47.0     62.0             63.0            66.0   \n",
              "4  ...    53.0       47.0     62.0             63.0            66.0   \n",
              "\n",
              "   gk_diving  gk_handling  gk_kicking  gk_positioning  gk_reflexes  \n",
              "0        6.0         11.0        10.0             8.0          8.0  \n",
              "1        6.0         11.0        10.0             8.0          8.0  \n",
              "2        6.0         11.0        10.0             8.0          8.0  \n",
              "3        5.0         10.0         9.0             7.0          7.0  \n",
              "4        5.0         10.0         9.0             7.0          7.0  \n",
              "\n",
              "[5 rows x 42 columns]"
            ],
            "text/html": [
              "\n",
              "  <div id=\"df-f9c70eaa-6138-4d54-a712-48a74b0d4ff7\">\n",
              "    <div class=\"colab-df-container\">\n",
              "      <div>\n",
              "<style scoped>\n",
              "    .dataframe tbody tr th:only-of-type {\n",
              "        vertical-align: middle;\n",
              "    }\n",
              "\n",
              "    .dataframe tbody tr th {\n",
              "        vertical-align: top;\n",
              "    }\n",
              "\n",
              "    .dataframe thead th {\n",
              "        text-align: right;\n",
              "    }\n",
              "</style>\n",
              "<table border=\"1\" class=\"dataframe\">\n",
              "  <thead>\n",
              "    <tr style=\"text-align: right;\">\n",
              "      <th></th>\n",
              "      <th>id</th>\n",
              "      <th>player_fifa_api_id</th>\n",
              "      <th>player_api_id</th>\n",
              "      <th>date</th>\n",
              "      <th>overall_rating</th>\n",
              "      <th>potential</th>\n",
              "      <th>preferred_foot</th>\n",
              "      <th>attacking_work_rate</th>\n",
              "      <th>defensive_work_rate</th>\n",
              "      <th>crossing</th>\n",
              "      <th>...</th>\n",
              "      <th>vision</th>\n",
              "      <th>penalties</th>\n",
              "      <th>marking</th>\n",
              "      <th>standing_tackle</th>\n",
              "      <th>sliding_tackle</th>\n",
              "      <th>gk_diving</th>\n",
              "      <th>gk_handling</th>\n",
              "      <th>gk_kicking</th>\n",
              "      <th>gk_positioning</th>\n",
              "      <th>gk_reflexes</th>\n",
              "    </tr>\n",
              "  </thead>\n",
              "  <tbody>\n",
              "    <tr>\n",
              "      <th>0</th>\n",
              "      <td>1</td>\n",
              "      <td>218353</td>\n",
              "      <td>505942</td>\n",
              "      <td>2016-02-18 00:00:00</td>\n",
              "      <td>67.0</td>\n",
              "      <td>71.0</td>\n",
              "      <td>right</td>\n",
              "      <td>medium</td>\n",
              "      <td>medium</td>\n",
              "      <td>49.0</td>\n",
              "      <td>...</td>\n",
              "      <td>54.0</td>\n",
              "      <td>48.0</td>\n",
              "      <td>65.0</td>\n",
              "      <td>69.0</td>\n",
              "      <td>69.0</td>\n",
              "      <td>6.0</td>\n",
              "      <td>11.0</td>\n",
              "      <td>10.0</td>\n",
              "      <td>8.0</td>\n",
              "      <td>8.0</td>\n",
              "    </tr>\n",
              "    <tr>\n",
              "      <th>1</th>\n",
              "      <td>2</td>\n",
              "      <td>218353</td>\n",
              "      <td>505942</td>\n",
              "      <td>2015-11-19 00:00:00</td>\n",
              "      <td>67.0</td>\n",
              "      <td>71.0</td>\n",
              "      <td>right</td>\n",
              "      <td>medium</td>\n",
              "      <td>medium</td>\n",
              "      <td>49.0</td>\n",
              "      <td>...</td>\n",
              "      <td>54.0</td>\n",
              "      <td>48.0</td>\n",
              "      <td>65.0</td>\n",
              "      <td>69.0</td>\n",
              "      <td>69.0</td>\n",
              "      <td>6.0</td>\n",
              "      <td>11.0</td>\n",
              "      <td>10.0</td>\n",
              "      <td>8.0</td>\n",
              "      <td>8.0</td>\n",
              "    </tr>\n",
              "    <tr>\n",
              "      <th>2</th>\n",
              "      <td>3</td>\n",
              "      <td>218353</td>\n",
              "      <td>505942</td>\n",
              "      <td>2015-09-21 00:00:00</td>\n",
              "      <td>62.0</td>\n",
              "      <td>66.0</td>\n",
              "      <td>right</td>\n",
              "      <td>medium</td>\n",
              "      <td>medium</td>\n",
              "      <td>49.0</td>\n",
              "      <td>...</td>\n",
              "      <td>54.0</td>\n",
              "      <td>48.0</td>\n",
              "      <td>65.0</td>\n",
              "      <td>66.0</td>\n",
              "      <td>69.0</td>\n",
              "      <td>6.0</td>\n",
              "      <td>11.0</td>\n",
              "      <td>10.0</td>\n",
              "      <td>8.0</td>\n",
              "      <td>8.0</td>\n",
              "    </tr>\n",
              "    <tr>\n",
              "      <th>3</th>\n",
              "      <td>4</td>\n",
              "      <td>218353</td>\n",
              "      <td>505942</td>\n",
              "      <td>2015-03-20 00:00:00</td>\n",
              "      <td>61.0</td>\n",
              "      <td>65.0</td>\n",
              "      <td>right</td>\n",
              "      <td>medium</td>\n",
              "      <td>medium</td>\n",
              "      <td>48.0</td>\n",
              "      <td>...</td>\n",
              "      <td>53.0</td>\n",
              "      <td>47.0</td>\n",
              "      <td>62.0</td>\n",
              "      <td>63.0</td>\n",
              "      <td>66.0</td>\n",
              "      <td>5.0</td>\n",
              "      <td>10.0</td>\n",
              "      <td>9.0</td>\n",
              "      <td>7.0</td>\n",
              "      <td>7.0</td>\n",
              "    </tr>\n",
              "    <tr>\n",
              "      <th>4</th>\n",
              "      <td>5</td>\n",
              "      <td>218353</td>\n",
              "      <td>505942</td>\n",
              "      <td>2007-02-22 00:00:00</td>\n",
              "      <td>61.0</td>\n",
              "      <td>65.0</td>\n",
              "      <td>right</td>\n",
              "      <td>medium</td>\n",
              "      <td>medium</td>\n",
              "      <td>48.0</td>\n",
              "      <td>...</td>\n",
              "      <td>53.0</td>\n",
              "      <td>47.0</td>\n",
              "      <td>62.0</td>\n",
              "      <td>63.0</td>\n",
              "      <td>66.0</td>\n",
              "      <td>5.0</td>\n",
              "      <td>10.0</td>\n",
              "      <td>9.0</td>\n",
              "      <td>7.0</td>\n",
              "      <td>7.0</td>\n",
              "    </tr>\n",
              "  </tbody>\n",
              "</table>\n",
              "<p>5 rows × 42 columns</p>\n",
              "</div>\n",
              "      <button class=\"colab-df-convert\" onclick=\"convertToInteractive('df-f9c70eaa-6138-4d54-a712-48a74b0d4ff7')\"\n",
              "              title=\"Convert this dataframe to an interactive table.\"\n",
              "              style=\"display:none;\">\n",
              "        \n",
              "  <svg xmlns=\"http://www.w3.org/2000/svg\" height=\"24px\"viewBox=\"0 0 24 24\"\n",
              "       width=\"24px\">\n",
              "    <path d=\"M0 0h24v24H0V0z\" fill=\"none\"/>\n",
              "    <path d=\"M18.56 5.44l.94 2.06.94-2.06 2.06-.94-2.06-.94-.94-2.06-.94 2.06-2.06.94zm-11 1L8.5 8.5l.94-2.06 2.06-.94-2.06-.94L8.5 2.5l-.94 2.06-2.06.94zm10 10l.94 2.06.94-2.06 2.06-.94-2.06-.94-.94-2.06-.94 2.06-2.06.94z\"/><path d=\"M17.41 7.96l-1.37-1.37c-.4-.4-.92-.59-1.43-.59-.52 0-1.04.2-1.43.59L10.3 9.45l-7.72 7.72c-.78.78-.78 2.05 0 2.83L4 21.41c.39.39.9.59 1.41.59.51 0 1.02-.2 1.41-.59l7.78-7.78 2.81-2.81c.8-.78.8-2.07 0-2.86zM5.41 20L4 18.59l7.72-7.72 1.47 1.35L5.41 20z\"/>\n",
              "  </svg>\n",
              "      </button>\n",
              "      \n",
              "  <style>\n",
              "    .colab-df-container {\n",
              "      display:flex;\n",
              "      flex-wrap:wrap;\n",
              "      gap: 12px;\n",
              "    }\n",
              "\n",
              "    .colab-df-convert {\n",
              "      background-color: #E8F0FE;\n",
              "      border: none;\n",
              "      border-radius: 50%;\n",
              "      cursor: pointer;\n",
              "      display: none;\n",
              "      fill: #1967D2;\n",
              "      height: 32px;\n",
              "      padding: 0 0 0 0;\n",
              "      width: 32px;\n",
              "    }\n",
              "\n",
              "    .colab-df-convert:hover {\n",
              "      background-color: #E2EBFA;\n",
              "      box-shadow: 0px 1px 2px rgba(60, 64, 67, 0.3), 0px 1px 3px 1px rgba(60, 64, 67, 0.15);\n",
              "      fill: #174EA6;\n",
              "    }\n",
              "\n",
              "    [theme=dark] .colab-df-convert {\n",
              "      background-color: #3B4455;\n",
              "      fill: #D2E3FC;\n",
              "    }\n",
              "\n",
              "    [theme=dark] .colab-df-convert:hover {\n",
              "      background-color: #434B5C;\n",
              "      box-shadow: 0px 1px 3px 1px rgba(0, 0, 0, 0.15);\n",
              "      filter: drop-shadow(0px 1px 2px rgba(0, 0, 0, 0.3));\n",
              "      fill: #FFFFFF;\n",
              "    }\n",
              "  </style>\n",
              "\n",
              "      <script>\n",
              "        const buttonEl =\n",
              "          document.querySelector('#df-f9c70eaa-6138-4d54-a712-48a74b0d4ff7 button.colab-df-convert');\n",
              "        buttonEl.style.display =\n",
              "          google.colab.kernel.accessAllowed ? 'block' : 'none';\n",
              "\n",
              "        async function convertToInteractive(key) {\n",
              "          const element = document.querySelector('#df-f9c70eaa-6138-4d54-a712-48a74b0d4ff7');\n",
              "          const dataTable =\n",
              "            await google.colab.kernel.invokeFunction('convertToInteractive',\n",
              "                                                     [key], {});\n",
              "          if (!dataTable) return;\n",
              "\n",
              "          const docLinkHtml = 'Like what you see? Visit the ' +\n",
              "            '<a target=\"_blank\" href=https://colab.research.google.com/notebooks/data_table.ipynb>data table notebook</a>'\n",
              "            + ' to learn more about interactive tables.';\n",
              "          element.innerHTML = '';\n",
              "          dataTable['output_type'] = 'display_data';\n",
              "          await google.colab.output.renderOutput(dataTable, element);\n",
              "          const docLink = document.createElement('div');\n",
              "          docLink.innerHTML = docLinkHtml;\n",
              "          element.appendChild(docLink);\n",
              "        }\n",
              "      </script>\n",
              "    </div>\n",
              "  </div>\n",
              "  "
            ]
          },
          "metadata": {},
          "execution_count": 14
        }
      ],
      "source": [
        "query = \"SELECT * FROM Player_Attributes;\"\n",
        "data = pd.read_sql(query, connection)\n",
        "data.head()"
      ]
    },
    {
      "cell_type": "markdown",
      "source": [
        "### ⏩ Creating the Dataset for use"
      ],
      "metadata": {
        "id": "DPw8MevlU_lj"
      }
    },
    {
      "cell_type": "code",
      "execution_count": 15,
      "metadata": {
        "id": "Y1uZ_rQ-n6tO"
      },
      "outputs": [],
      "source": [
        "# joining the player and the player_attributes tables\n",
        "query = \"\"\"SELECT * FROM Player_Attributes a\n",
        "           INNER JOIN (SELECT player_name, player_api_id AS player_id, birthday FROM Player) b ON a.player_api_id = b.player_id;\"\"\"\n",
        "data = pd.read_sql(query, connection)"
      ]
    },
    {
      "cell_type": "code",
      "source": [
        "data.shape"
      ],
      "metadata": {
        "colab": {
          "base_uri": "https://localhost:8080/"
        },
        "id": "y0xmwPk2sZXl",
        "outputId": "380c0674-c51f-4765-ab46-e8f81b6290e4"
      },
      "execution_count": 16,
      "outputs": [
        {
          "output_type": "execute_result",
          "data": {
            "text/plain": [
              "(183978, 45)"
            ]
          },
          "metadata": {},
          "execution_count": 16
        }
      ]
    },
    {
      "cell_type": "code",
      "execution_count": 17,
      "metadata": {
        "id": "N5Vu_CATjGto"
      },
      "outputs": [],
      "source": [
        "data[['date','birthday']] = data[['date','birthday']].apply(pd.to_datetime)"
      ]
    },
    {
      "cell_type": "code",
      "execution_count": 18,
      "metadata": {
        "colab": {
          "base_uri": "https://localhost:8080/"
        },
        "id": "QtIEmRM5kAem",
        "outputId": "b2719f30-ca48-481d-cdbb-cee7222b90a0"
      },
      "outputs": [
        {
          "output_type": "execute_result",
          "data": {
            "text/plain": [
              "id                        0\n",
              "player_fifa_api_id        0\n",
              "player_api_id             0\n",
              "date                      0\n",
              "overall_rating          836\n",
              "potential               836\n",
              "preferred_foot          836\n",
              "attacking_work_rate    3230\n",
              "defensive_work_rate     836\n",
              "crossing                836\n",
              "finishing               836\n",
              "heading_accuracy        836\n",
              "short_passing           836\n",
              "volleys                2713\n",
              "dribbling               836\n",
              "curve                  2713\n",
              "free_kick_accuracy      836\n",
              "long_passing            836\n",
              "ball_control            836\n",
              "acceleration            836\n",
              "sprint_speed            836\n",
              "agility                2713\n",
              "reactions               836\n",
              "balance                2713\n",
              "shot_power              836\n",
              "jumping                2713\n",
              "stamina                 836\n",
              "strength                836\n",
              "long_shots              836\n",
              "aggression              836\n",
              "interceptions           836\n",
              "positioning             836\n",
              "vision                 2713\n",
              "penalties               836\n",
              "marking                 836\n",
              "standing_tackle         836\n",
              "sliding_tackle         2713\n",
              "gk_diving               836\n",
              "gk_handling             836\n",
              "gk_kicking              836\n",
              "gk_positioning          836\n",
              "gk_reflexes             836\n",
              "player_name               0\n",
              "player_id                 0\n",
              "birthday                  0\n",
              "dtype: int64"
            ]
          },
          "metadata": {},
          "execution_count": 18
        }
      ],
      "source": [
        "data.isnull().sum(axis=0)"
      ]
    },
    {
      "cell_type": "code",
      "execution_count": 19,
      "metadata": {
        "id": "a4X73NhCkaFB"
      },
      "outputs": [],
      "source": [
        "data.dropna(inplace= True)"
      ]
    },
    {
      "cell_type": "code",
      "execution_count": 20,
      "metadata": {
        "id": "6b25EQgUkx0I"
      },
      "outputs": [],
      "source": [
        "#Creating age column by substracting player's birthday from the date of the rating\n",
        "data['age'] = (data['date'] - data['birthday']).dt.days // 365"
      ]
    },
    {
      "cell_type": "code",
      "execution_count": 21,
      "metadata": {
        "id": "AG8mxJgE6LF4"
      },
      "outputs": [],
      "source": [
        "# to be used later to analyse the impact of age on rating\n",
        "player = data.copy()"
      ]
    },
    {
      "cell_type": "code",
      "execution_count": 22,
      "metadata": {
        "id": "NUNmGAoLv0ND"
      },
      "outputs": [],
      "source": [
        "# getting rid of the duplicate ratings in the dataset\n",
        "data = data[~data.overall_rating.isnull()].sort_values('date', ascending=False)\n",
        "data = data.drop_duplicates(subset='player_api_id', keep='first')"
      ]
    },
    {
      "cell_type": "code",
      "source": [
        "# Top 20 rated players\n",
        "top_players=data.sort_values(by='overall_rating',ascending=False)\n",
        "top_twnty=top_players[:20]\n",
        "sns.set(rc={'figure.figsize':(15,3)})\n",
        "plt.xticks(fontsize=10,rotation='vertical')\n",
        "p=sns.lineplot(x=\"player_name\", y=\"overall_rating\", data=top_twnty,palette=\"summer\")\n",
        "p.axes.set_title(\"\\nTop 20 rated Players\\n\",fontsize=30);"
      ],
      "metadata": {
        "colab": {
          "base_uri": "https://localhost:8080/",
          "height": 419
        },
        "id": "T2kqDF1dVR3o",
        "outputId": "d705e0b4-7f0e-483a-f790-df21e169fbda"
      },
      "execution_count": 23,
      "outputs": [
        {
          "output_type": "display_data",
          "data": {
            "text/plain": [
              "<Figure size 1080x216 with 1 Axes>"
            ],
            "image/png": "[encoded data removed]"
          },
          "metadata": {}
        }
      ]
    },
    {
      "cell_type": "code",
      "source": [
        "# Top 20 dribblers\n",
        "top_dribblers=data.sort_values(by='dribbling',ascending=False)\n",
        "top_twnty=top_dribblers[:20]\n",
        "sns.set(rc={'figure.figsize':(15,3)})\n",
        "plt.xticks(fontsize=10,rotation='vertical')\n",
        "p=sns.barplot(x=\"player_name\", y=\"dribbling\", data=top_twnty,palette=\"cividis\",capsize=2)\n",
        "p.axes.set_title(\"\\nTop 20 Dribblers\\n\",fontsize=30);"
      ],
      "metadata": {
        "colab": {
          "base_uri": "https://localhost:8080/",
          "height": 404
        },
        "id": "EDdClaYlTkGS",
        "outputId": "358f6db8-521b-41da-a90a-db6c933e5f4f"
      },
      "execution_count": 24,
      "outputs": [
        {
          "output_type": "display_data",
          "data": {
            "text/plain": [
              "<Figure size 1080x216 with 1 Axes>"
            ],
            "image/png": "[encoded data removed]"
          },
          "metadata": {}
        }
      ]
    },
    {
      "cell_type": "code",
      "source": [
        "# Players with best vision\n",
        "top_vision=data.sort_values(by='vision',ascending=False)\n",
        "top_twnty=top_vision[:20]\n",
        "sns.set(rc={'figure.figsize':(3,3)})\n",
        "fig = px.pie(top_twnty, values=\"vision\", names=top_twnty.player_name, title='Vision analysis')\n",
        "fig.update_layout(width=1000,height=600,margin=dict(l=50,r=50,b=100,t=100,pad=4))\n",
        "fig.show()"
      ],
      "metadata": {
        "colab": {
          "base_uri": "https://localhost:8080/",
          "height": 617
        },
        "id": "_qdG5U7oWXa3",
        "outputId": "c26c9b22-8467-43eb-a10e-f5509746547e"
      },
      "execution_count": 25,
      "outputs": [
        {
          "output_type": "display_data",
          "data": {
            "text/html": [
              "<html>\n",
              "<head><meta charset=\"utf-8\" /></head>\n",
              "<body>\n",
              "    <div>            <script src=\"https://cdnjs.cloudflare.com/ajax/libs/mathjax/2.7.5/MathJax.js?config=TeX-AMS-MML_SVG\"></script><script type=\"text/javascript\">if (window.MathJax) {MathJax.Hub.Config({SVG: {font: \"STIX-Web\"}});}</script>                <script type=\"text/javascript\">window.PlotlyConfig = {MathJaxConfig: 'local'};</script>\n",
              "        <script src=\"https://cdn.plot.ly/plotly-2.8.3.min.js\"></script>                <div id=\"ef1e43f3-e644-4b95-922e-510dc7743a1d\" class=\"plotly-graph-div\" style=\"height:600px; width:1000px;\"></div>            <script type=\"text/javascript\">                                    window.PLOTLYENV=window.PLOTLYENV || {};                                    if (document.getElementById(\"ef1e43f3-e644-4b95-922e-510dc7743a1d\")) {                    Plotly.newPlot(                        \"ef1e43f3-e644-4b95-922e-510dc7743a1d\",                        [{\"domain\":{\"x\":[0.0,1.0],\"y\":[0.0,1.0]},\"hovertemplate\":\"player_name=%{label}<br>vision=%{value}<extra></extra>\",\"labels\":[\"Xavi Hernandez\",\"Andrea Pirlo\",\"Mesut Oezil\",\"David Silva\",\"Andres Iniesta\",\"Cesc Fabregas\",\"Paul Scholes\",\"Francesco Totti\",\"Ivan de la Pena\",\"Lionel Messi\",\"Luka Modric\",\"Dimitri Payet\",\"Hakim Ziyech\",\"Kevin de Bruyne\",\"Juan Carlos Valeron\",\"Koke\",\"Mateo Kovacic\",\"Javier Pastore\",\"Miralem Pjanic\",\"Juan Mata\"],\"legendgroup\":\"\",\"name\":\"\",\"showlegend\":true,\"values\":[94.0,94.0,93.0,93.0,92.0,92.0,91.0,90.0,90.0,90.0,89.0,88.0,88.0,88.0,88.0,88.0,88.0,88.0,88.0,88.0],\"type\":\"pie\"}],                        {\"template\":{\"data\":{\"bar\":[{\"error_x\":{\"color\":\"#2a3f5f\"},\"error_y\":{\"color\":\"#2a3f5f\"},\"marker\":{\"line\":{\"color\":\"#E5ECF6\",\"width\":0.5},\"pattern\":{\"fillmode\":\"overlay\",\"size\":10,\"solidity\":0.2}},\"type\":\"bar\"}],\"barpolar\":[{\"marker\":{\"line\":{\"color\":\"#E5ECF6\",\"width\":0.5},\"pattern\":{\"fillmode\":\"overlay\",\"size\":10,\"solidity\":0.2}},\"type\":\"barpolar\"}],\"carpet\":[{\"aaxis\":{\"endlinecolor\":\"#2a3f5f\",\"gridcolor\":\"white\",\"linecolor\":\"white\",\"minorgridcolor\":\"white\",\"startlinecolor\":\"#2a3f5f\"},\"baxis\":{\"endlinecolor\":\"#2a3f5f\",\"gridcolor\":\"white\",\"linecolor\":\"white\",\"minorgridcolor\":\"white\",\"startlinecolor\":\"#2a3f5f\"},\"type\":\"carpet\"}],\"choropleth\":[{\"colorbar\":{\"outlinewidth\":0,\"ticks\":\"\"},\"type\":\"choropleth\"}],\"contour\":[{\"colorbar\":{\"outlinewidth\":0,\"ticks\":\"\"},\"colorscale\":[[0.0,\"#0d0887\"],[0.1111111111111111,\"#46039f\"],[0.2222222222222222,\"#7201a8\"],[0.3333333333333333,\"#9c179e\"],[0.4444444444444444,\"#bd3786\"],[0.5555555555555556,\"#d8576b\"],[0.6666666666666666,\"#ed7953\"],[0.7777777777777778,\"#fb9f3a\"],[0.8888888888888888,\"#fdca26\"],[1.0,\"#f0f921\"]],\"type\":\"contour\"}],\"contourcarpet\":[{\"colorbar\":{\"outlinewidth\":0,\"ticks\":\"\"},\"type\":\"contourcarpet\"}],\"heatmap\":[{\"colorbar\":{\"outlinewidth\":0,\"ticks\":\"\"},\"colorscale\":[[0.0,\"#0d0887\"],[0.1111111111111111,\"#46039f\"],[0.2222222222222222,\"#7201a8\"],[0.3333333333333333,\"#9c179e\"],[0.4444444444444444,\"#bd3786\"],[0.5555555555555556,\"#d8576b\"],[0.6666666666666666,\"#ed7953\"],[0.7777777777777778,\"#fb9f3a\"],[0.8888888888888888,\"#fdca26\"],[1.0,\"#f0f921\"]],\"type\":\"heatmap\"}],\"heatmapgl\":[{\"colorbar\":{\"outlinewidth\":0,\"ticks\":\"\"},\"colorscale\":[[0.0,\"#0d0887\"],[0.1111111111111111,\"#46039f\"],[0.2222222222222222,\"#7201a8\"],[0.3333333333333333,\"#9c179e\"],[0.4444444444444444,\"#bd3786\"],[0.5555555555555556,\"#d8576b\"],[0.6666666666666666,\"#ed7953\"],[0.7777777777777778,\"#fb9f3a\"],[0.8888888888888888,\"#fdca26\"],[1.0,\"#f0f921\"]],\"type\":\"heatmapgl\"}],\"histogram\":[{\"marker\":{\"pattern\":{\"fillmode\":\"overlay\",\"size\":10,\"solidity\":0.2}},\"type\":\"histogram\"}],\"histogram2d\":[{\"colorbar\":{\"outlinewidth\":0,\"ticks\":\"\"},\"colorscale\":[[0.0,\"#0d0887\"],[0.1111111111111111,\"#46039f\"],[0.2222222222222222,\"#7201a8\"],[0.3333333333333333,\"#9c179e\"],[0.4444444444444444,\"#bd3786\"],[0.5555555555555556,\"#d8576b\"],[0.6666666666666666,\"#ed7953\"],[0.7777777777777778,\"#fb9f3a\"],[0.8888888888888888,\"#fdca26\"],[1.0,\"#f0f921\"]],\"type\":\"histogram2d\"}],\"histogram2dcontour\":[{\"colorbar\":{\"outlinewidth\":0,\"ticks\":\"\"},\"colorscale\":[[0.0,\"#0d0887\"],[0.1111111111111111,\"#46039f\"],[0.2222222222222222,\"#7201a8\"],[0.3333333333333333,\"#9c179e\"],[0.4444444444444444,\"#bd3786\"],[0.5555555555555556,\"#d8576b\"],[0.6666666666666666,\"#ed7953\"],[0.7777777777777778,\"#fb9f3a\"],[0.8888888888888888,\"#fdca26\"],[1.0,\"#f0f921\"]],\"type\":\"histogram2dcontour\"}],\"mesh3d\":[{\"colorbar\":{\"outlinewidth\":0,\"ticks\":\"\"},\"type\":\"mesh3d\"}],\"parcoords\":[{\"line\":{\"colorbar\":{\"outlinewidth\":0,\"ticks\":\"\"}},\"type\":\"parcoords\"}],\"pie\":[{\"automargin\":true,\"type\":\"pie\"}],\"scatter\":[{\"marker\":{\"colorbar\":{\"outlinewidth\":0,\"ticks\":\"\"}},\"type\":\"scatter\"}],\"scatter3d\":[{\"line\":{\"colorbar\":{\"outlinewidth\":0,\"ticks\":\"\"}},\"marker\":{\"colorbar\":{\"outlinewidth\":0,\"ticks\":\"\"}},\"type\":\"scatter3d\"}],\"scattercarpet\":[{\"marker\":{\"colorbar\":{\"outlinewidth\":0,\"ticks\":\"\"}},\"type\":\"scattercarpet\"}],\"scattergeo\":[{\"marker\":{\"colorbar\":{\"outlinewidth\":0,\"ticks\":\"\"}},\"type\":\"scattergeo\"}],\"scattergl\":[{\"marker\":{\"colorbar\":{\"outlinewidth\":0,\"ticks\":\"\"}},\"type\":\"scattergl\"}],\"scattermapbox\":[{\"marker\":{\"colorbar\":{\"outlinewidth\":0,\"ticks\":\"\"}},\"type\":\"scattermapbox\"}],\"scatterpolar\":[{\"marker\":{\"colorbar\":{\"outlinewidth\":0,\"ticks\":\"\"}},\"type\":\"scatterpolar\"}],\"scatterpolargl\":[{\"marker\":{\"colorbar\":{\"outlinewidth\":0,\"ticks\":\"\"}},\"type\":\"scatterpolargl\"}],\"scatterternary\":[{\"marker\":{\"colorbar\":{\"outlinewidth\":0,\"ticks\":\"\"}},\"type\":\"scatterternary\"}],\"surface\":[{\"colorbar\":{\"outlinewidth\":0,\"ticks\":\"\"},\"colorscale\":[[0.0,\"#0d0887\"],[0.1111111111111111,\"#46039f\"],[0.2222222222222222,\"#7201a8\"],[0.3333333333333333,\"#9c179e\"],[0.4444444444444444,\"#bd3786\"],[0.5555555555555556,\"#d8576b\"],[0.6666666666666666,\"#ed7953\"],[0.7777777777777778,\"#fb9f3a\"],[0.8888888888888888,\"#fdca26\"],[1.0,\"#f0f921\"]],\"type\":\"surface\"}],\"table\":[{\"cells\":{\"fill\":{\"color\":\"#EBF0F8\"},\"line\":{\"color\":\"white\"}},\"header\":{\"fill\":{\"color\":\"#C8D4E3\"},\"line\":{\"color\":\"white\"}},\"type\":\"table\"}]},\"layout\":{\"annotationdefaults\":{\"arrowcolor\":\"#2a3f5f\",\"arrowhead\":0,\"arrowwidth\":1},\"autotypenumbers\":\"strict\",\"coloraxis\":{\"colorbar\":{\"outlinewidth\":0,\"ticks\":\"\"}},\"colorscale\":{\"diverging\":[[0,\"#8e0152\"],[0.1,\"#c51b7d\"],[0.2,\"#de77ae\"],[0.3,\"#f1b6da\"],[0.4,\"#fde0ef\"],[0.5,\"#f7f7f7\"],[0.6,\"#e6f5d0\"],[0.7,\"#b8e186\"],[0.8,\"#7fbc41\"],[0.9,\"#4d9221\"],[1,\"#276419\"]],\"sequential\":[[0.0,\"#0d0887\"],[0.1111111111111111,\"#46039f\"],[0.2222222222222222,\"#7201a8\"],[0.3333333333333333,\"#9c179e\"],[0.4444444444444444,\"#bd3786\"],[0.5555555555555556,\"#d8576b\"],[0.6666666666666666,\"#ed7953\"],[0.7777777777777778,\"#fb9f3a\"],[0.8888888888888888,\"#fdca26\"],[1.0,\"#f0f921\"]],\"sequentialminus\":[[0.0,\"#0d0887\"],[0.1111111111111111,\"#46039f\"],[0.2222222222222222,\"#7201a8\"],[0.3333333333333333,\"#9c179e\"],[0.4444444444444444,\"#bd3786\"],[0.5555555555555556,\"#d8576b\"],[0.6666666666666666,\"#ed7953\"],[0.7777777777777778,\"#fb9f3a\"],[0.8888888888888888,\"#fdca26\"],[1.0,\"#f0f921\"]]},\"colorway\":[\"#636efa\",\"#EF553B\",\"#00cc96\",\"#ab63fa\",\"#FFA15A\",\"#19d3f3\",\"#FF6692\",\"#B6E880\",\"#FF97FF\",\"#FECB52\"],\"font\":{\"color\":\"#2a3f5f\"},\"geo\":{\"bgcolor\":\"white\",\"lakecolor\":\"white\",\"landcolor\":\"#E5ECF6\",\"showlakes\":true,\"showland\":true,\"subunitcolor\":\"white\"},\"hoverlabel\":{\"align\":\"left\"},\"hovermode\":\"closest\",\"mapbox\":{\"style\":\"light\"},\"paper_bgcolor\":\"white\",\"plot_bgcolor\":\"#E5ECF6\",\"polar\":{\"angularaxis\":{\"gridcolor\":\"white\",\"linecolor\":\"white\",\"ticks\":\"\"},\"bgcolor\":\"#E5ECF6\",\"radialaxis\":{\"gridcolor\":\"white\",\"linecolor\":\"white\",\"ticks\":\"\"}},\"scene\":{\"xaxis\":{\"backgroundcolor\":\"#E5ECF6\",\"gridcolor\":\"white\",\"gridwidth\":2,\"linecolor\":\"white\",\"showbackground\":true,\"ticks\":\"\",\"zerolinecolor\":\"white\"},\"yaxis\":{\"backgroundcolor\":\"#E5ECF6\",\"gridcolor\":\"white\",\"gridwidth\":2,\"linecolor\":\"white\",\"showbackground\":true,\"ticks\":\"\",\"zerolinecolor\":\"white\"},\"zaxis\":{\"backgroundcolor\":\"#E5ECF6\",\"gridcolor\":\"white\",\"gridwidth\":2,\"linecolor\":\"white\",\"showbackground\":true,\"ticks\":\"\",\"zerolinecolor\":\"white\"}},\"shapedefaults\":{\"line\":{\"color\":\"#2a3f5f\"}},\"ternary\":{\"aaxis\":{\"gridcolor\":\"white\",\"linecolor\":\"white\",\"ticks\":\"\"},\"baxis\":{\"gridcolor\":\"white\",\"linecolor\":\"white\",\"ticks\":\"\"},\"bgcolor\":\"#E5ECF6\",\"caxis\":{\"gridcolor\":\"white\",\"linecolor\":\"white\",\"ticks\":\"\"}},\"title\":{\"x\":0.05},\"xaxis\":{\"automargin\":true,\"gridcolor\":\"white\",\"linecolor\":\"white\",\"ticks\":\"\",\"title\":{\"standoff\":15},\"zerolinecolor\":\"white\",\"zerolinewidth\":2},\"yaxis\":{\"automargin\":true,\"gridcolor\":\"white\",\"linecolor\":\"white\",\"ticks\":\"\",\"title\":{\"standoff\":15},\"zerolinecolor\":\"white\",\"zerolinewidth\":2}}},\"legend\":{\"tracegroupgap\":0},\"title\":{\"text\":\"Vision analysis\"},\"margin\":{\"l\":50,\"r\":50,\"b\":100,\"t\":100,\"pad\":4},\"width\":1000,\"height\":600},                        {\"responsive\": true}                    ).then(function(){\n",
              "                            \n",
              "var gd = document.getElementById('ef1e43f3-e644-4b95-922e-510dc7743a1d');\n",
              "var x = new MutationObserver(function (mutations, observer) {{\n",
              "        var display = window.getComputedStyle(gd).display;\n",
              "        if (!display || display === 'none') {{\n",
              "            console.log([gd, 'removed!']);\n",
              "            Plotly.purge(gd);\n",
              "            observer.disconnect();\n",
              "        }}\n",
              "}});\n",
              "\n",
              "// Listen for the removal of the full notebook cells\n",
              "var notebookContainer = gd.closest('#notebook-container');\n",
              "if (notebookContainer) {{\n",
              "    x.observe(notebookContainer, {childList: true});\n",
              "}}\n",
              "\n",
              "// Listen for the clearing of the current output cell\n",
              "var outputEl = gd.closest('.output');\n",
              "if (outputEl) {{\n",
              "    x.observe(outputEl, {childList: true});\n",
              "}}\n",
              "\n",
              "                        })                };                            </script>        </div>\n",
              "</body>\n",
              "</html>"
            ]
          },
          "metadata": {}
        }
      ]
    },
    {
      "cell_type": "markdown",
      "metadata": {
        "id": "Rumiteg66UYX"
      },
      "source": [
        "### ⏩ Analysis of rating with respect to age of player"
      ]
    },
    {
      "cell_type": "code",
      "execution_count": 26,
      "metadata": {
        "colab": {
          "base_uri": "https://localhost:8080/",
          "height": 394
        },
        "id": "36waytzBlIMC",
        "outputId": "832b0415-5665-41a5-a829-ca3d0c7bc5e5"
      },
      "outputs": [
        {
          "output_type": "display_data",
          "data": {
            "text/plain": [
              "<Figure size 720x432 with 1 Axes>"
            ],
            "image/png": "[encoded data removed]"
          },
          "metadata": {}
        }
      ],
      "source": [
        "# number of players vs the years for which they were rated\n",
        "player_years = player.groupby([ 'player_name','player_api_id']).nunique()[['age']]\n",
        "player_years['age'].plot.hist(figsize=(10,6), bins = 20).set_xlabel(\"Years\");"
      ]
    },
    {
      "cell_type": "code",
      "execution_count": 27,
      "metadata": {
        "colab": {
          "base_uri": "https://localhost:8080/",
          "height": 411
        },
        "id": "MwWjPaqmrd63",
        "outputId": "166ad595-601a-498a-d3c2-08f300f7db7c"
      },
      "outputs": [
        {
          "output_type": "execute_result",
          "data": {
            "text/plain": [
              "Text(0, 0.5, 'Rating')"
            ]
          },
          "metadata": {},
          "execution_count": 27
        },
        {
          "output_type": "display_data",
          "data": {
            "text/plain": [
              "<Figure size 720x432 with 1 Axes>"
            ],
            "image/png": "[encoded data removed]"
          },
          "metadata": {}
        }
      ],
      "source": [
        "player[player['player_name'].isin(['Lionel Messi'])].groupby(['age','player_name']).mean().reset_index().pivot(index='age', columns='player_name', values='overall_rating').plot(figsize=(10,6)).set_ylabel(\"Rating\")"
      ]
    },
    {
      "cell_type": "code",
      "execution_count": 28,
      "metadata": {
        "id": "23OFOrEh7Z3Z"
      },
      "outputs": [],
      "source": [
        "# Average player rating per age\n",
        "average_rating_per_year = player.groupby(['age','player_name','player_api_id']).mean().reset_index()"
      ]
    },
    {
      "cell_type": "code",
      "execution_count": 29,
      "metadata": {
        "id": "g6-611Dn7dOo"
      },
      "outputs": [],
      "source": [
        "# Average player rating \n",
        "average_rating = player.drop(columns = 'age').groupby(['player_api_id']).mean().reset_index()"
      ]
    },
    {
      "cell_type": "code",
      "execution_count": 30,
      "metadata": {
        "id": "Rmw0WAkR7thR"
      },
      "outputs": [],
      "source": [
        "# % change in rating in every age vs the player's average rating\n",
        "arpy = average_rating_per_year.merge(average_rating,suffixes=('_yearly', ''), right_on = 'player_api_id', left_on = 'player_api_id' )\n",
        "\n",
        "for i in list(average_rating.columns)[1:]: \n",
        "    arpy[i + '_change%'] = (100*(arpy[i + '_yearly'] - arpy[i])/arpy[i])"
      ]
    },
    {
      "cell_type": "code",
      "execution_count": 31,
      "metadata": {
        "colab": {
          "base_uri": "https://localhost:8080/",
          "height": 394
        },
        "id": "ru6De5iiC74N",
        "outputId": "4b6cd71d-a7ba-4b9c-99f2-083a6d30e829"
      },
      "outputs": [
        {
          "output_type": "execute_result",
          "data": {
            "text/plain": [
              "player_name  Lionel Messi\n",
              "age                      \n",
              "19              -7.801418\n",
              "20              -6.716729\n",
              "21              -2.377972\n",
              "22              -2.377972\n",
              "23              -2.377972\n",
              "24               1.960784\n",
              "25               1.960784\n",
              "26               1.960784\n",
              "27               0.876095\n",
              "28               1.689612"
            ],
            "text/html": [
              "\n",
              "  <div id=\"df-e03f3099-d4c2-4408-bd05-3a89c1f48318\">\n",
              "    <div class=\"colab-df-container\">\n",
              "      <div>\n",
              "<style scoped>\n",
              "    .dataframe tbody tr th:only-of-type {\n",
              "        vertical-align: middle;\n",
              "    }\n",
              "\n",
              "    .dataframe tbody tr th {\n",
              "        vertical-align: top;\n",
              "    }\n",
              "\n",
              "    .dataframe thead th {\n",
              "        text-align: right;\n",
              "    }\n",
              "</style>\n",
              "<table border=\"1\" class=\"dataframe\">\n",
              "  <thead>\n",
              "    <tr style=\"text-align: right;\">\n",
              "      <th>player_name</th>\n",
              "      <th>Lionel Messi</th>\n",
              "    </tr>\n",
              "    <tr>\n",
              "      <th>age</th>\n",
              "      <th></th>\n",
              "    </tr>\n",
              "  </thead>\n",
              "  <tbody>\n",
              "    <tr>\n",
              "      <th>19</th>\n",
              "      <td>-7.801418</td>\n",
              "    </tr>\n",
              "    <tr>\n",
              "      <th>20</th>\n",
              "      <td>-6.716729</td>\n",
              "    </tr>\n",
              "    <tr>\n",
              "      <th>21</th>\n",
              "      <td>-2.377972</td>\n",
              "    </tr>\n",
              "    <tr>\n",
              "      <th>22</th>\n",
              "      <td>-2.377972</td>\n",
              "    </tr>\n",
              "    <tr>\n",
              "      <th>23</th>\n",
              "      <td>-2.377972</td>\n",
              "    </tr>\n",
              "    <tr>\n",
              "      <th>24</th>\n",
              "      <td>1.960784</td>\n",
              "    </tr>\n",
              "    <tr>\n",
              "      <th>25</th>\n",
              "      <td>1.960784</td>\n",
              "    </tr>\n",
              "    <tr>\n",
              "      <th>26</th>\n",
              "      <td>1.960784</td>\n",
              "    </tr>\n",
              "    <tr>\n",
              "      <th>27</th>\n",
              "      <td>0.876095</td>\n",
              "    </tr>\n",
              "    <tr>\n",
              "      <th>28</th>\n",
              "      <td>1.689612</td>\n",
              "    </tr>\n",
              "  </tbody>\n",
              "</table>\n",
              "</div>\n",
              "      <button class=\"colab-df-convert\" onclick=\"convertToInteractive('df-e03f3099-d4c2-4408-bd05-3a89c1f48318')\"\n",
              "              title=\"Convert this dataframe to an interactive table.\"\n",
              "              style=\"display:none;\">\n",
              "        \n",
              "  <svg xmlns=\"http://www.w3.org/2000/svg\" height=\"24px\"viewBox=\"0 0 24 24\"\n",
              "       width=\"24px\">\n",
              "    <path d=\"M0 0h24v24H0V0z\" fill=\"none\"/>\n",
              "    <path d=\"M18.56 5.44l.94 2.06.94-2.06 2.06-.94-2.06-.94-.94-2.06-.94 2.06-2.06.94zm-11 1L8.5 8.5l.94-2.06 2.06-.94-2.06-.94L8.5 2.5l-.94 2.06-2.06.94zm10 10l.94 2.06.94-2.06 2.06-.94-2.06-.94-.94-2.06-.94 2.06-2.06.94z\"/><path d=\"M17.41 7.96l-1.37-1.37c-.4-.4-.92-.59-1.43-.59-.52 0-1.04.2-1.43.59L10.3 9.45l-7.72 7.72c-.78.78-.78 2.05 0 2.83L4 21.41c.39.39.9.59 1.41.59.51 0 1.02-.2 1.41-.59l7.78-7.78 2.81-2.81c.8-.78.8-2.07 0-2.86zM5.41 20L4 18.59l7.72-7.72 1.47 1.35L5.41 20z\"/>\n",
              "  </svg>\n",
              "      </button>\n",
              "      \n",
              "  <style>\n",
              "    .colab-df-container {\n",
              "      display:flex;\n",
              "      flex-wrap:wrap;\n",
              "      gap: 12px;\n",
              "    }\n",
              "\n",
              "    .colab-df-convert {\n",
              "      background-color: #E8F0FE;\n",
              "      border: none;\n",
              "      border-radius: 50%;\n",
              "      cursor: pointer;\n",
              "      display: none;\n",
              "      fill: #1967D2;\n",
              "      height: 32px;\n",
              "      padding: 0 0 0 0;\n",
              "      width: 32px;\n",
              "    }\n",
              "\n",
              "    .colab-df-convert:hover {\n",
              "      background-color: #E2EBFA;\n",
              "      box-shadow: 0px 1px 2px rgba(60, 64, 67, 0.3), 0px 1px 3px 1px rgba(60, 64, 67, 0.15);\n",
              "      fill: #174EA6;\n",
              "    }\n",
              "\n",
              "    [theme=dark] .colab-df-convert {\n",
              "      background-color: #3B4455;\n",
              "      fill: #D2E3FC;\n",
              "    }\n",
              "\n",
              "    [theme=dark] .colab-df-convert:hover {\n",
              "      background-color: #434B5C;\n",
              "      box-shadow: 0px 1px 3px 1px rgba(0, 0, 0, 0.15);\n",
              "      filter: drop-shadow(0px 1px 2px rgba(0, 0, 0, 0.3));\n",
              "      fill: #FFFFFF;\n",
              "    }\n",
              "  </style>\n",
              "\n",
              "      <script>\n",
              "        const buttonEl =\n",
              "          document.querySelector('#df-e03f3099-d4c2-4408-bd05-3a89c1f48318 button.colab-df-convert');\n",
              "        buttonEl.style.display =\n",
              "          google.colab.kernel.accessAllowed ? 'block' : 'none';\n",
              "\n",
              "        async function convertToInteractive(key) {\n",
              "          const element = document.querySelector('#df-e03f3099-d4c2-4408-bd05-3a89c1f48318');\n",
              "          const dataTable =\n",
              "            await google.colab.kernel.invokeFunction('convertToInteractive',\n",
              "                                                     [key], {});\n",
              "          if (!dataTable) return;\n",
              "\n",
              "          const docLinkHtml = 'Like what you see? Visit the ' +\n",
              "            '<a target=\"_blank\" href=https://colab.research.google.com/notebooks/data_table.ipynb>data table notebook</a>'\n",
              "            + ' to learn more about interactive tables.';\n",
              "          element.innerHTML = '';\n",
              "          dataTable['output_type'] = 'display_data';\n",
              "          await google.colab.output.renderOutput(dataTable, element);\n",
              "          const docLink = document.createElement('div');\n",
              "          docLink.innerHTML = docLinkHtml;\n",
              "          element.appendChild(docLink);\n",
              "        }\n",
              "      </script>\n",
              "    </div>\n",
              "  </div>\n",
              "  "
            ]
          },
          "metadata": {},
          "execution_count": 31
        }
      ],
      "source": [
        "# change in the percentage of overall rating per year\n",
        "arpy[arpy['player_name'].isin(['Lionel Messi'])].pivot(index='age', columns='player_name', values='overall_rating_change%')"
      ]
    },
    {
      "cell_type": "code",
      "execution_count": 32,
      "metadata": {
        "colab": {
          "base_uri": "https://localhost:8080/",
          "height": 415
        },
        "id": "Rh41P3GtDU84",
        "outputId": "a4ddb61b-68d7-470a-9c55-ccec20747052"
      },
      "outputs": [
        {
          "output_type": "execute_result",
          "data": {
            "text/plain": [
              "<matplotlib.legend.Legend at 0x7fb80f7e0150>"
            ]
          },
          "metadata": {},
          "execution_count": 32
        },
        {
          "output_type": "display_data",
          "data": {
            "text/plain": [
              "<Figure size 720x432 with 1 Axes>"
            ],
            "image/png": "[encoded data removed]"
          },
          "metadata": {}
        }
      ],
      "source": [
        "\n",
        "plot = arpy[arpy['player_name'].isin(['Lionel Messi'])].pivot(index='age', columns='player_name', values='overall_rating_change%').plot.bar(figsize=(10,6))\n",
        "plot.yaxis.set_major_formatter(mtick.PercentFormatter())\n",
        "plot.set_ylabel(\"overall_rating_change%\")\n",
        "plot.axhline(y=0,linewidth=1, color='k')\n",
        "plt.legend(title='player_name', loc='lower right')"
      ]
    },
    {
      "cell_type": "markdown",
      "metadata": {
        "id": "IvMTLApBYc91"
      },
      "source": [
        "### ⏩ Similar player scouting"
      ]
    },
    {
      "cell_type": "code",
      "execution_count": 33,
      "metadata": {
        "colab": {
          "base_uri": "https://localhost:8080/"
        },
        "id": "Xc-Ik40Hz-Bl",
        "outputId": "74c27473-814a-4c8d-e0bc-54ee8ad9a11a"
      },
      "outputs": [
        {
          "output_type": "stream",
          "name": "stdout",
          "text": [
            "Final number of players: 10226\n"
          ]
        }
      ],
      "source": [
        "# creating dictionary to store the players as vectors\n",
        "dic = {}\n",
        "for name in data[\"player_name\"]:\n",
        "\trow = data[data[\"player_name\"]==name].iloc[[0]]\n",
        "\tname = row.iloc[0][\"player_name\"]\n",
        "\toverall_rating = row.iloc[0][\"overall_rating\"]\n",
        "\tpotential= row.iloc[0][\"potential\"]\n",
        "\tcrossing= row.iloc[0][\"crossing\"]\n",
        "\tfinishing= row.iloc[0][\"finishing\"]\n",
        "\theading_accuracy= row.iloc[0][\"heading_accuracy\"]\n",
        "\tshort_passing= row.iloc[0][\"short_passing\"]\n",
        "\tvolleys= row.iloc[0][\"volleys\"]\n",
        "\tdribbling= row.iloc[0][\"dribbling\"]\n",
        "\tcurve= row.iloc[0][\"curve\"]\n",
        "\tfree_kick_accuracy= row.iloc[0][\"free_kick_accuracy\"]\n",
        "\tlong_passing= row.iloc[0][\"long_passing\"]\n",
        "\tball_control= row.iloc[0][\"ball_control\"]\n",
        "\tacceleration= row.iloc[0][\"acceleration\"]\n",
        "\tsprint_speed= row.iloc[0][\"sprint_speed\"]\n",
        "\tagility= row.iloc[0][\"agility\"]\n",
        "\treactions= row.iloc[0][\"reactions\"]\n",
        "\tbalance= row.iloc[0][\"balance\"]\n",
        "\tshot_power= row.iloc[0][\"shot_power\"]\n",
        "\tjumping= row.iloc[0][\"jumping\"]\n",
        "\tstamina= row.iloc[0][\"stamina\"]\n",
        "\tstrength= row.iloc[0][\"strength\"]\n",
        "\tlong_shots= row.iloc[0][\"long_shots\"]\n",
        "\taggression= row.iloc[0][\"aggression\"]\n",
        "\tinterceptions= row.iloc[0][\"interceptions\"]\n",
        "\tpositioning= row.iloc[0][\"positioning\"]\n",
        "\tvision= row.iloc[0][\"vision\"]\n",
        "\tpenalties=row.iloc[0][\"penalties\"]\n",
        "\tmarking= row.iloc[0][\"marking\"]\n",
        "\tstanding_tackle= row.iloc[0][\"standing_tackle\"]\n",
        "\tsliding_tackle= row.iloc[0][\"sliding_tackle\"]\n",
        "\tgk_diving=row.iloc[0][\"gk_diving\"]\n",
        "\tgk_handling= row.iloc[0][\"gk_handling\"]\n",
        "\tgk_kicking= row.iloc[0][\"gk_kicking\"]\n",
        "\tgk_positioning= row.iloc[0][\"gk_positioning\"]\n",
        "\tgk_reflexes = row.iloc[0][\"gk_reflexes\"]\n",
        "\tvector = (overall_rating,\n",
        "              potential, crossing, finishing, heading_accuracy, short_passing, volleys,\n",
        "              dribbling, curve, free_kick_accuracy, long_passing, ball_control,\n",
        "              acceleration, sprint_speed, agility, reactions, balance, shot_power,\n",
        "              jumping, stamina, strength, long_shots, aggression, interceptions,\n",
        "              positioning, vision, penalties, marking, standing_tackle, sliding_tackle,\n",
        "              gk_diving, gk_handling, gk_kicking, gk_positioning, gk_reflexes)\n",
        "\n",
        "\tdic[name] = vector\n",
        "    \n",
        "print (\"Final number of players:\", len(dic))"
      ]
    },
    {
      "cell_type": "code",
      "execution_count": 34,
      "metadata": {
        "id": "AaD-TiBsYfh3"
      },
      "outputs": [],
      "source": [
        "\n",
        "def manhattan_distance(vector1,vector2):\n",
        "        return sum(abs(vector1[i]-vector2[i]) for i in range(len(vector1)))"
      ]
    },
    {
      "cell_type": "code",
      "execution_count": 35,
      "metadata": {
        "id": "LuETbEBWYygi"
      },
      "outputs": [],
      "source": [
        "# Method that returns an array containing tuples with similar_player_name and manhattan_distance_value\n",
        "def man_dist (asked_player):\n",
        "        vector_player1 = list(dic[asked_player])\n",
        "        similars = {}\n",
        "        for player in dic:\n",
        "                if player!= asked_player:\n",
        "                        vector_player2 = list(dic[player])\n",
        "                        distance = manhattan_distance(vector_player1,vector_player2)\n",
        "                        similars[player]=distance\n",
        "                else:\n",
        "                        pass\n",
        "        similars_names = sorted(similars, key=similars.get, reverse=False)\n",
        "        result = []\n",
        "        cont = 0\n",
        "        for similar in similars_names:\n",
        "                if cont >2:\n",
        "                        break\n",
        "                man_dist = similars[similar]\n",
        "                result.append((similar,man_dist))\n",
        "                cont +=1 \n",
        "        return result"
      ]
    },
    {
      "cell_type": "code",
      "execution_count": 36,
      "metadata": {
        "colab": {
          "base_uri": "https://localhost:8080/"
        },
        "id": "gHU9i4bDPyab",
        "outputId": "36f45b4a-1d85-4fb0-893d-8820aad472b3"
      },
      "outputs": [
        {
          "output_type": "stream",
          "name": "stdout",
          "text": [
            "======================SIMILAR PLAYERS TO LIONEL MESSI======================\n",
            "First:  Arjen Robben  Distance:  184.0\n",
            "Second:  Eden Hazard  Distance:  196.0\n",
            "Third:  Neymar  Distance:  204.0\n"
          ]
        }
      ],
      "source": [
        "similar_players = man_dist(\"Lionel Messi\")\n",
        "print (\"======================SIMILAR PLAYERS TO LIONEL MESSI======================\")\n",
        "print (\"First: \", similar_players[0][0], \" Distance: \",similar_players[0][1])\n",
        "print (\"Second: \", similar_players[1][0], \" Distance: \",similar_players[1][1])\n",
        "print (\"Third: \", similar_players[2][0], \" Distance: \",similar_players[2][1])"
      ]
    },
    {
      "cell_type": "markdown",
      "source": [
        "### ⏩ Preparing the data for model building"
      ],
      "metadata": {
        "id": "SHLnC6tVVkPU"
      }
    },
    {
      "cell_type": "code",
      "execution_count": 37,
      "metadata": {
        "id": "Sa6NLQpXpS23"
      },
      "outputs": [],
      "source": [
        "# removing the non numeric columns\n",
        "cols_to_drop = ['id','player_fifa_api_id','date','birthday','age','preferred_foot',\n",
        "                'attacking_work_rate','defensive_work_rate']"
      ]
    },
    {
      "cell_type": "code",
      "execution_count": 38,
      "metadata": {
        "id": "vsNehZA8xet_"
      },
      "outputs": [],
      "source": [
        "data = data.drop(cols_to_drop, axis=1)"
      ]
    },
    {
      "cell_type": "code",
      "execution_count": 39,
      "metadata": {
        "colab": {
          "base_uri": "https://localhost:8080/"
        },
        "id": "uT3AM2439CQQ",
        "outputId": "3db9fb4f-08ac-4421-a626-650a2de92ea7"
      },
      "outputs": [
        {
          "output_type": "execute_result",
          "data": {
            "text/plain": [
              "(10410, 38)"
            ]
          },
          "metadata": {},
          "execution_count": 39
        }
      ],
      "source": [
        "data.shape"
      ]
    },
    {
      "cell_type": "code",
      "execution_count": 40,
      "metadata": {
        "colab": {
          "base_uri": "https://localhost:8080/"
        },
        "id": "-LFg4JwO9UbR",
        "outputId": "6cc84664-033d-4130-cc22-e8630f15de8c"
      },
      "outputs": [
        {
          "output_type": "stream",
          "name": "stdout",
          "text": [
            "<class 'pandas.core.frame.DataFrame'>\n",
            "Int64Index: 10410 entries, 181048 to 23855\n",
            "Data columns (total 38 columns):\n",
            " #   Column              Non-Null Count  Dtype  \n",
            "---  ------              --------------  -----  \n",
            " 0   player_api_id       10410 non-null  int64  \n",
            " 1   overall_rating      10410 non-null  float64\n",
            " 2   potential           10410 non-null  float64\n",
            " 3   crossing            10410 non-null  float64\n",
            " 4   finishing           10410 non-null  float64\n",
            " 5   heading_accuracy    10410 non-null  float64\n",
            " 6   short_passing       10410 non-null  float64\n",
            " 7   volleys             10410 non-null  float64\n",
            " 8   dribbling           10410 non-null  float64\n",
            " 9   curve               10410 non-null  float64\n",
            " 10  free_kick_accuracy  10410 non-null  float64\n",
            " 11  long_passing        10410 non-null  float64\n",
            " 12  ball_control        10410 non-null  float64\n",
            " 13  acceleration        10410 non-null  float64\n",
            " 14  sprint_speed        10410 non-null  float64\n",
            " 15  agility             10410 non-null  float64\n",
            " 16  reactions           10410 non-null  float64\n",
            " 17  balance             10410 non-null  float64\n",
            " 18  shot_power          10410 non-null  float64\n",
            " 19  jumping             10410 non-null  float64\n",
            " 20  stamina             10410 non-null  float64\n",
            " 21  strength            10410 non-null  float64\n",
            " 22  long_shots          10410 non-null  float64\n",
            " 23  aggression          10410 non-null  float64\n",
            " 24  interceptions       10410 non-null  float64\n",
            " 25  positioning         10410 non-null  float64\n",
            " 26  vision              10410 non-null  float64\n",
            " 27  penalties           10410 non-null  float64\n",
            " 28  marking             10410 non-null  float64\n",
            " 29  standing_tackle     10410 non-null  float64\n",
            " 30  sliding_tackle      10410 non-null  float64\n",
            " 31  gk_diving           10410 non-null  float64\n",
            " 32  gk_handling         10410 non-null  float64\n",
            " 33  gk_kicking          10410 non-null  float64\n",
            " 34  gk_positioning      10410 non-null  float64\n",
            " 35  gk_reflexes         10410 non-null  float64\n",
            " 36  player_name         10410 non-null  object \n",
            " 37  player_id           10410 non-null  int64  \n",
            "dtypes: float64(35), int64(2), object(1)\n",
            "memory usage: 3.1+ MB\n"
          ]
        }
      ],
      "source": [
        "data.info()"
      ]
    },
    {
      "cell_type": "code",
      "execution_count": 41,
      "metadata": {
        "colab": {
          "base_uri": "https://localhost:8080/",
          "height": 1000
        },
        "id": "isv0MunYfiYP",
        "outputId": "2090c41f-f379-4127-822f-857abfdbb957"
      },
      "outputs": [
        {
          "output_type": "execute_result",
          "data": {
            "text/plain": [
              "                      count           mean            std     min      25%  \\\n",
              "player_api_id       10410.0  162993.167147  163070.354823  2625.0  36812.5   \n",
              "overall_rating      10410.0      68.158021       6.264183    47.0     64.0   \n",
              "potential           10410.0      71.027089       6.202544    49.0     67.0   \n",
              "crossing            10410.0      54.173007      17.548591     6.0     44.0   \n",
              "finishing           10410.0      48.290970      19.014680     5.0     33.0   \n",
              "heading_accuracy    10410.0      56.823631      16.728228     7.0     50.0   \n",
              "short_passing       10410.0      61.995869      13.774904    10.0     58.0   \n",
              "volleys             10410.0      47.889145      17.993338     5.0     34.0   \n",
              "dribbling           10410.0      58.061383      17.804523     6.0     51.0   \n",
              "curve               10410.0      51.996061      18.299131     6.0     40.0   \n",
              "free_kick_accuracy  10410.0      48.323151      17.852727     4.0     35.0   \n",
              "long_passing        10410.0      56.424976      14.433491    10.0     49.0   \n",
              "ball_control        10410.0      62.307301      15.375343     9.0     58.0   \n",
              "acceleration        10410.0      64.845725      14.255617    13.0     55.0   \n",
              "sprint_speed        10410.0      65.215466      13.948362    12.0     55.0   \n",
              "agility             10410.0      64.222671      13.852065    16.0     56.0   \n",
              "reactions           10410.0      65.587320       8.294356    24.0     60.0   \n",
              "balance             10410.0      63.704611      13.594150    12.0     56.0   \n",
              "shot_power          10410.0      61.135735      16.483564     6.0     54.0   \n",
              "jumping             10410.0      66.418156      11.447100    21.0     60.0   \n",
              "stamina             10410.0      64.595101      14.508624    10.0     58.0   \n",
              "strength            10410.0      68.313449      11.618012    23.0     61.0   \n",
              "long_shots          10410.0      52.228915      18.496872     6.0     40.0   \n",
              "aggression          10410.0      61.048223      16.339608    11.0     52.0   \n",
              "interceptions       10410.0      50.665418      20.035169     6.0     31.0   \n",
              "positioning         10410.0      53.113737      19.079185     3.0     41.0   \n",
              "vision              10410.0      56.286455      14.564006     3.0     47.0   \n",
              "penalties           10410.0      53.182517      15.931599     7.0     43.0   \n",
              "marking             10410.0      47.133910      21.648870     3.0     25.0   \n",
              "standing_tackle     10410.0      50.656772      21.788882     6.0     29.0   \n",
              "sliding_tackle      10410.0      48.183670      21.701719     5.0     25.0   \n",
              "gk_diving           10410.0      15.567819      17.029382     1.0      8.0   \n",
              "gk_handling         10410.0      15.244957      16.067555     1.0      8.0   \n",
              "gk_kicking          10410.0      15.067051      15.553444     1.0      8.0   \n",
              "gk_positioning      10410.0      15.400096      16.495535     1.0      8.0   \n",
              "gk_reflexes         10410.0      15.620845      17.411590     1.0      8.0   \n",
              "player_id           10410.0  162993.167147  163070.354823  2625.0  36812.5   \n",
              "\n",
              "                         50%       75%       max  \n",
              "player_api_id       106289.0  229753.5  750584.0  \n",
              "overall_rating          68.0      72.0      94.0  \n",
              "potential               71.0      75.0      94.0  \n",
              "crossing                58.0      67.0      92.0  \n",
              "finishing               51.0      64.0      95.0  \n",
              "heading_accuracy        60.0      68.0      95.0  \n",
              "short_passing           65.0      71.0      93.0  \n",
              "volleys                 50.0      62.0      92.0  \n",
              "dribbling               63.0      70.0      96.0  \n",
              "curve                   55.0      66.0      94.0  \n",
              "free_kick_accuracy      49.0      62.0      94.0  \n",
              "long_passing            59.0      66.0      93.0  \n",
              "ball_control            66.0      72.0      96.0  \n",
              "acceleration            67.0      75.0      97.0  \n",
              "sprint_speed            68.0      75.0      96.0  \n",
              "agility                 66.0      74.0      95.0  \n",
              "reactions               66.0      71.0      92.0  \n",
              "balance                 65.0      73.0      96.0  \n",
              "shot_power              65.0      73.0      95.0  \n",
              "jumping                 68.0      74.0      95.0  \n",
              "stamina                 67.0      74.0      95.0  \n",
              "strength                70.0      76.0      96.0  \n",
              "long_shots              57.0      66.0      93.0  \n",
              "aggression              65.0      73.0      94.0  \n",
              "interceptions           56.0      67.0      93.0  \n",
              "positioning             58.0      67.0      94.0  \n",
              "vision                  58.0      67.0      94.0  \n",
              "penalties               55.0      65.0      96.0  \n",
              "marking                 53.0      66.0      90.0  \n",
              "standing_tackle         58.0      69.0      91.0  \n",
              "sliding_tackle          55.0      67.0      95.0  \n",
              "gk_diving               11.0      14.0      88.0  \n",
              "gk_handling             11.0      14.0      87.0  \n",
              "gk_kicking              11.0      14.0      91.0  \n",
              "gk_positioning          11.0      14.0      93.0  \n",
              "gk_reflexes             11.0      14.0      90.0  \n",
              "player_id           106289.0  229753.5  750584.0  "
            ],
            "text/html": [
              "\n",
              "  <div id=\"df-ab15c211-8ac6-42cd-b307-d5ba74c76625\">\n",
              "    <div class=\"colab-df-container\">\n",
              "      <div>\n",
              "<style scoped>\n",
              "    .dataframe tbody tr th:only-of-type {\n",
              "        vertical-align: middle;\n",
              "    }\n",
              "\n",
              "    .dataframe tbody tr th {\n",
              "        vertical-align: top;\n",
              "    }\n",
              "\n",
              "    .dataframe thead th {\n",
              "        text-align: right;\n",
              "    }\n",
              "</style>\n",
              "<table border=\"1\" class=\"dataframe\">\n",
              "  <thead>\n",
              "    <tr style=\"text-align: right;\">\n",
              "      <th></th>\n",
              "      <th>count</th>\n",
              "      <th>mean</th>\n",
              "      <th>std</th>\n",
              "      <th>min</th>\n",
              "      <th>25%</th>\n",
              "      <th>50%</th>\n",
              "      <th>75%</th>\n",
              "      <th>max</th>\n",
              "    </tr>\n",
              "  </thead>\n",
              "  <tbody>\n",
              "    <tr>\n",
              "      <th>player_api_id</th>\n",
              "      <td>10410.0</td>\n",
              "      <td>162993.167147</td>\n",
              "      <td>163070.354823</td>\n",
              "      <td>2625.0</td>\n",
              "      <td>36812.5</td>\n",
              "      <td>106289.0</td>\n",
              "      <td>229753.5</td>\n",
              "      <td>750584.0</td>\n",
              "    </tr>\n",
              "    <tr>\n",
              "      <th>overall_rating</th>\n",
              "      <td>10410.0</td>\n",
              "      <td>68.158021</td>\n",
              "      <td>6.264183</td>\n",
              "      <td>47.0</td>\n",
              "      <td>64.0</td>\n",
              "      <td>68.0</td>\n",
              "      <td>72.0</td>\n",
              "      <td>94.0</td>\n",
              "    </tr>\n",
              "    <tr>\n",
              "      <th>potential</th>\n",
              "      <td>10410.0</td>\n",
              "      <td>71.027089</td>\n",
              "      <td>6.202544</td>\n",
              "      <td>49.0</td>\n",
              "      <td>67.0</td>\n",
              "      <td>71.0</td>\n",
              "      <td>75.0</td>\n",
              "      <td>94.0</td>\n",
              "    </tr>\n",
              "    <tr>\n",
              "      <th>crossing</th>\n",
              "      <td>10410.0</td>\n",
              "      <td>54.173007</td>\n",
              "      <td>17.548591</td>\n",
              "      <td>6.0</td>\n",
              "      <td>44.0</td>\n",
              "      <td>58.0</td>\n",
              "      <td>67.0</td>\n",
              "      <td>92.0</td>\n",
              "    </tr>\n",
              "    <tr>\n",
              "      <th>finishing</th>\n",
              "      <td>10410.0</td>\n",
              "      <td>48.290970</td>\n",
              "      <td>19.014680</td>\n",
              "      <td>5.0</td>\n",
              "      <td>33.0</td>\n",
              "      <td>51.0</td>\n",
              "      <td>64.0</td>\n",
              "      <td>95.0</td>\n",
              "    </tr>\n",
              "    <tr>\n",
              "      <th>heading_accuracy</th>\n",
              "      <td>10410.0</td>\n",
              "      <td>56.823631</td>\n",
              "      <td>16.728228</td>\n",
              "      <td>7.0</td>\n",
              "      <td>50.0</td>\n",
              "      <td>60.0</td>\n",
              "      <td>68.0</td>\n",
              "      <td>95.0</td>\n",
              "    </tr>\n",
              "    <tr>\n",
              "      <th>short_passing</th>\n",
              "      <td>10410.0</td>\n",
              "      <td>61.995869</td>\n",
              "      <td>13.774904</td>\n",
              "      <td>10.0</td>\n",
              "      <td>58.0</td>\n",
              "      <td>65.0</td>\n",
              "      <td>71.0</td>\n",
              "      <td>93.0</td>\n",
              "    </tr>\n",
              "    <tr>\n",
              "      <th>volleys</th>\n",
              "      <td>10410.0</td>\n",
              "      <td>47.889145</td>\n",
              "      <td>17.993338</td>\n",
              "      <td>5.0</td>\n",
              "      <td>34.0</td>\n",
              "      <td>50.0</td>\n",
              "      <td>62.0</td>\n",
              "      <td>92.0</td>\n",
              "    </tr>\n",
              "    <tr>\n",
              "      <th>dribbling</th>\n",
              "      <td>10410.0</td>\n",
              "      <td>58.061383</td>\n",
              "      <td>17.804523</td>\n",
              "      <td>6.0</td>\n",
              "      <td>51.0</td>\n",
              "      <td>63.0</td>\n",
              "      <td>70.0</td>\n",
              "      <td>96.0</td>\n",
              "    </tr>\n",
              "    <tr>\n",
              "      <th>curve</th>\n",
              "      <td>10410.0</td>\n",
              "      <td>51.996061</td>\n",
              "      <td>18.299131</td>\n",
              "      <td>6.0</td>\n",
              "      <td>40.0</td>\n",
              "      <td>55.0</td>\n",
              "      <td>66.0</td>\n",
              "      <td>94.0</td>\n",
              "    </tr>\n",
              "    <tr>\n",
              "      <th>free_kick_accuracy</th>\n",
              "      <td>10410.0</td>\n",
              "      <td>48.323151</td>\n",
              "      <td>17.852727</td>\n",
              "      <td>4.0</td>\n",
              "      <td>35.0</td>\n",
              "      <td>49.0</td>\n",
              "      <td>62.0</td>\n",
              "      <td>94.0</td>\n",
              "    </tr>\n",
              "    <tr>\n",
              "      <th>long_passing</th>\n",
              "      <td>10410.0</td>\n",
              "      <td>56.424976</td>\n",
              "      <td>14.433491</td>\n",
              "      <td>10.0</td>\n",
              "      <td>49.0</td>\n",
              "      <td>59.0</td>\n",
              "      <td>66.0</td>\n",
              "      <td>93.0</td>\n",
              "    </tr>\n",
              "    <tr>\n",
              "      <th>ball_control</th>\n",
              "      <td>10410.0</td>\n",
              "      <td>62.307301</td>\n",
              "      <td>15.375343</td>\n",
              "      <td>9.0</td>\n",
              "      <td>58.0</td>\n",
              "      <td>66.0</td>\n",
              "      <td>72.0</td>\n",
              "      <td>96.0</td>\n",
              "    </tr>\n",
              "    <tr>\n",
              "      <th>acceleration</th>\n",
              "      <td>10410.0</td>\n",
              "      <td>64.845725</td>\n",
              "      <td>14.255617</td>\n",
              "      <td>13.0</td>\n",
              "      <td>55.0</td>\n",
              "      <td>67.0</td>\n",
              "      <td>75.0</td>\n",
              "      <td>97.0</td>\n",
              "    </tr>\n",
              "    <tr>\n",
              "      <th>sprint_speed</th>\n",
              "      <td>10410.0</td>\n",
              "      <td>65.215466</td>\n",
              "      <td>13.948362</td>\n",
              "      <td>12.0</td>\n",
              "      <td>55.0</td>\n",
              "      <td>68.0</td>\n",
              "      <td>75.0</td>\n",
              "      <td>96.0</td>\n",
              "    </tr>\n",
              "    <tr>\n",
              "      <th>agility</th>\n",
              "      <td>10410.0</td>\n",
              "      <td>64.222671</td>\n",
              "      <td>13.852065</td>\n",
              "      <td>16.0</td>\n",
              "      <td>56.0</td>\n",
              "      <td>66.0</td>\n",
              "      <td>74.0</td>\n",
              "      <td>95.0</td>\n",
              "    </tr>\n",
              "    <tr>\n",
              "      <th>reactions</th>\n",
              "      <td>10410.0</td>\n",
              "      <td>65.587320</td>\n",
              "      <td>8.294356</td>\n",
              "      <td>24.0</td>\n",
              "      <td>60.0</td>\n",
              "      <td>66.0</td>\n",
              "      <td>71.0</td>\n",
              "      <td>92.0</td>\n",
              "    </tr>\n",
              "    <tr>\n",
              "      <th>balance</th>\n",
              "      <td>10410.0</td>\n",
              "      <td>63.704611</td>\n",
              "      <td>13.594150</td>\n",
              "      <td>12.0</td>\n",
              "      <td>56.0</td>\n",
              "      <td>65.0</td>\n",
              "      <td>73.0</td>\n",
              "      <td>96.0</td>\n",
              "    </tr>\n",
              "    <tr>\n",
              "      <th>shot_power</th>\n",
              "      <td>10410.0</td>\n",
              "      <td>61.135735</td>\n",
              "      <td>16.483564</td>\n",
              "      <td>6.0</td>\n",
              "      <td>54.0</td>\n",
              "      <td>65.0</td>\n",
              "      <td>73.0</td>\n",
              "      <td>95.0</td>\n",
              "    </tr>\n",
              "    <tr>\n",
              "      <th>jumping</th>\n",
              "      <td>10410.0</td>\n",
              "      <td>66.418156</td>\n",
              "      <td>11.447100</td>\n",
              "      <td>21.0</td>\n",
              "      <td>60.0</td>\n",
              "      <td>68.0</td>\n",
              "      <td>74.0</td>\n",
              "      <td>95.0</td>\n",
              "    </tr>\n",
              "    <tr>\n",
              "      <th>stamina</th>\n",
              "      <td>10410.0</td>\n",
              "      <td>64.595101</td>\n",
              "      <td>14.508624</td>\n",
              "      <td>10.0</td>\n",
              "      <td>58.0</td>\n",
              "      <td>67.0</td>\n",
              "      <td>74.0</td>\n",
              "      <td>95.0</td>\n",
              "    </tr>\n",
              "    <tr>\n",
              "      <th>strength</th>\n",
              "      <td>10410.0</td>\n",
              "      <td>68.313449</td>\n",
              "      <td>11.618012</td>\n",
              "      <td>23.0</td>\n",
              "      <td>61.0</td>\n",
              "      <td>70.0</td>\n",
              "      <td>76.0</td>\n",
              "      <td>96.0</td>\n",
              "    </tr>\n",
              "    <tr>\n",
              "      <th>long_shots</th>\n",
              "      <td>10410.0</td>\n",
              "      <td>52.228915</td>\n",
              "      <td>18.496872</td>\n",
              "      <td>6.0</td>\n",
              "      <td>40.0</td>\n",
              "      <td>57.0</td>\n",
              "      <td>66.0</td>\n",
              "      <td>93.0</td>\n",
              "    </tr>\n",
              "    <tr>\n",
              "      <th>aggression</th>\n",
              "      <td>10410.0</td>\n",
              "      <td>61.048223</td>\n",
              "      <td>16.339608</td>\n",
              "      <td>11.0</td>\n",
              "      <td>52.0</td>\n",
              "      <td>65.0</td>\n",
              "      <td>73.0</td>\n",
              "      <td>94.0</td>\n",
              "    </tr>\n",
              "    <tr>\n",
              "      <th>interceptions</th>\n",
              "      <td>10410.0</td>\n",
              "      <td>50.665418</td>\n",
              "      <td>20.035169</td>\n",
              "      <td>6.0</td>\n",
              "      <td>31.0</td>\n",
              "      <td>56.0</td>\n",
              "      <td>67.0</td>\n",
              "      <td>93.0</td>\n",
              "    </tr>\n",
              "    <tr>\n",
              "      <th>positioning</th>\n",
              "      <td>10410.0</td>\n",
              "      <td>53.113737</td>\n",
              "      <td>19.079185</td>\n",
              "      <td>3.0</td>\n",
              "      <td>41.0</td>\n",
              "      <td>58.0</td>\n",
              "      <td>67.0</td>\n",
              "      <td>94.0</td>\n",
              "    </tr>\n",
              "    <tr>\n",
              "      <th>vision</th>\n",
              "      <td>10410.0</td>\n",
              "      <td>56.286455</td>\n",
              "      <td>14.564006</td>\n",
              "      <td>3.0</td>\n",
              "      <td>47.0</td>\n",
              "      <td>58.0</td>\n",
              "      <td>67.0</td>\n",
              "      <td>94.0</td>\n",
              "    </tr>\n",
              "    <tr>\n",
              "      <th>penalties</th>\n",
              "      <td>10410.0</td>\n",
              "      <td>53.182517</td>\n",
              "      <td>15.931599</td>\n",
              "      <td>7.0</td>\n",
              "      <td>43.0</td>\n",
              "      <td>55.0</td>\n",
              "      <td>65.0</td>\n",
              "      <td>96.0</td>\n",
              "    </tr>\n",
              "    <tr>\n",
              "      <th>marking</th>\n",
              "      <td>10410.0</td>\n",
              "      <td>47.133910</td>\n",
              "      <td>21.648870</td>\n",
              "      <td>3.0</td>\n",
              "      <td>25.0</td>\n",
              "      <td>53.0</td>\n",
              "      <td>66.0</td>\n",
              "      <td>90.0</td>\n",
              "    </tr>\n",
              "    <tr>\n",
              "      <th>standing_tackle</th>\n",
              "      <td>10410.0</td>\n",
              "      <td>50.656772</td>\n",
              "      <td>21.788882</td>\n",
              "      <td>6.0</td>\n",
              "      <td>29.0</td>\n",
              "      <td>58.0</td>\n",
              "      <td>69.0</td>\n",
              "      <td>91.0</td>\n",
              "    </tr>\n",
              "    <tr>\n",
              "      <th>sliding_tackle</th>\n",
              "      <td>10410.0</td>\n",
              "      <td>48.183670</td>\n",
              "      <td>21.701719</td>\n",
              "      <td>5.0</td>\n",
              "      <td>25.0</td>\n",
              "      <td>55.0</td>\n",
              "      <td>67.0</td>\n",
              "      <td>95.0</td>\n",
              "    </tr>\n",
              "    <tr>\n",
              "      <th>gk_diving</th>\n",
              "      <td>10410.0</td>\n",
              "      <td>15.567819</td>\n",
              "      <td>17.029382</td>\n",
              "      <td>1.0</td>\n",
              "      <td>8.0</td>\n",
              "      <td>11.0</td>\n",
              "      <td>14.0</td>\n",
              "      <td>88.0</td>\n",
              "    </tr>\n",
              "    <tr>\n",
              "      <th>gk_handling</th>\n",
              "      <td>10410.0</td>\n",
              "      <td>15.244957</td>\n",
              "      <td>16.067555</td>\n",
              "      <td>1.0</td>\n",
              "      <td>8.0</td>\n",
              "      <td>11.0</td>\n",
              "      <td>14.0</td>\n",
              "      <td>87.0</td>\n",
              "    </tr>\n",
              "    <tr>\n",
              "      <th>gk_kicking</th>\n",
              "      <td>10410.0</td>\n",
              "      <td>15.067051</td>\n",
              "      <td>15.553444</td>\n",
              "      <td>1.0</td>\n",
              "      <td>8.0</td>\n",
              "      <td>11.0</td>\n",
              "      <td>14.0</td>\n",
              "      <td>91.0</td>\n",
              "    </tr>\n",
              "    <tr>\n",
              "      <th>gk_positioning</th>\n",
              "      <td>10410.0</td>\n",
              "      <td>15.400096</td>\n",
              "      <td>16.495535</td>\n",
              "      <td>1.0</td>\n",
              "      <td>8.0</td>\n",
              "      <td>11.0</td>\n",
              "      <td>14.0</td>\n",
              "      <td>93.0</td>\n",
              "    </tr>\n",
              "    <tr>\n",
              "      <th>gk_reflexes</th>\n",
              "      <td>10410.0</td>\n",
              "      <td>15.620845</td>\n",
              "      <td>17.411590</td>\n",
              "      <td>1.0</td>\n",
              "      <td>8.0</td>\n",
              "      <td>11.0</td>\n",
              "      <td>14.0</td>\n",
              "      <td>90.0</td>\n",
              "    </tr>\n",
              "    <tr>\n",
              "      <th>player_id</th>\n",
              "      <td>10410.0</td>\n",
              "      <td>162993.167147</td>\n",
              "      <td>163070.354823</td>\n",
              "      <td>2625.0</td>\n",
              "      <td>36812.5</td>\n",
              "      <td>106289.0</td>\n",
              "      <td>229753.5</td>\n",
              "      <td>750584.0</td>\n",
              "    </tr>\n",
              "  </tbody>\n",
              "</table>\n",
              "</div>\n",
              "      <button class=\"colab-df-convert\" onclick=\"convertToInteractive('df-ab15c211-8ac6-42cd-b307-d5ba74c76625')\"\n",
              "              title=\"Convert this dataframe to an interactive table.\"\n",
              "              style=\"display:none;\">\n",
              "        \n",
              "  <svg xmlns=\"http://www.w3.org/2000/svg\" height=\"24px\"viewBox=\"0 0 24 24\"\n",
              "       width=\"24px\">\n",
              "    <path d=\"M0 0h24v24H0V0z\" fill=\"none\"/>\n",
              "    <path d=\"M18.56 5.44l.94 2.06.94-2.06 2.06-.94-2.06-.94-.94-2.06-.94 2.06-2.06.94zm-11 1L8.5 8.5l.94-2.06 2.06-.94-2.06-.94L8.5 2.5l-.94 2.06-2.06.94zm10 10l.94 2.06.94-2.06 2.06-.94-2.06-.94-.94-2.06-.94 2.06-2.06.94z\"/><path d=\"M17.41 7.96l-1.37-1.37c-.4-.4-.92-.59-1.43-.59-.52 0-1.04.2-1.43.59L10.3 9.45l-7.72 7.72c-.78.78-.78 2.05 0 2.83L4 21.41c.39.39.9.59 1.41.59.51 0 1.02-.2 1.41-.59l7.78-7.78 2.81-2.81c.8-.78.8-2.07 0-2.86zM5.41 20L4 18.59l7.72-7.72 1.47 1.35L5.41 20z\"/>\n",
              "  </svg>\n",
              "      </button>\n",
              "      \n",
              "  <style>\n",
              "    .colab-df-container {\n",
              "      display:flex;\n",
              "      flex-wrap:wrap;\n",
              "      gap: 12px;\n",
              "    }\n",
              "\n",
              "    .colab-df-convert {\n",
              "      background-color: #E8F0FE;\n",
              "      border: none;\n",
              "      border-radius: 50%;\n",
              "      cursor: pointer;\n",
              "      display: none;\n",
              "      fill: #1967D2;\n",
              "      height: 32px;\n",
              "      padding: 0 0 0 0;\n",
              "      width: 32px;\n",
              "    }\n",
              "\n",
              "    .colab-df-convert:hover {\n",
              "      background-color: #E2EBFA;\n",
              "      box-shadow: 0px 1px 2px rgba(60, 64, 67, 0.3), 0px 1px 3px 1px rgba(60, 64, 67, 0.15);\n",
              "      fill: #174EA6;\n",
              "    }\n",
              "\n",
              "    [theme=dark] .colab-df-convert {\n",
              "      background-color: #3B4455;\n",
              "      fill: #D2E3FC;\n",
              "    }\n",
              "\n",
              "    [theme=dark] .colab-df-convert:hover {\n",
              "      background-color: #434B5C;\n",
              "      box-shadow: 0px 1px 3px 1px rgba(0, 0, 0, 0.15);\n",
              "      filter: drop-shadow(0px 1px 2px rgba(0, 0, 0, 0.3));\n",
              "      fill: #FFFFFF;\n",
              "    }\n",
              "  </style>\n",
              "\n",
              "      <script>\n",
              "        const buttonEl =\n",
              "          document.querySelector('#df-ab15c211-8ac6-42cd-b307-d5ba74c76625 button.colab-df-convert');\n",
              "        buttonEl.style.display =\n",
              "          google.colab.kernel.accessAllowed ? 'block' : 'none';\n",
              "\n",
              "        async function convertToInteractive(key) {\n",
              "          const element = document.querySelector('#df-ab15c211-8ac6-42cd-b307-d5ba74c76625');\n",
              "          const dataTable =\n",
              "            await google.colab.kernel.invokeFunction('convertToInteractive',\n",
              "                                                     [key], {});\n",
              "          if (!dataTable) return;\n",
              "\n",
              "          const docLinkHtml = 'Like what you see? Visit the ' +\n",
              "            '<a target=\"_blank\" href=https://colab.research.google.com/notebooks/data_table.ipynb>data table notebook</a>'\n",
              "            + ' to learn more about interactive tables.';\n",
              "          element.innerHTML = '';\n",
              "          dataTable['output_type'] = 'display_data';\n",
              "          await google.colab.output.renderOutput(dataTable, element);\n",
              "          const docLink = document.createElement('div');\n",
              "          docLink.innerHTML = docLinkHtml;\n",
              "          element.appendChild(docLink);\n",
              "        }\n",
              "      </script>\n",
              "    </div>\n",
              "  </div>\n",
              "  "
            ]
          },
          "metadata": {},
          "execution_count": 41
        }
      ],
      "source": [
        "data.describe().transpose()"
      ]
    },
    {
      "cell_type": "code",
      "execution_count": 42,
      "metadata": {
        "colab": {
          "base_uri": "https://localhost:8080/"
        },
        "id": "FjjSurXAGWXD",
        "outputId": "0d11ec2f-d9b3-41c9-e869-3a87f424dded"
      },
      "outputs": [
        {
          "output_type": "execute_result",
          "data": {
            "text/plain": [
              "player_api_id         0\n",
              "overall_rating        0\n",
              "potential             0\n",
              "crossing              0\n",
              "finishing             0\n",
              "heading_accuracy      0\n",
              "short_passing         0\n",
              "volleys               0\n",
              "dribbling             0\n",
              "curve                 0\n",
              "free_kick_accuracy    0\n",
              "long_passing          0\n",
              "ball_control          0\n",
              "acceleration          0\n",
              "sprint_speed          0\n",
              "agility               0\n",
              "reactions             0\n",
              "balance               0\n",
              "shot_power            0\n",
              "jumping               0\n",
              "stamina               0\n",
              "strength              0\n",
              "long_shots            0\n",
              "aggression            0\n",
              "interceptions         0\n",
              "positioning           0\n",
              "vision                0\n",
              "penalties             0\n",
              "marking               0\n",
              "standing_tackle       0\n",
              "sliding_tackle        0\n",
              "gk_diving             0\n",
              "gk_handling           0\n",
              "gk_kicking            0\n",
              "gk_positioning        0\n",
              "gk_reflexes           0\n",
              "player_name           0\n",
              "player_id             0\n",
              "dtype: int64"
            ]
          },
          "metadata": {},
          "execution_count": 42
        }
      ],
      "source": [
        "data.isnull().sum(axis=0)"
      ]
    },
    {
      "cell_type": "markdown",
      "metadata": {
        "id": "LuNtijnGIqyc"
      },
      "source": [
        "Removing the rows with null values"
      ]
    },
    {
      "cell_type": "code",
      "execution_count": 43,
      "metadata": {
        "id": "yKNj1ugQIegJ"
      },
      "outputs": [],
      "source": [
        "initial_rows = data.shape[0]\n",
        "df = data.copy()\n",
        "# Dropping the null rows if any\n",
        "player_df = df.dropna()"
      ]
    },
    {
      "cell_type": "code",
      "execution_count": 44,
      "metadata": {
        "colab": {
          "base_uri": "https://localhost:8080/",
          "height": 895
        },
        "id": "GafkQmS3y9UA",
        "outputId": "c2b0063b-6377-4d0d-8b1e-b7e8a5c245cd"
      },
      "outputs": [
        {
          "output_type": "display_data",
          "data": {
            "text/plain": [
              "<Figure size 1944x1224 with 42 Axes>"
            ],
            "image/png": "[encoded data removed]"
          },
          "metadata": {}
        }
      ],
      "source": [
        "player_df.hist(bins=40, figsize=(27,17))\n",
        "plt.show()"
      ]
    },
    {
      "cell_type": "code",
      "execution_count": 45,
      "metadata": {
        "colab": {
          "base_uri": "https://localhost:8080/",
          "height": 386
        },
        "id": "5aG1ouyEuTcr",
        "outputId": "b7464e83-93a1-4b1f-8f4a-0938829bc857"
      },
      "outputs": [
        {
          "output_type": "execute_result",
          "data": {
            "text/plain": [
              "        player_api_id  overall_rating  potential  crossing  finishing  \\\n",
              "181048         512726            63.0       72.0      51.0       66.0   \n",
              "1329           495841            72.0       84.0      49.0       78.0   \n",
              "153508          45400            68.0       70.0      33.0       70.0   \n",
              "95620          307224            64.0       68.0      44.0       63.0   \n",
              "18845          317932            66.0       76.0      37.0       27.0   \n",
              "\n",
              "        heading_accuracy  short_passing  volleys  dribbling  curve  ...  \\\n",
              "181048              55.0           57.0     60.0       64.0   50.0  ...   \n",
              "1329                71.0           63.0     56.0       74.0   45.0  ...   \n",
              "153508              56.0           63.0     60.0       63.0   55.0  ...   \n",
              "95620               73.0           49.0     52.0       52.0   42.0  ...   \n",
              "18845               60.0           47.0     32.0       32.0   31.0  ...   \n",
              "\n",
              "        marking  standing_tackle  sliding_tackle  gk_diving  gk_handling  \\\n",
              "181048     15.0             16.0            12.0       11.0         12.0   \n",
              "1329       20.0             20.0            21.0        6.0         14.0   \n",
              "153508     23.0             17.0            23.0       13.0         11.0   \n",
              "95620      22.0             22.0            25.0       12.0         12.0   \n",
              "18845      72.0             73.0            70.0       12.0         11.0   \n",
              "\n",
              "        gk_kicking  gk_positioning  gk_reflexes          player_name  \\\n",
              "181048        12.0            12.0          7.0   Yanis Mbombo Lokwa   \n",
              "1329          13.0             8.0          6.0  Adalberto Penaranda   \n",
              "153508         6.0             9.0         14.0      Ronnie Schwartz   \n",
              "95620          7.0            11.0         12.0       Kevin Koubemba   \n",
              "18845         12.0            15.0          7.0        Baptiste Aloe   \n",
              "\n",
              "        player_id  \n",
              "181048     512726  \n",
              "1329       495841  \n",
              "153508      45400  \n",
              "95620      307224  \n",
              "18845      317932  \n",
              "\n",
              "[5 rows x 38 columns]"
            ],
            "text/html": [
              "\n",
              "  <div id=\"df-09f7b4b2-0f90-4e31-a3e8-d249abad56a4\">\n",
              "    <div class=\"colab-df-container\">\n",
              "      <div>\n",
              "<style scoped>\n",
              "    .dataframe tbody tr th:only-of-type {\n",
              "        vertical-align: middle;\n",
              "    }\n",
              "\n",
              "    .dataframe tbody tr th {\n",
              "        vertical-align: top;\n",
              "    }\n",
              "\n",
              "    .dataframe thead th {\n",
              "        text-align: right;\n",
              "    }\n",
              "</style>\n",
              "<table border=\"1\" class=\"dataframe\">\n",
              "  <thead>\n",
              "    <tr style=\"text-align: right;\">\n",
              "      <th></th>\n",
              "      <th>player_api_id</th>\n",
              "      <th>overall_rating</th>\n",
              "      <th>potential</th>\n",
              "      <th>crossing</th>\n",
              "      <th>finishing</th>\n",
              "      <th>heading_accuracy</th>\n",
              "      <th>short_passing</th>\n",
              "      <th>volleys</th>\n",
              "      <th>dribbling</th>\n",
              "      <th>curve</th>\n",
              "      <th>...</th>\n",
              "      <th>marking</th>\n",
              "      <th>standing_tackle</th>\n",
              "      <th>sliding_tackle</th>\n",
              "      <th>gk_diving</th>\n",
              "      <th>gk_handling</th>\n",
              "      <th>gk_kicking</th>\n",
              "      <th>gk_positioning</th>\n",
              "      <th>gk_reflexes</th>\n",
              "      <th>player_name</th>\n",
              "      <th>player_id</th>\n",
              "    </tr>\n",
              "  </thead>\n",
              "  <tbody>\n",
              "    <tr>\n",
              "      <th>181048</th>\n",
              "      <td>512726</td>\n",
              "      <td>63.0</td>\n",
              "      <td>72.0</td>\n",
              "      <td>51.0</td>\n",
              "      <td>66.0</td>\n",
              "      <td>55.0</td>\n",
              "      <td>57.0</td>\n",
              "      <td>60.0</td>\n",
              "      <td>64.0</td>\n",
              "      <td>50.0</td>\n",
              "      <td>...</td>\n",
              "      <td>15.0</td>\n",
              "      <td>16.0</td>\n",
              "      <td>12.0</td>\n",
              "      <td>11.0</td>\n",
              "      <td>12.0</td>\n",
              "      <td>12.0</td>\n",
              "      <td>12.0</td>\n",
              "      <td>7.0</td>\n",
              "      <td>Yanis Mbombo Lokwa</td>\n",
              "      <td>512726</td>\n",
              "    </tr>\n",
              "    <tr>\n",
              "      <th>1329</th>\n",
              "      <td>495841</td>\n",
              "      <td>72.0</td>\n",
              "      <td>84.0</td>\n",
              "      <td>49.0</td>\n",
              "      <td>78.0</td>\n",
              "      <td>71.0</td>\n",
              "      <td>63.0</td>\n",
              "      <td>56.0</td>\n",
              "      <td>74.0</td>\n",
              "      <td>45.0</td>\n",
              "      <td>...</td>\n",
              "      <td>20.0</td>\n",
              "      <td>20.0</td>\n",
              "      <td>21.0</td>\n",
              "      <td>6.0</td>\n",
              "      <td>14.0</td>\n",
              "      <td>13.0</td>\n",
              "      <td>8.0</td>\n",
              "      <td>6.0</td>\n",
              "      <td>Adalberto Penaranda</td>\n",
              "      <td>495841</td>\n",
              "    </tr>\n",
              "    <tr>\n",
              "      <th>153508</th>\n",
              "      <td>45400</td>\n",
              "      <td>68.0</td>\n",
              "      <td>70.0</td>\n",
              "      <td>33.0</td>\n",
              "      <td>70.0</td>\n",
              "      <td>56.0</td>\n",
              "      <td>63.0</td>\n",
              "      <td>60.0</td>\n",
              "      <td>63.0</td>\n",
              "      <td>55.0</td>\n",
              "      <td>...</td>\n",
              "      <td>23.0</td>\n",
              "      <td>17.0</td>\n",
              "      <td>23.0</td>\n",
              "      <td>13.0</td>\n",
              "      <td>11.0</td>\n",
              "      <td>6.0</td>\n",
              "      <td>9.0</td>\n",
              "      <td>14.0</td>\n",
              "      <td>Ronnie Schwartz</td>\n",
              "      <td>45400</td>\n",
              "    </tr>\n",
              "    <tr>\n",
              "      <th>95620</th>\n",
              "      <td>307224</td>\n",
              "      <td>64.0</td>\n",
              "      <td>68.0</td>\n",
              "      <td>44.0</td>\n",
              "      <td>63.0</td>\n",
              "      <td>73.0</td>\n",
              "      <td>49.0</td>\n",
              "      <td>52.0</td>\n",
              "      <td>52.0</td>\n",
              "      <td>42.0</td>\n",
              "      <td>...</td>\n",
              "      <td>22.0</td>\n",
              "      <td>22.0</td>\n",
              "      <td>25.0</td>\n",
              "      <td>12.0</td>\n",
              "      <td>12.0</td>\n",
              "      <td>7.0</td>\n",
              "      <td>11.0</td>\n",
              "      <td>12.0</td>\n",
              "      <td>Kevin Koubemba</td>\n",
              "      <td>307224</td>\n",
              "    </tr>\n",
              "    <tr>\n",
              "      <th>18845</th>\n",
              "      <td>317932</td>\n",
              "      <td>66.0</td>\n",
              "      <td>76.0</td>\n",
              "      <td>37.0</td>\n",
              "      <td>27.0</td>\n",
              "      <td>60.0</td>\n",
              "      <td>47.0</td>\n",
              "      <td>32.0</td>\n",
              "      <td>32.0</td>\n",
              "      <td>31.0</td>\n",
              "      <td>...</td>\n",
              "      <td>72.0</td>\n",
              "      <td>73.0</td>\n",
              "      <td>70.0</td>\n",
              "      <td>12.0</td>\n",
              "      <td>11.0</td>\n",
              "      <td>12.0</td>\n",
              "      <td>15.0</td>\n",
              "      <td>7.0</td>\n",
              "      <td>Baptiste Aloe</td>\n",
              "      <td>317932</td>\n",
              "    </tr>\n",
              "  </tbody>\n",
              "</table>\n",
              "<p>5 rows × 38 columns</p>\n",
              "</div>\n",
              "      <button class=\"colab-df-convert\" onclick=\"convertToInteractive('df-09f7b4b2-0f90-4e31-a3e8-d249abad56a4')\"\n",
              "              title=\"Convert this dataframe to an interactive table.\"\n",
              "              style=\"display:none;\">\n",
              "        \n",
              "  <svg xmlns=\"http://www.w3.org/2000/svg\" height=\"24px\"viewBox=\"0 0 24 24\"\n",
              "       width=\"24px\">\n",
              "    <path d=\"M0 0h24v24H0V0z\" fill=\"none\"/>\n",
              "    <path d=\"M18.56 5.44l.94 2.06.94-2.06 2.06-.94-2.06-.94-.94-2.06-.94 2.06-2.06.94zm-11 1L8.5 8.5l.94-2.06 2.06-.94-2.06-.94L8.5 2.5l-.94 2.06-2.06.94zm10 10l.94 2.06.94-2.06 2.06-.94-2.06-.94-.94-2.06-.94 2.06-2.06.94z\"/><path d=\"M17.41 7.96l-1.37-1.37c-.4-.4-.92-.59-1.43-.59-.52 0-1.04.2-1.43.59L10.3 9.45l-7.72 7.72c-.78.78-.78 2.05 0 2.83L4 21.41c.39.39.9.59 1.41.59.51 0 1.02-.2 1.41-.59l7.78-7.78 2.81-2.81c.8-.78.8-2.07 0-2.86zM5.41 20L4 18.59l7.72-7.72 1.47 1.35L5.41 20z\"/>\n",
              "  </svg>\n",
              "      </button>\n",
              "      \n",
              "  <style>\n",
              "    .colab-df-container {\n",
              "      display:flex;\n",
              "      flex-wrap:wrap;\n",
              "      gap: 12px;\n",
              "    }\n",
              "\n",
              "    .colab-df-convert {\n",
              "      background-color: #E8F0FE;\n",
              "      border: none;\n",
              "      border-radius: 50%;\n",
              "      cursor: pointer;\n",
              "      display: none;\n",
              "      fill: #1967D2;\n",
              "      height: 32px;\n",
              "      padding: 0 0 0 0;\n",
              "      width: 32px;\n",
              "    }\n",
              "\n",
              "    .colab-df-convert:hover {\n",
              "      background-color: #E2EBFA;\n",
              "      box-shadow: 0px 1px 2px rgba(60, 64, 67, 0.3), 0px 1px 3px 1px rgba(60, 64, 67, 0.15);\n",
              "      fill: #174EA6;\n",
              "    }\n",
              "\n",
              "    [theme=dark] .colab-df-convert {\n",
              "      background-color: #3B4455;\n",
              "      fill: #D2E3FC;\n",
              "    }\n",
              "\n",
              "    [theme=dark] .colab-df-convert:hover {\n",
              "      background-color: #434B5C;\n",
              "      box-shadow: 0px 1px 3px 1px rgba(0, 0, 0, 0.15);\n",
              "      filter: drop-shadow(0px 1px 2px rgba(0, 0, 0, 0.3));\n",
              "      fill: #FFFFFF;\n",
              "    }\n",
              "  </style>\n",
              "\n",
              "      <script>\n",
              "        const buttonEl =\n",
              "          document.querySelector('#df-09f7b4b2-0f90-4e31-a3e8-d249abad56a4 button.colab-df-convert');\n",
              "        buttonEl.style.display =\n",
              "          google.colab.kernel.accessAllowed ? 'block' : 'none';\n",
              "\n",
              "        async function convertToInteractive(key) {\n",
              "          const element = document.querySelector('#df-09f7b4b2-0f90-4e31-a3e8-d249abad56a4');\n",
              "          const dataTable =\n",
              "            await google.colab.kernel.invokeFunction('convertToInteractive',\n",
              "                                                     [key], {});\n",
              "          if (!dataTable) return;\n",
              "\n",
              "          const docLinkHtml = 'Like what you see? Visit the ' +\n",
              "            '<a target=\"_blank\" href=https://colab.research.google.com/notebooks/data_table.ipynb>data table notebook</a>'\n",
              "            + ' to learn more about interactive tables.';\n",
              "          element.innerHTML = '';\n",
              "          dataTable['output_type'] = 'display_data';\n",
              "          await google.colab.output.renderOutput(dataTable, element);\n",
              "          const docLink = document.createElement('div');\n",
              "          docLink.innerHTML = docLinkHtml;\n",
              "          element.appendChild(docLink);\n",
              "        }\n",
              "      </script>\n",
              "    </div>\n",
              "  </div>\n",
              "  "
            ]
          },
          "metadata": {},
          "execution_count": 45
        }
      ],
      "source": [
        "player_df.head(5)"
      ]
    },
    {
      "cell_type": "markdown",
      "source": [
        "### ⏩ t-SNE plot of players with rating above 80"
      ],
      "metadata": {
        "id": "UCCAUccw-Fcv"
      }
    },
    {
      "cell_type": "code",
      "source": [
        "# standardizing the features and fitting the data for tsne\n",
        "cols = ['player_api_id','player_name','overall_rating']\n",
        "feat_cols = [col for col in player_df.columns if col not in (cols)]\n",
        "\n",
        "ss = StandardScaler()\n",
        "temp = ss.fit_transform(player_df[feat_cols])\n",
        "tsne = TSNE(n_components=2, random_state=0)\n",
        "tsne_result = tsne.fit_transform(temp)"
      ],
      "metadata": {
        "id": "z6_InFjZ-HPy"
      },
      "execution_count": 46,
      "outputs": []
    },
    {
      "cell_type": "code",
      "source": [
        "# only the player ratings above 80 are considered\n",
        "temp = player_df[cols]\n",
        "temp['tsne-one'], temp['tsne-two'] = tsne_result[:,0], tsne_result[:,1]\n",
        "temp = temp[temp.overall_rating >= 80]"
      ],
      "metadata": {
        "id": "d0eGTeWG-hXM"
      },
      "execution_count": 47,
      "outputs": []
    },
    {
      "cell_type": "code",
      "source": [
        "_tools = 'box_zoom,pan,save,reset,tap,wheel_zoom'\n",
        "fig = figure(tools=_tools, title='t-SNE of Players',\n",
        "             x_axis_label='TSNE 1', y_axis_label='TSNE 2')\n",
        "\n",
        "source = ColumnDataSource(temp)\n",
        "hover = HoverTool()\n",
        "hover.tooltips=[('Player','@player_name'),]\n",
        "fig.scatter(x='tsne-one', y='tsne-two', source=source, size=8, alpha=0.6,\n",
        "            line_color='red', fill_color='red')\n",
        "\n",
        "fig.add_tools(hover)\n",
        "\n",
        "show(fig)"
      ],
      "metadata": {
        "colab": {
          "base_uri": "https://localhost:8080/",
          "height": 617
        },
        "id": "Wd4HQ0F_FmMv",
        "outputId": "43a9489d-256a-4068-a4f5-d413352d3283"
      },
      "execution_count": 48,
      "outputs": [
        {
          "output_type": "display_data",
          "data": {
            "application/javascript": [
              "\n",
              "(function(root) {\n",
              "  function now() {\n",
              "    return new Date();\n",
              "  }\n",
              "\n",
              "  var force = true;\n",
              "\n",
              "  if (typeof root._bokeh_onload_callbacks === \"undefined\" || force === true) {\n",
              "    root._bokeh_onload_callbacks = [];\n",
              "    root._bokeh_is_loading = undefined;\n",
              "  }\n",
              "\n",
              "  var JS_MIME_TYPE = 'application/javascript';\n",
              "  var HTML_MIME_TYPE = 'text/html';\n",
              "  var EXEC_MIME_TYPE = 'application/vnd.bokehjs_exec.v0+json';\n",
              "  var CLASS_NAME = 'output_bokeh rendered_html';\n",
              "\n",
              "  /**\n",
              "   * Render data to the DOM node\n",
              "   */\n",
              "  function render(props, node) {\n",
              "    var script = document.createElement(\"script\");\n",
              "    node.appendChild(script);\n",
              "  }\n",
              "\n",
              "  /**\n",
              "   * Handle when an output is cleared or removed\n",
              "   */\n",
              "  function handleClearOutput(event, handle) {\n",
              "    var cell = handle.cell;\n",
              "\n",
              "    var id = cell.output_area._bokeh_element_id;\n",
              "    var server_id = cell.output_area._bokeh_server_id;\n",
              "    // Clean up Bokeh references\n",
              "    if (id != null && id in Bokeh.index) {\n",
              "      Bokeh.index[id].model.document.clear();\n",
              "      delete Bokeh.index[id];\n",
              "    }\n",
              "\n",
              "    if (server_id !== undefined) {\n",
              "      // Clean up Bokeh references\n",
              "      var cmd = \"from bokeh.io.state import curstate; print(curstate().uuid_to_server['\" + server_id + \"'].get_sessions()[0].document.roots[0]._id)\";\n",
              "      cell.notebook.kernel.execute(cmd, {\n",
              "        iopub: {\n",
              "          output: function(msg) {\n",
              "            var id = msg.content.text.trim();\n",
              "            if (id in Bokeh.index) {\n",
              "              Bokeh.index[id].model.document.clear();\n",
              "              delete Bokeh.index[id];\n",
              "            }\n",
              "          }\n",
              "        }\n",
              "      });\n",
              "      // Destroy server and session\n",
              "      var cmd = \"import bokeh.io.notebook as ion; ion.destroy_server('\" + server_id + \"')\";\n",
              "      cell.notebook.kernel.execute(cmd);\n",
              "    }\n",
              "  }\n",
              "\n",
              "  /**\n",
              "   * Handle when a new output is added\n",
              "   */\n",
              "  function handleAddOutput(event, handle) {\n",
              "    var output_area = handle.output_area;\n",
              "    var output = handle.output;\n",
              "\n",
              "    // limit handleAddOutput to display_data with EXEC_MIME_TYPE content only\n",
              "    if ((output.output_type != \"display_data\") || (!Object.prototype.hasOwnProperty.call(output.data, EXEC_MIME_TYPE))) {\n",
              "      return\n",
              "    }\n",
              "\n",
              "    var toinsert = output_area.element.find(\".\" + CLASS_NAME.split(' ')[0]);\n",
              "\n",
              "    if (output.metadata[EXEC_MIME_TYPE][\"id\"] !== undefined) {\n",
              "      toinsert[toinsert.length - 1].firstChild.textContent = output.data[JS_MIME_TYPE];\n",
              "      // store reference to embed id on output_area\n",
              "      output_area._bokeh_element_id = output.metadata[EXEC_MIME_TYPE][\"id\"];\n",
              "    }\n",
              "    if (output.metadata[EXEC_MIME_TYPE][\"server_id\"] !== undefined) {\n",
              "      var bk_div = document.createElement(\"div\");\n",
              "      bk_div.innerHTML = output.data[HTML_MIME_TYPE];\n",
              "      var script_attrs = bk_div.children[0].attributes;\n",
              "      for (var i = 0; i < script_attrs.length; i++) {\n",
              "        toinsert[toinsert.length - 1].firstChild.setAttribute(script_attrs[i].name, script_attrs[i].value);\n",
              "        toinsert[toinsert.length - 1].firstChild.textContent = bk_div.children[0].textContent\n",
              "      }\n",
              "      // store reference to server id on output_area\n",
              "      output_area._bokeh_server_id = output.metadata[EXEC_MIME_TYPE][\"server_id\"];\n",
              "    }\n",
              "  }\n",
              "\n",
              "  function register_renderer(events, OutputArea) {\n",
              "\n",
              "    function append_mime(data, metadata, element) {\n",
              "      // create a DOM node to render to\n",
              "      var toinsert = this.create_output_subarea(\n",
              "        metadata,\n",
              "        CLASS_NAME,\n",
              "        EXEC_MIME_TYPE\n",
              "      );\n",
              "      this.keyboard_manager.register_events(toinsert);\n",
              "      // Render to node\n",
              "      var props = {data: data, metadata: metadata[EXEC_MIME_TYPE]};\n",
              "      render(props, toinsert[toinsert.length - 1]);\n",
              "      element.append(toinsert);\n",
              "      return toinsert\n",
              "    }\n",
              "\n",
              "    /* Handle when an output is cleared or removed */\n",
              "    events.on('clear_output.CodeCell', handleClearOutput);\n",
              "    events.on('delete.Cell', handleClearOutput);\n",
              "\n",
              "    /* Handle when a new output is added */\n",
              "    events.on('output_added.OutputArea', handleAddOutput);\n",
              "\n",
              "    /**\n",
              "     * Register the mime type and append_mime function with output_area\n",
              "     */\n",
              "    OutputArea.prototype.register_mime_type(EXEC_MIME_TYPE, append_mime, {\n",
              "      /* Is output safe? */\n",
              "      safe: true,\n",
              "      /* Index of renderer in `output_area.display_order` */\n",
              "      index: 0\n",
              "    });\n",
              "  }\n",
              "\n",
              "  // register the mime type if in Jupyter Notebook environment and previously unregistered\n",
              "  if (root.Jupyter !== undefined) {\n",
              "    var events = require('base/js/events');\n",
              "    var OutputArea = require('notebook/js/outputarea').OutputArea;\n",
              "\n",
              "    if (OutputArea.prototype.mime_types().indexOf(EXEC_MIME_TYPE) == -1) {\n",
              "      register_renderer(events, OutputArea);\n",
              "    }\n",
              "  }\n",
              "\n",
              "  \n",
              "  if (typeof (root._bokeh_timeout) === \"undefined\" || force === true) {\n",
              "    root._bokeh_timeout = Date.now() + 5000;\n",
              "    root._bokeh_failed_load = false;\n",
              "  }\n",
              "\n",
              "  var NB_LOAD_WARNING = {'data': {'text/html':\n",
              "     \"<div style='background-color: #fdd'>\\n\"+\n",
              "     \"<p>\\n\"+\n",
              "     \"BokehJS does not appear to have successfully loaded. If loading BokehJS from CDN, this \\n\"+\n",
              "     \"may be due to a slow or bad network connection. Possible fixes:\\n\"+\n",
              "     \"</p>\\n\"+\n",
              "     \"<ul>\\n\"+\n",
              "     \"<li>re-rerun `output_notebook()` to attempt to load from CDN again, or</li>\\n\"+\n",
              "     \"<li>use INLINE resources instead, as so:</li>\\n\"+\n",
              "     \"</ul>\\n\"+\n",
              "     \"<code>\\n\"+\n",
              "     \"from bokeh.resources import INLINE\\n\"+\n",
              "     \"output_notebook(resources=INLINE)\\n\"+\n",
              "     \"</code>\\n\"+\n",
              "     \"</div>\"}};\n",
              "\n",
              "  function display_loaded() {\n",
              "    var el = document.getElementById(null);\n",
              "    if (el != null) {\n",
              "      el.textContent = \"BokehJS is loading...\";\n",
              "    }\n",
              "    if (root.Bokeh !== undefined) {\n",
              "      if (el != null) {\n",
              "        el.textContent = \"BokehJS \" + root.Bokeh.version + \" successfully loaded.\";\n",
              "      }\n",
              "    } else if (Date.now() < root._bokeh_timeout) {\n",
              "      setTimeout(display_loaded, 100)\n",
              "    }\n",
              "  }\n",
              "\n",
              "\n",
              "  function run_callbacks() {\n",
              "    try {\n",
              "      root._bokeh_onload_callbacks.forEach(function(callback) {\n",
              "        if (callback != null)\n",
              "          callback();\n",
              "      });\n",
              "    } finally {\n",
              "      delete root._bokeh_onload_callbacks\n",
              "    }\n",
              "    console.debug(\"Bokeh: all callbacks have finished\");\n",
              "  }\n",
              "\n",
              "  function load_libs(css_urls, js_urls, callback) {\n",
              "    if (css_urls == null) css_urls = [];\n",
              "    if (js_urls == null) js_urls = [];\n",
              "\n",
              "    root._bokeh_onload_callbacks.push(callback);\n",
              "    if (root._bokeh_is_loading > 0) {\n",
              "      console.debug(\"Bokeh: BokehJS is being loaded, scheduling callback at\", now());\n",
              "      return null;\n",
              "    }\n",
              "    if (js_urls == null || js_urls.length === 0) {\n",
              "      run_callbacks();\n",
              "      return null;\n",
              "    }\n",
              "    console.debug(\"Bokeh: BokehJS not loaded, scheduling load and callback at\", now());\n",
              "    root._bokeh_is_loading = css_urls.length + js_urls.length;\n",
              "\n",
              "    function on_load() {\n",
              "      root._bokeh_is_loading--;\n",
              "      if (root._bokeh_is_loading === 0) {\n",
              "        console.debug(\"Bokeh: all BokehJS libraries/stylesheets loaded\");\n",
              "        run_callbacks()\n",
              "      }\n",
              "    }\n",
              "\n",
              "    function on_error(url) {\n",
              "      console.error(\"failed to load \" + url);\n",
              "    }\n",
              "\n",
              "    for (let i = 0; i < css_urls.length; i++) {\n",
              "      const url = css_urls[i];\n",
              "      const element = document.createElement(\"link\");\n",
              "      element.onload = on_load;\n",
              "      element.onerror = on_error.bind(null, url);\n",
              "      element.rel = \"stylesheet\";\n",
              "      element.type = \"text/css\";\n",
              "      element.href = url;\n",
              "      console.debug(\"Bokeh: injecting link tag for BokehJS stylesheet: \", url);\n",
              "      document.body.appendChild(element);\n",
              "    }\n",
              "\n",
              "    const hashes = {\"https://cdn.bokeh.org/bokeh/release/bokeh-2.3.3.min.js\": \"dM3QQsP+wXdHg42wTqW85BjZQdLNNIXqlPw/BgKoExPmTG7ZLML4EGqLMfqHT6ON\", \"https://cdn.bokeh.org/bokeh/release/bokeh-tables-2.3.3.min.js\": \"8x57I4YuIfu8XyZfFo0XVr2WAT8EK4rh/uDe3wF7YuW2FNUSNEpJbsPaB1nJ2fz2\", \"https://cdn.bokeh.org/bokeh/release/bokeh-widgets-2.3.3.min.js\": \"3QTqdz9LyAm2i0sG5XTePsHec3UHWwVsrOL68SYRoAXsafvfAyqtQ+h440+qIBhS\"};\n",
              "\n",
              "    for (let i = 0; i < js_urls.length; i++) {\n",
              "      const url = js_urls[i];\n",
              "      const element = document.createElement('script');\n",
              "      element.onload = on_load;\n",
              "      element.onerror = on_error.bind(null, url);\n",
              "      element.async = false;\n",
              "      element.src = url;\n",
              "      if (url in hashes) {\n",
              "        element.crossOrigin = \"anonymous\";\n",
              "        element.integrity = \"sha384-\" + hashes[url];\n",
              "      }\n",
              "      console.debug(\"Bokeh: injecting script tag for BokehJS library: \", url);\n",
              "      document.head.appendChild(element);\n",
              "    }\n",
              "  };\n",
              "\n",
              "  function inject_raw_css(css) {\n",
              "    const element = document.createElement(\"style\");\n",
              "    element.appendChild(document.createTextNode(css));\n",
              "    document.body.appendChild(element);\n",
              "  }\n",
              "\n",
              "  \n",
              "  var js_urls = [\"https://cdn.bokeh.org/bokeh/release/bokeh-2.3.3.min.js\", \"https://cdn.bokeh.org/bokeh/release/bokeh-widgets-2.3.3.min.js\", \"https://cdn.bokeh.org/bokeh/release/bokeh-tables-2.3.3.min.js\"];\n",
              "  var css_urls = [];\n",
              "  \n",
              "\n",
              "  var inline_js = [\n",
              "    function(Bokeh) {\n",
              "      Bokeh.set_log_level(\"info\");\n",
              "    },\n",
              "    function(Bokeh) {\n",
              "    \n",
              "    \n",
              "    }\n",
              "  ];\n",
              "\n",
              "  function run_inline_js() {\n",
              "    \n",
              "    if (root.Bokeh !== undefined || force === true) {\n",
              "      \n",
              "    for (var i = 0; i < inline_js.length; i++) {\n",
              "      inline_js[i].call(root, root.Bokeh);\n",
              "    }\n",
              "    } else if (Date.now() < root._bokeh_timeout) {\n",
              "      setTimeout(run_inline_js, 100);\n",
              "    } else if (!root._bokeh_failed_load) {\n",
              "      console.log(\"Bokeh: BokehJS failed to load within specified timeout.\");\n",
              "      root._bokeh_failed_load = true;\n",
              "    } else if (force !== true) {\n",
              "      var cell = $(document.getElementById(null)).parents('.cell').data().cell;\n",
              "      cell.output_area.append_execute_result(NB_LOAD_WARNING)\n",
              "    }\n",
              "\n",
              "  }\n",
              "\n",
              "  if (root._bokeh_is_loading === 0) {\n",
              "    console.debug(\"Bokeh: BokehJS loaded, going straight to plotting\");\n",
              "    run_inline_js();\n",
              "  } else {\n",
              "    load_libs(css_urls, js_urls, function() {\n",
              "      console.debug(\"Bokeh: BokehJS plotting callback run at\", now());\n",
              "      run_inline_js();\n",
              "    });\n",
              "  }\n",
              "}(window));"
            ],
            "application/vnd.bokehjs_load.v0+json": "\n(function(root) {\n  function now() {\n    return new Date();\n  }\n\n  var force = true;\n\n  if (typeof root._bokeh_onload_callbacks === \"undefined\" || force === true) {\n    root._bokeh_onload_callbacks = [];\n    root._bokeh_is_loading = undefined;\n  }\n\n  \n\n  \n  if (typeof (root._bokeh_timeout) === \"undefined\" || force === true) {\n    root._bokeh_timeout = Date.now() + 5000;\n    root._bokeh_failed_load = false;\n  }\n\n  var NB_LOAD_WARNING = {'data': {'text/html':\n     \"<div style='background-color: #fdd'>\\n\"+\n     \"<p>\\n\"+\n     \"BokehJS does not appear to have successfully loaded. If loading BokehJS from CDN, this \\n\"+\n     \"may be due to a slow or bad network connection. Possible fixes:\\n\"+\n     \"</p>\\n\"+\n     \"<ul>\\n\"+\n     \"<li>re-rerun `output_notebook()` to attempt to load from CDN again, or</li>\\n\"+\n     \"<li>use INLINE resources instead, as so:</li>\\n\"+\n     \"</ul>\\n\"+\n     \"<code>\\n\"+\n     \"from bokeh.resources import INLINE\\n\"+\n     \"output_notebook(resources=INLINE)\\n\"+\n     \"</code>\\n\"+\n     \"</div>\"}};\n\n  function display_loaded() {\n    var el = document.getElementById(null);\n    if (el != null) {\n      el.textContent = \"BokehJS is loading...\";\n    }\n    if (root.Bokeh !== undefined) {\n      if (el != null) {\n        el.textContent = \"BokehJS \" + root.Bokeh.version + \" successfully loaded.\";\n      }\n    } else if (Date.now() < root._bokeh_timeout) {\n      setTimeout(display_loaded, 100)\n    }\n  }\n\n\n  function run_callbacks() {\n    try {\n      root._bokeh_onload_callbacks.forEach(function(callback) {\n        if (callback != null)\n          callback();\n      });\n    } finally {\n      delete root._bokeh_onload_callbacks\n    }\n    console.debug(\"Bokeh: all callbacks have finished\");\n  }\n\n  function load_libs(css_urls, js_urls, callback) {\n    if (css_urls == null) css_urls = [];\n    if (js_urls == null) js_urls = [];\n\n    root._bokeh_onload_callbacks.push(callback);\n    if (root._bokeh_is_loading > 0) {\n      console.debug(\"Bokeh: BokehJS is being loaded, scheduling callback at\", now());\n      return null;\n    }\n    if (js_urls == null || js_urls.length === 0) {\n      run_callbacks();\n      return null;\n    }\n    console.debug(\"Bokeh: BokehJS not loaded, scheduling load and callback at\", now());\n    root._bokeh_is_loading = css_urls.length + js_urls.length;\n\n    function on_load() {\n      root._bokeh_is_loading--;\n      if (root._bokeh_is_loading === 0) {\n        console.debug(\"Bokeh: all BokehJS libraries/stylesheets loaded\");\n        run_callbacks()\n      }\n    }\n\n    function on_error(url) {\n      console.error(\"failed to load \" + url);\n    }\n\n    for (let i = 0; i < css_urls.length; i++) {\n      const url = css_urls[i];\n      const element = document.createElement(\"link\");\n      element.onload = on_load;\n      element.onerror = on_error.bind(null, url);\n      element.rel = \"stylesheet\";\n      element.type = \"text/css\";\n      element.href = url;\n      console.debug(\"Bokeh: injecting link tag for BokehJS stylesheet: \", url);\n      document.body.appendChild(element);\n    }\n\n    const hashes = {\"https://cdn.bokeh.org/bokeh/release/bokeh-2.3.3.min.js\": \"dM3QQsP+wXdHg42wTqW85BjZQdLNNIXqlPw/BgKoExPmTG7ZLML4EGqLMfqHT6ON\", \"https://cdn.bokeh.org/bokeh/release/bokeh-tables-2.3.3.min.js\": \"8x57I4YuIfu8XyZfFo0XVr2WAT8EK4rh/uDe3wF7YuW2FNUSNEpJbsPaB1nJ2fz2\", \"https://cdn.bokeh.org/bokeh/release/bokeh-widgets-2.3.3.min.js\": \"3QTqdz9LyAm2i0sG5XTePsHec3UHWwVsrOL68SYRoAXsafvfAyqtQ+h440+qIBhS\"};\n\n    for (let i = 0; i < js_urls.length; i++) {\n      const url = js_urls[i];\n      const element = document.createElement('script');\n      element.onload = on_load;\n      element.onerror = on_error.bind(null, url);\n      element.async = false;\n      element.src = url;\n      if (url in hashes) {\n        element.crossOrigin = \"anonymous\";\n        element.integrity = \"sha384-\" + hashes[url];\n      }\n      console.debug(\"Bokeh: injecting script tag for BokehJS library: \", url);\n      document.head.appendChild(element);\n    }\n  };\n\n  function inject_raw_css(css) {\n    const element = document.createElement(\"style\");\n    element.appendChild(document.createTextNode(css));\n    document.body.appendChild(element);\n  }\n\n  \n  var js_urls = [\"https://cdn.bokeh.org/bokeh/release/bokeh-2.3.3.min.js\", \"https://cdn.bokeh.org/bokeh/release/bokeh-widgets-2.3.3.min.js\", \"https://cdn.bokeh.org/bokeh/release/bokeh-tables-2.3.3.min.js\"];\n  var css_urls = [];\n  \n\n  var inline_js = [\n    function(Bokeh) {\n      Bokeh.set_log_level(\"info\");\n    },\n    function(Bokeh) {\n    \n    \n    }\n  ];\n\n  function run_inline_js() {\n    \n    if (root.Bokeh !== undefined || force === true) {\n      \n    for (var i = 0; i < inline_js.length; i++) {\n      inline_js[i].call(root, root.Bokeh);\n    }\n    } else if (Date.now() < root._bokeh_timeout) {\n      setTimeout(run_inline_js, 100);\n    } else if (!root._bokeh_failed_load) {\n      console.log(\"Bokeh: BokehJS failed to load within specified timeout.\");\n      root._bokeh_failed_load = true;\n    } else if (force !== true) {\n      var cell = $(document.getElementById(null)).parents('.cell').data().cell;\n      cell.output_area.append_execute_result(NB_LOAD_WARNING)\n    }\n\n  }\n\n  if (root._bokeh_is_loading === 0) {\n    console.debug(\"Bokeh: BokehJS loaded, going straight to plotting\");\n    run_inline_js();\n  } else {\n    load_libs(css_urls, js_urls, function() {\n      console.debug(\"Bokeh: BokehJS plotting callback run at\", now());\n      run_inline_js();\n    });\n  }\n}(window));"
          },
          "metadata": {}
        },
        {
          "output_type": "display_data",
          "data": {
            "text/html": [
              "\n",
              "\n",
              "\n",
              "\n",
              "\n",
              "\n",
              "  <div class=\"bk-root\" id=\"09bcfc17-d504-47ac-a149-e9079ab88e18\" data-root-id=\"1002\"></div>\n"
            ]
          },
          "metadata": {}
        },
        {
          "output_type": "display_data",
          "data": {
            "application/javascript": [
              "(function(root) {\n",
              "  function embed_document(root) {\n",
              "    \n",
              "  var docs_json = {\"62b7b8f4-6770-487a-8ca2-339982e0dd36\":{\"defs\":[],\"roots\":{\"references\":[{\"attributes\":{\"below\":[{\"id\":\"1013\"}],\"center\":[{\"id\":\"1016\"},{\"id\":\"1020\"}],\"left\":[{\"id\":\"1017\"}],\"renderers\":[{\"id\":\"1040\"}],\"title\":{\"id\":\"1003\"},\"toolbar\":{\"id\":\"1028\"},\"x_range\":{\"id\":\"1005\"},\"x_scale\":{\"id\":\"1009\"},\"y_range\":{\"id\":\"1007\"},\"y_scale\":{\"id\":\"1011\"}},\"id\":\"1002\",\"subtype\":\"Figure\",\"type\":\"Plot\"},{\"attributes\":{\"overlay\":{\"id\":\"1027\"}},\"id\":\"1021\",\"type\":\"BoxZoomTool\"},{\"attributes\":{},\"id\":\"1026\",\"type\":\"WheelZoomTool\"},{\"attributes\":{},\"id\":\"1044\",\"type\":\"BasicTickFormatter\"},{\"attributes\":{},\"id\":\"1052\",\"type\":\"UnionRenderers\"},{\"attributes\":{},\"id\":\"1018\",\"type\":\"BasicTicker\"},{\"attributes\":{},\"id\":\"1049\",\"type\":\"AllLabels\"},{\"attributes\":{\"text\":\"t-SNE of Players\"},\"id\":\"1003\",\"type\":\"Title\"},{\"attributes\":{\"source\":{\"id\":\"1035\"}},\"id\":\"1041\",\"type\":\"CDSView\"},{\"attributes\":{},\"id\":\"1011\",\"type\":\"LinearScale\"},{\"attributes\":{\"axis\":{\"id\":\"1013\"},\"ticker\":null},\"id\":\"1016\",\"type\":\"Grid\"},{\"attributes\":{},\"id\":\"1014\",\"type\":\"BasicTicker\"},{\"attributes\":{\"fill_alpha\":{\"value\":0.6},\"fill_color\":{\"value\":\"red\"},\"line_alpha\":{\"value\":0.6},\"line_color\":{\"value\":\"red\"},\"size\":{\"value\":8},\"x\":{\"field\":\"tsne-one\"},\"y\":{\"field\":\"tsne-two\"}},\"id\":\"1038\",\"type\":\"Scatter\"},{\"attributes\":{\"axis\":{\"id\":\"1017\"},\"dimension\":1,\"ticker\":null},\"id\":\"1020\",\"type\":\"Grid\"},{\"attributes\":{},\"id\":\"1024\",\"type\":\"ResetTool\"},{\"attributes\":{\"fill_alpha\":{\"value\":0.1},\"fill_color\":{\"value\":\"red\"},\"line_alpha\":{\"value\":0.1},\"line_color\":{\"value\":\"red\"},\"size\":{\"value\":8},\"x\":{\"field\":\"tsne-one\"},\"y\":{\"field\":\"tsne-two\"}},\"id\":\"1039\",\"type\":\"Scatter\"},{\"attributes\":{\"bottom_units\":\"screen\",\"fill_alpha\":0.5,\"fill_color\":\"lightgrey\",\"left_units\":\"screen\",\"level\":\"overlay\",\"line_alpha\":1.0,\"line_color\":\"black\",\"line_dash\":[4,4],\"line_width\":2,\"right_units\":\"screen\",\"syncable\":false,\"top_units\":\"screen\"},\"id\":\"1027\",\"type\":\"BoxAnnotation\"},{\"attributes\":{\"axis_label\":\"TSNE 1\",\"formatter\":{\"id\":\"1044\"},\"major_label_policy\":{\"id\":\"1046\"},\"ticker\":{\"id\":\"1014\"}},\"id\":\"1013\",\"type\":\"LinearAxis\"},{\"attributes\":{},\"id\":\"1007\",\"type\":\"DataRange1d\"},{\"attributes\":{},\"id\":\"1009\",\"type\":\"LinearScale\"},{\"attributes\":{\"callback\":null},\"id\":\"1025\",\"type\":\"TapTool\"},{\"attributes\":{},\"id\":\"1005\",\"type\":\"DataRange1d\"},{\"attributes\":{\"active_multi\":null,\"tools\":[{\"id\":\"1021\"},{\"id\":\"1022\"},{\"id\":\"1023\"},{\"id\":\"1024\"},{\"id\":\"1025\"},{\"id\":\"1026\"},{\"id\":\"1036\"}]},\"id\":\"1028\",\"type\":\"Toolbar\"},{\"attributes\":{},\"id\":\"1047\",\"type\":\"BasicTickFormatter\"},{\"attributes\":{},\"id\":\"1023\",\"type\":\"SaveTool\"},{\"attributes\":{\"data\":{\"index\":[52194,160912,73428,43418,164261,49862,11974,108249,111954,126206,26656,181293,40699,70416,24245,50885,72109,96097,26298,113659,113834,70072,140347,177041,180568,31097,171000,47644,152903,166603,61661,72930,109256,1792,151038,90290,65842,156760,117446,74168,151456,149912,106720,127004,170797,126945,63430,111871,110681,101108,120892,89748,11443,144989,22375,121377,15329,144750,140773,46535,65771,168368,64460,45599,82714,88806,88393,162073,103127,89103,148686,71227,9568,98949,104358,36452,165857,177081,58930,25583,106125,128023,171436,14442,8194,68957,97164,181767,164969,46353,113709,78025,96331,97609,99008,93505,143628,9256,125147,81389,38780,61107,130165,120334,70744,137004,61295,27129,24140,131040,56559,179989,133926,58306,58339,139206,69112,23021,80619,169536,109899,169726,7236,113743,17409,37018,112974,43755,39200,109033,9090,88371,146296,78640,73333,35837,116028,10687,99126,136764,55366,133026,180217,179701,159491,156825,18034,44731,2418,143341,141994,145894,159249,157299,37138,146905,3351,119339,63845,180935,100475,172094,37724,161327,20045,118356,177199,14984,147024,182019,134891,145670,78164,146224,87192,85483,121935,122729,121048,28735,128947,65681,90514,9610,176533,40428,172705,12739,97397,10940,104587,91363,92958,47725,8485,66334,116545,71047,53254,26357,180834,124505,77274,160835,10285,18486,156858,154917,177420,8278,16184,11390,29092,11643,72684,72612,181668,74280,134502,51337,138205,135951,103358,88332,269,92790,84829,82784,143031,144911,142347,150912,77554,10263,34763,20085,16360,178940,136355,22080,148723,132805,55762,160995,43590,112421,96216,142241,150089,151309,153345,122441,95257,99527,92722,128451,76430,177958,27329,77094,129870,115041,62795,75045,131464,28924,60002,63320,35122,133067,67080,78610,81678,13738,43543,31540,19613,58690,43950,16460,160570,167103,102822,44610,143228,142868,80598,153168,47247,179265,157739,74988,150541,96449,83352,76341,72590,60181,78555,146431,18229,176344,174293,80815,153762,164209,166768,81109,118874,166130,131124,179441,147979,157128,83612,21197,93533,36070,102482,181146,156459,169656,62932,162198,95902,52804,130065,20867,18277,78711,163079,158757,146757,130528,165287,31633,20960,33330,62977,55638,78189,21736,35104,12773,52400,92051,90928,39883,18298,109434,105983,106198,17755,17607,31040,177385,142271,36888,139475,143007,155659,183672,99629,169805,169903,79701,115738,116481,76246,26755,102785,180709,42248,25468,124969,30880,53792,140499,899,17488,100065,122634,147245,134233,66170,48270],\"overall_rating\":{\"__ndarray__\":\"AAAAAABAVEAAAAAAAEBUQAAAAAAAAFRAAAAAAABAVEAAAAAAAMBUQAAAAAAAAFRAAAAAAABAVEAAAAAAAEBUQAAAAAAAgFVAAAAAAAAAVEAAAAAAAABUQAAAAAAAAFRAAAAAAABAVEAAAAAAAABUQAAAAAAAQFRAAAAAAAAAVEAAAAAAAABUQAAAAAAAAFRAAAAAAABAVUAAAAAAAABUQAAAAAAAgFRAAAAAAABAVUAAAAAAAIBVQAAAAAAAAFRAAAAAAAAAVUAAAAAAAABVQAAAAAAAAFRAAAAAAAAAVEAAAAAAAABUQAAAAAAAAFRAAAAAAABAVEAAAAAAAABUQAAAAAAAAFRAAAAAAAAAVEAAAAAAAABUQAAAAAAAQFRAAAAAAABAVEAAAAAAAEBUQAAAAAAAQFRAAAAAAABAVEAAAAAAAEBUQAAAAAAAQFRAAAAAAAAAVEAAAAAAAEBVQAAAAAAAgFVAAAAAAAAAVUAAAAAAAABUQAAAAAAAAFRAAAAAAADAVEAAAAAAAMBUQAAAAAAAAFRAAAAAAAAAVEAAAAAAAEBVQAAAAAAAwFRAAAAAAACAVEAAAAAAAABUQAAAAAAAQFRAAAAAAAAAVEAAAAAAAEBUQAAAAAAAQFRAAAAAAACAVUAAAAAAAIBUQAAAAAAAgFVAAAAAAABAVEAAAAAAAABUQAAAAAAAQFRAAAAAAABAVEAAAAAAAIBUQAAAAAAAgFRAAAAAAAAAVEAAAAAAAABUQAAAAAAAAFVAAAAAAAAAVEAAAAAAAIBUQAAAAAAAQFRAAAAAAACAVEAAAAAAAIBUQAAAAAAAQFRAAAAAAAAAVEAAAAAAAIBUQAAAAAAAwFRAAAAAAAAAVEAAAAAAAABUQAAAAAAAgFRAAAAAAADAVEAAAAAAAIBUQAAAAAAAQFRAAAAAAACAVEAAAAAAAEBUQAAAAAAAwFRAAAAAAAAAVUAAAAAAAEBUQAAAAAAAAFRAAAAAAADAVEAAAAAAAABUQAAAAAAAgFRAAAAAAAAAVUAAAAAAAABUQAAAAAAAAFRAAAAAAAAAVEAAAAAAAEBVQAAAAAAAwFVAAAAAAACAVEAAAAAAAEBUQAAAAAAAAFRAAAAAAACAVEAAAAAAAIBUQAAAAAAAgFRAAAAAAAAAVEAAAAAAAMBUQAAAAAAAgFRAAAAAAADAVEAAAAAAAABUQAAAAAAAAFRAAAAAAAAAVEAAAAAAAEBUQAAAAAAAgFRAAAAAAAAAVEAAAAAAAEBUQAAAAAAAQFRAAAAAAACAVEAAAAAAAIBUQAAAAAAAgFRAAAAAAABAVEAAAAAAAEBVQAAAAAAAAFRAAAAAAACAVEAAAAAAAEBVQAAAAAAAwFVAAAAAAACAVkAAAAAAAABUQAAAAAAAAFRAAAAAAADAVEAAAAAAAMBUQAAAAAAAAFVAAAAAAACAVEAAAAAAAABUQAAAAAAAAFRAAAAAAACAVEAAAAAAAABUQAAAAAAAAFRAAAAAAAAAVEAAAAAAAABUQAAAAAAAQFRAAAAAAACAVEAAAAAAAABVQAAAAAAAAFRAAAAAAADAVEAAAAAAAABUQAAAAAAAAFVAAAAAAADAVEAAAAAAAEBUQAAAAAAAgFRAAAAAAAAAVEAAAAAAAABUQAAAAAAAQFRAAAAAAAAAVEAAAAAAAEBUQAAAAAAAAFVAAAAAAACAVEAAAAAAAIBUQAAAAAAAQFRAAAAAAAAAVEAAAAAAAMBVQAAAAAAAAFRAAAAAAAAAVEAAAAAAAABUQAAAAAAAAFVAAAAAAABAVEAAAAAAAABUQAAAAAAAQFRAAAAAAAAAVEAAAAAAAABUQAAAAAAAQFRAAAAAAAAAVUAAAAAAAMBUQAAAAAAAwFRAAAAAAAAAVEAAAAAAAEBUQAAAAAAAwFRAAAAAAAAAVEAAAAAAAEBUQAAAAAAAwFRAAAAAAABAVEAAAAAAAEBUQAAAAAAAgFVAAAAAAACAVEAAAAAAAEBUQAAAAAAAwFRAAAAAAAAAVEAAAAAAAEBUQAAAAAAAgFRAAAAAAACAVEAAAAAAAEBVQAAAAAAAgFVAAAAAAACAVEAAAAAAAABUQAAAAAAAQFVAAAAAAAAAVEAAAAAAAEBUQAAAAAAAAFRAAAAAAAAAVEAAAAAAAIBUQAAAAAAAAFZAAAAAAABAVEAAAAAAAABUQAAAAAAAgFRAAAAAAABAVEAAAAAAAEBVQAAAAAAAAFRAAAAAAADAVEAAAAAAAEBUQAAAAAAAwFRAAAAAAAAAVEAAAAAAAABVQAAAAAAAAFRAAAAAAABAVUAAAAAAAEBVQAAAAAAAgFRAAAAAAAAAVEAAAAAAAIBUQAAAAAAAgFRAAAAAAAAAVEAAAAAAAEBUQAAAAAAAgFRAAAAAAAAAVEAAAAAAAABVQAAAAAAAwFRAAAAAAAAAVEAAAAAAAIBUQAAAAAAAwFRAAAAAAACAVEAAAAAAAABUQAAAAAAAQFRAAAAAAAAAVUAAAAAAAMBUQAAAAAAAgFRAAAAAAABAVUAAAAAAAEBUQAAAAAAAAFRAAAAAAACAVEAAAAAAAMBUQAAAAAAAgFRAAAAAAACAVUAAAAAAAABUQAAAAAAAAFVAAAAAAACAVEAAAAAAAEBUQAAAAAAAAFRAAAAAAAAAVEAAAAAAAABUQAAAAAAAAFZAAAAAAACAVUAAAAAAAABVQAAAAAAAQFRAAAAAAACAVEAAAAAAAMBVQAAAAAAAQFRAAAAAAACAVUAAAAAAAIBUQAAAAAAAAFRAAAAAAAAAVEAAAAAAAABUQAAAAAAAwFRAAAAAAACAVkAAAAAAAABUQAAAAAAAAFRAAAAAAAAAVEAAAAAAAIBUQAAAAAAAAFVAAAAAAACAVEAAAAAAAABVQAAAAAAAAFRAAAAAAACAVUAAAAAAAIBUQAAAAAAAAFRAAAAAAABAVUAAAAAAAIBVQAAAAAAAgFVAAAAAAABAVkAAAAAAAEBUQAAAAAAAQFRAAAAAAAAAVEAAAAAAAABUQAAAAAAAwFVAAAAAAACAVUAAAAAAAIBUQAAAAAAAgFRAAAAAAAAAVkAAAAAAAIBUQAAAAAAAQFVAAAAAAABAVEAAAAAAAABWQAAAAAAAgFRAAAAAAAAAVUAAAAAAAABUQAAAAAAAgFRAAAAAAABAVEAAAAAAAIBUQAAAAAAAAFRAAAAAAABAVEAAAAAAAABUQAAAAAAAwFVAAAAAAACAVEAAAAAAAABUQAAAAAAAQFRAAAAAAADAVEAAAAAAAMBVQAAAAAAAgFVAAAAAAADAVEAAAAAAAEBUQAAAAAAAAFRAAAAAAAAAVEAAAAAAAABUQAAAAAAAQFRAAAAAAADAVEAAAAAAAIBVQAAAAAAAwFRAAAAAAACAV0AAAAAAAIBUQAAAAAAAgFRAAAAAAADAVEAAAAAAAABUQAAAAAAAgFRAAAAAAAAAVEAAAAAAAABUQAAAAAAAAFVAAAAAAABAVEAAAAAAAEBUQAAAAAAAAFVAAAAAAAAAVEAAAAAAAEBUQAAAAAAAgFRAAAAAAAAAVEAAAAAAAEBUQAAAAAAAAFRAAAAAAABAVEAAAAAAAEBXQAAAAAAAQFVAAAAAAAAAVEAAAAAAAABUQAAAAAAAAFVAAAAAAAAAVEAAAAAAAABWQAAAAAAAwFRAAAAAAACAVEAAAAAAAEBUQAAAAAAAwFRAAAAAAADAVEAAAAAAAABUQAAAAAAAgFZAAAAAAADAVUAAAAAAAIBUQAAAAAAAQFRAAAAAAADAVEAAAAAAAEBUQAAAAAAAAFVAAAAAAABAVEAAAAAAAEBUQAAAAAAAQFRAAAAAAAAAVEAAAAAAAEBWQAAAAAAAAFRAAAAAAAAAVkAAAAAAAIBVQAAAAAAAAFRAAAAAAABAVEAAAAAAAEBUQAAAAAAAAFRAAAAAAAAAVEAAAAAAAIBUQAAAAAAAgFVAAAAAAACAVEAAAAAAAMBUQAAAAAAAQFRAAAAAAACAVEAAAAAAAEBUQAAAAAAAAFRAAAAAAACAVEAAAAAAAEBUQAAAAAAAgFRAAAAAAAAAVEAAAAAAAEBUQAAAAAAAwFRAAAAAAAAAVEAAAAAAAMBUQA==\",\"dtype\":\"float64\",\"order\":\"little\",\"shape\":[386]},\"player_api_id\":[108568,96623,291219,30822,39455,41671,30731,94043,129944,182224,201939,354467,30909,21446,42479,574200,112758,114558,38817,183185,75447,73167,248453,182921,30889,41890,26005,15403,112978,92666,49970,282676,268282,37234,210278,155066,38458,42346,113672,163670,30843,278343,13518,19327,116772,96398,127460,73999,28467,24235,282770,147951,30902,41433,38433,182923,11685,193174,325916,46104,25759,37374,41884,364520,300916,150330,474589,144993,193441,18518,38239,20276,213501,37373,38393,30682,30474,32657,270774,166648,147729,292462,30871,167035,169193,194165,36784,103450,188555,156726,177714,212512,212893,161683,94916,208230,150565,210164,33845,281085,121633,31921,40945,181910,94886,128864,23783,72541,267911,115067,41167,94086,253088,241825,40672,32569,26163,31306,33782,31013,184554,26852,157865,27326,49939,240235,41658,19243,182917,27299,188652,391058,49586,38818,191315,75307,96616,164333,23988,181297,40196,149962,35110,257865,42116,42422,56916,25496,361710,184536,150250,25819,96540,210117,208077,34029,40930,46820,30717,179795,24846,212815,38432,30962,45749,40060,40193,184138,33871,26160,27365,38994,74747,246575,150739,39122,46875,34944,58346,165823,41008,27427,41468,75310,111237,37459,160599,31045,184533,361770,215299,243164,150670,49677,50047,207236,40735,26295,29590,75342,176300,37193,37762,37412,150323,26111,26181,40604,39027,46554,39792,38098,157723,39170,178818,179772,36615,25773,213486,174850,30509,46469,287894,26552,75489,210428,30627,37549,186137,22543,35606,242709,185945,164676,33988,68253,33028,30829,109615,96643,115591,164031,56829,154257,30820,190972,145550,30660,24635,37623,41087,36378,169200,46539,41044,46893,164684,213805,30613,177126,38521,30563,108038,51360,19533,148315,41199,37950,282674,174321,154232,37410,33991,46509,96613,30956,30872,30924,56678,30834,195299,30618,39987,27430,30894,30859,26403,181276,107417,30878,37436,143793,93447,51949,31432,38807,30657,33635,70409,79574,39591,46403,95078,39990,215384,93480,31293,36183,36388,41097,30865,143365,27424,33639,171698,215168,26166,51553,30981,41618,27659,172949,251925,184999,26151,49836,28480,11319,192770,129391,35112,77690,230982,157838,178955,151063,41092,30893,37482,33030,41467,26419,40940,30955,37581,30989,38424,52133,411617,195305,40636,31097,46518,24948,37421,25540,25921,115184,192625,23268,40695,35724,215798,80562,170323,26437,267365,22764,101192,26168,26353,39854,35411,30661,30742,26096,32747,30373,31012,41980,30354,30699,30655,25986,30445,30726],\"player_name\":[\"Ever Banega\",\"Sergio Asenjo\",\"Islam Slimani\",\"Didier Drogba\",\"Sokratis Papastathopoulos\",\"Emiliano Viviano\",\"Andrea Pirlo\",\"Mamadou Sakho\",\"Marco Reus\",\"Mikel San Jose\",\"Cedric Bakambu\",\"Yannick Ferreira-Carrasco\",\"David Villa\",\"Hernanes\",\"Bruno Soriano\",\"Eric Bertrand Bailly\",\"Ignacio Camacho\",\"Kevin Strootman\",\"Carlos Tevez\",\"Mario Gaspar\",\"Mario Mandzukic\",\"Henrik Mkhitaryan\",\"Paul Pogba\",\"Victor Ruiz\",\"Xabi Alonso\",\"Claudio Marchisio\",\"Thomas Vermaelen\",\"Edin Dzeko\",\"Roman Buerki\",\"Stevan Jovetic\",\"Gary Medel\",\"Inigo Martinez\",\"Manuel Trigueros\",\"Adam Lallana\",\"Roberto Pereyra\",\"Juan Cuadrado\",\"Gonzalo Rodriguez\",\"Sami Khedira\",\"Mateo Pablo Musacchio\",\"Ivan Perisic\",\"Robin van Persie\",\"Riyad Mahrez\",\"Lukasz Piszczek\",\"Miranda\",\"Thomas Mueller\",\"Miralem Pjanic\",\"Giacomo Bonaventura\",\"Marco Parolo\",\"Marcelo\",\"Leonardo Bonucci\",\"Mauro Icardi\",\"Josip Ilicic\",\"Andrea Barzagli\",\"Radja Nainggolan\",\"Borja Valero\",\"Maxime Gonalons\",\"Antonio Candreva\",\"Quincy Promes\",\"Paulo Dybala\",\"Dries Mertens\",\"Gonzalo Higuain\",\"Sven Bender\",\"Giorgio Chiellini\",\"Domenico Berardi\",\"Joao Mario\",\"Jose Maria Callejon\",\"Jose Gimenez\",\"Shinji Kagawa\",\"Lorenzo Insigne\",\"Jose Sosa\",\"Ricardo Quaresma\",\"Hulk\",\"Alvaro Morata\",\"Lars Bender\",\"Lucas Biglia\",\"Daniele De Rossi\",\"Stephan Lichtsteiner\",\"Victor Valdes\",\"Franco Vazquez\",\"Carlos Bacca\",\"Luiz Gustavo\",\"Mohamed Salah\",\"Tiago\",\"Anthony Lopes\",\"Alexandre Lacazette\",\"Harry Kane\",\"Klaas Jan Huntelaar\",\"Yevheniy Konoplyanka\",\"Stefan de Vrij\",\"Douglas Costa\",\"Mario Goetze\",\"Jasper Cillessen\",\"Kevin Volland\",\"Konstantinos Manolas\",\"Lars Stindl\",\"Karim Bellarabi\",\"Pierre-Emerick Aubameyang\",\"Alphonse Areola\",\"Miguel Angel Moya\",\"Jese Rodriguez\",\"David Alaba\",\"Gareth Bale\",\"Nani\",\"Mattia Perin\",\"Holger Badstuber\",\"Oscar\",\"Gary Cahill\",\"Cesar Azpilicueta\",\"Bruno Peres\",\"Nemanja Matic\",\"Filipe Luis\",\"Willian\",\"Nikola Maksimovic\",\"Francisco Alcacer\",\"Francisco Casilla\",\"Patrice Evra\",\"Hatem Ben Arfa\",\"Branislav Ivanovic\",\"Jeremy Menez\",\"Theo Walcott\",\"Marc-Andre ter Stegen\",\"Thiago Motta\",\"Alex Sandro\",\"Mario Gomez\",\"Arturo Vidal\",\"Danilo Pereira\",\"Marek Hamsik\",\"Diego Costa\",\"David De Gea\",\"Manuel Neuer\",\"Allan\",\"Jose Gaya\",\"Ralf Faehrmann\",\"Javier Mascherano\",\"Isco\",\"Daniel Parejo\",\"Martin Caceres\",\"Andre Andre\",\"Lassana Diarra\",\"Oscar de Marcos\",\"Fernandinho\",\"Nicolas N'Koulou\",\"Winston Reid\",\"William Carvalho\",\"Sebastian Meoli\",\"Samir Handanovic\",\"Aurelien Chedjou\",\"Dimitri Payet\",\"Aderlan Santos\",\"Philippe Coutinho\",\"Pedro Rodriguez\",\"Raffael\",\"Sebastian Giovinco\",\"Samuel Umtiti\",\"Danilo\",\"Raul Albiol\",\"Adrien Silva\",\"Matteo Darmian\",\"Gianluigi Buffon\",\"Yacine Brahimi\",\"Leighton Baines\",\"Timo Horn\",\"Dante\",\"Sergio Ramos\",\"Benat Etxebarria\",\"Mathieu Valbuena\",\"Vieirinha\",\"Antoine Griezmann\",\"Raul Garcia\",\"Yohan Cabaye\",\"Nuri Sahin\",\"Rafael\",\"Javi Fuego\",\"Raheem Sterling\",\"Jordi Alba\",\"Jonas\",\"Mehdi Benatia\",\"Michael Carrick\",\"Max Kruse\",\"Chris Smalling\",\"Moussa Dembele\",\"Gonzalo Castro\",\"Juan Mata\",\"Alvaro Negredo\",\"Vicente Iborra\",\"David Silva\",\"Toby Alderweireld\",\"Andres Guardado\",\"Koke\",\"Andre Gomes\",\"Lucas Moura\",\"Julian Draxler\",\"Kamil Glik\",\"Edinson Cavani\",\"Alexis Sanchez\",\"Granit Xhaka\",\"Martin Stranzl\",\"Hugo Lloris\",\"Fabio Coentrao\",\"Carlos Vela\",\"Xherdan Shaqiri\",\"Michel Vorm\",\"Jan Vertonghen\",\"Sergio Aguero\",\"Ander Iturraspe\",\"Bacary Sagna\",\"Samir Nasri\",\"Rui Patricio\",\"Vincent Kompany\",\"Alexandre Pato\",\"Arda Turan\",\"Andre-Pierre Gignac\",\"Christian Eriksen\",\"Andrea Consigli\",\"Ilkay Guendogan\",\"Iker Muniain\",\"Yaya Toure\",\"Ivan Rakitic\",\"Nolito\",\"Erik Lamela\",\"Pablo Zabaleta\",\"Olivier Giroud\",\"Loris Karius\",\"Jose Fonte\",\"Aaron Ramsey\",\"Kalidou Koulibaly\",\"John Terry\",\"Joao Moutinho\",\"Phil Jones\",\"Radamel Falcao\",\"Per Mertesacker\",\"Roberto Firmino\",\"Jardel\",\"Ander Herrera\",\"Daniel Alves\",\"Benedikt Hoewedes\",\"Aritz Aduriz\",\"Wayne Rooney\",\"Omer Toprak\",\"Bojan Krkic\",\"Ricardo Rodriguez\",\"Nicolas Gaitan\",\"Fernando Muslera\",\"Sergio Busquets\",\"Diego Benaglio\",\"Marco Verratti\",\"Kevin Trapp\",\"Pepe Reina\",\"Robbie Keane\",\"Roberto\",\"Ron-Robert Zieler\",\"Mesut Oezil\",\"Kevin de Bruyne\",\"Laurent Koscielny\",\"Kaka\",\"Morgan Schneiderlin\",\"James Rodriguez\",\"Vitolo\",\"Cesc Fabregas\",\"Jan Oblak\",\"Nacho Monreal\",\"Marko Basa\",\"Georginio Wijnaldum\",\"Jackson Martinez\",\"Neymar\",\"Christian Benteke\",\"Fredy Guarin\",\"Gervinho\",\"Daniel Carvajal\",\"Nicolas Otamendi\",\"Grzegorz Krychowiak\",\"Javier Martinez\",\"Jesus Navas\",\"Angel Di Maria\",\"Diego Alves\",\"Clint Dempsey\",\"Bastian Schweinsteiger\",\"Franck Ribery\",\"Diego Godin\",\"Arjen Robben\",\"Serge Aurier\",\"Steven Gerrard\",\"Loic Remy\",\"Dimitar Berbatov\",\"Philipp Lahm\",\"Petr Cech\",\"Jeremy Mathieu\",\"Romelu Lukaku\",\"Eden Hazard\",\"Wesley Sneijder\",\"Santi Cazorla\",\"Jack Wilshere\",\"Robert Lewandowski\",\"Keylor Navas\",\"Joe Hart\",\"James Milner\",\"Iker Casillas\",\"Gabi\",\"Javier Hernandez\",\"Ramires\",\"Axel Witsel\",\"Vedran Corluka\",\"Toni Kroos\",\"Jeremy Toulalan\",\"Ross Barkley\",\"Sofiane Feghouli\",\"Steve Mandanda\",\"Jerome Boateng\",\"Mats Hummels\",\"Stephane Ruffier\",\"Nemanja Vidic\",\"Wilfried Bony\",\"Rene Adler\",\"Samuel Eto'o\",\"Joel Matip\",\"Bernd Leno\",\"Karim Benzema\",\"Daniel Sturridge\",\"Lionel Messi\",\"Yann Sommer\",\"Salvatore Sirigu\",\"Thiago Alcantara\",\"Gerard Deulofeu\",\"Shkodran Mustafi\",\"Kevin Mirallas\",\"Fabian Orellana\",\"Naldo\",\"Benoit Costil\",\"Aymen Abdennour\",\"Javier Pastore\",\"Simon Kjaer\",\"Seamus Coleman\",\"Raphael Varane\",\"Nathaniel Clyne\",\"Stefan Savic\",\"Coke\",\"Benoit Tremoulinas\",\"Cristiano Ronaldo\",\"Gerard Pique\",\"Fernando Llorente\",\"Javi Garcia\",\"Blaise Matuidi\",\"Daniel Carrico\",\"Andres Iniesta\",\"Ezequiel Garay\",\"Julio Cesar\",\"Juanfran\",\"David Luiz\",\"Aymeric Laporte\",\"Marc Bartra\",\"Luis Suarez\",\"Luka Modric\",\"Asmir Begovic\",\"Ashley Williams\",\"Claudio Bravo\",\"Vincent Enyeama\",\"Pepe\",\"Danijel Subasic\",\"Patrick Herrmann\",\"Phil Jagielka\",\"Ryan Shawcross\",\"Zlatan Ibrahimovic\",\"Lavyin Kurzawa\",\"Thiago Silva\",\"Thibaut Courtois\",\"Jefferson Farfan\",\"Marquinhos\",\"Martin Skrtel\",\"James McCarthy\",\"Cedric Carrasso\",\"Loic Perrin\",\"Xavi Hernandez\",\"Demba Ba\",\"Carles Puyol\",\"Mickael Landreau\",\"Clarence Seedorf\",\"Fabrizio Miccoli\",\"Paul Scholes\",\"Abdulkader Keita\",\"Asamoah Gyan\",\"Ledley King\",\"Michael Ballack\",\"Raul\",\"Nilmar\",\"Grafite\",\"Edwin van der Sar\"],\"tsne-one\":{\"__ndarray__\":\"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\",\"dtype\":\"float32\",\"order\":\"little\",\"shape\":[386]},\"tsne-two\":{\"__ndarray__\":\"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\",\"dtype\":\"float32\",\"order\":\"little\",\"shape\":[386]}},\"selected\":{\"id\":\"1051\"},\"selection_policy\":{\"id\":\"1052\"}},\"id\":\"1035\",\"type\":\"ColumnDataSource\"},{\"attributes\":{},\"id\":\"1051\",\"type\":\"Selection\"},{\"attributes\":{\"data_source\":{\"id\":\"1035\"},\"glyph\":{\"id\":\"1038\"},\"hover_glyph\":null,\"muted_glyph\":null,\"nonselection_glyph\":{\"id\":\"1039\"},\"view\":{\"id\":\"1041\"}},\"id\":\"1040\",\"type\":\"GlyphRenderer\"},{\"attributes\":{},\"id\":\"1022\",\"type\":\"PanTool\"},{\"attributes\":{\"callback\":null,\"tooltips\":[[\"Player\",\"@player_name\"]]},\"id\":\"1036\",\"type\":\"HoverTool\"},{\"attributes\":{},\"id\":\"1046\",\"type\":\"AllLabels\"},{\"attributes\":{\"axis_label\":\"TSNE 2\",\"formatter\":{\"id\":\"1047\"},\"major_label_policy\":{\"id\":\"1049\"},\"ticker\":{\"id\":\"1018\"}},\"id\":\"1017\",\"type\":\"LinearAxis\"}],\"root_ids\":[\"1002\"]},\"title\":\"Bokeh Application\",\"version\":\"2.3.3\"}};\n",
              "  var render_items = [{\"docid\":\"62b7b8f4-6770-487a-8ca2-339982e0dd36\",\"root_ids\":[\"1002\"],\"roots\":{\"1002\":\"09bcfc17-d504-47ac-a149-e9079ab88e18\"}}];\n",
              "  root.Bokeh.embed.embed_items_notebook(docs_json, render_items);\n",
              "\n",
              "  }\n",
              "  if (root.Bokeh !== undefined) {\n",
              "    embed_document(root);\n",
              "  } else {\n",
              "    var attempts = 0;\n",
              "    var timer = setInterval(function(root) {\n",
              "      if (root.Bokeh !== undefined) {\n",
              "        clearInterval(timer);\n",
              "        embed_document(root);\n",
              "      } else {\n",
              "        attempts++;\n",
              "        if (attempts > 100) {\n",
              "          clearInterval(timer);\n",
              "          console.log(\"Bokeh: ERROR: Unable to run BokehJS code because BokehJS library is missing\");\n",
              "        }\n",
              "      }\n",
              "    }, 10, root)\n",
              "  }\n",
              "})(window);"
            ],
            "application/vnd.bokehjs_exec.v0+json": ""
          },
          "metadata": {
            "application/vnd.bokehjs_exec.v0+json": {
              "id": "1002"
            }
          }
        }
      ]
    },
    {
      "cell_type": "markdown",
      "metadata": {
        "id": "hW3X9HUfR36a"
      },
      "source": [
        "### ⏩ Train-test split"
      ]
    },
    {
      "cell_type": "code",
      "execution_count": 49,
      "metadata": {
        "colab": {
          "base_uri": "https://localhost:8080/"
        },
        "id": "m9JWImRFR28P",
        "outputId": "f75948fd-ed3e-4cd3-e28c-8e34144ccc75"
      },
      "outputs": [
        {
          "output_type": "stream",
          "name": "stdout",
          "text": [
            "Length of training data: 7807\n",
            "Length of testing data: 2603\n",
            "Length of total data: 10410\n"
          ]
        }
      ],
      "source": [
        "# 75% train data and 25% test data\n",
        "train_set, test_set = train_test_split(player_df, test_size=0.25, random_state=42, shuffle=True)\n",
        "\n",
        "print(\"Length of training data:\", len(train_set))\n",
        "print(\"Length of testing data:\", len(test_set))\n",
        "print(\"Length of total data:\", len(player_df))"
      ]
    },
    {
      "cell_type": "markdown",
      "metadata": {
        "id": "2SZ748s7xKLY"
      },
      "source": [
        "### ⏩ Correlation graph showing the impact of all features on the overall rating"
      ]
    },
    {
      "cell_type": "code",
      "execution_count": 50,
      "metadata": {
        "id": "jafI4piFwk0e"
      },
      "outputs": [],
      "source": [
        "cols = ['potential',  'crossing', 'finishing', 'heading_accuracy',\n",
        "        'short_passing', 'volleys', 'dribbling', 'curve', 'free_kick_accuracy',\n",
        "        'long_passing', 'ball_control', 'acceleration', 'sprint_speed',\n",
        "        'agility', 'reactions', 'balance', 'shot_power', 'jumping', 'stamina',\n",
        "        'strength', 'long_shots', 'aggression', 'interceptions', 'positioning',\n",
        "        'vision', 'penalties', 'marking', 'standing_tackle', 'sliding_tackle',\n",
        "        'gk_diving', 'gk_handling', 'gk_kicking', 'gk_positioning',\n",
        "        'gk_reflexes']"
      ]
    },
    {
      "cell_type": "code",
      "execution_count": 51,
      "metadata": {
        "id": "GikfFj8dxIEW"
      },
      "outputs": [],
      "source": [
        "train_df = train_set.copy()\n",
        "\n",
        "correlations = [ train_df['overall_rating'].corr(train_df[f]) for f in cols]"
      ]
    },
    {
      "cell_type": "code",
      "execution_count": 52,
      "metadata": {
        "colab": {
          "base_uri": "https://localhost:8080/",
          "height": 1000
        },
        "id": "RV5C5ek4Iiz1",
        "outputId": "2499f994-5110-42de-f26b-b825817d1bf2"
      },
      "outputs": [
        {
          "output_type": "execute_result",
          "data": {
            "text/plain": [
              "            attributes  correlation\n",
              "0            potential     0.817933\n",
              "1             crossing     0.287133\n",
              "2            finishing     0.266431\n",
              "3     heading_accuracy     0.220257\n",
              "4        short_passing     0.406328\n",
              "5              volleys     0.301406\n",
              "6            dribbling     0.292616\n",
              "7                curve     0.320642\n",
              "8   free_kick_accuracy     0.282834\n",
              "9         long_passing     0.385933\n",
              "10        ball_control     0.372964\n",
              "11        acceleration     0.170680\n",
              "12        sprint_speed     0.182518\n",
              "13             agility     0.218455\n",
              "14           reactions     0.789116\n",
              "15             balance     0.097360\n",
              "16          shot_power     0.341983\n",
              "17             jumping     0.226032\n",
              "18             stamina     0.231846\n",
              "19            strength     0.210157\n",
              "20          long_shots     0.323131\n",
              "21          aggression     0.263876\n",
              "22       interceptions     0.196064\n",
              "23         positioning     0.282044\n",
              "24              vision     0.412322\n",
              "25           penalties     0.275482\n",
              "26             marking     0.109600\n",
              "27     standing_tackle     0.140715\n",
              "28      sliding_tackle     0.122908\n",
              "29           gk_diving     0.037613\n",
              "30         gk_handling     0.041038\n",
              "31          gk_kicking     0.037448\n",
              "32      gk_positioning     0.042111\n",
              "33         gk_reflexes     0.042044"
            ],
            "text/html": [
              "\n",
              "  <div id=\"df-40a9404c-2f76-405c-8806-28da2e88559a\">\n",
              "    <div class=\"colab-df-container\">\n",
              "      <div>\n",
              "<style scoped>\n",
              "    .dataframe tbody tr th:only-of-type {\n",
              "        vertical-align: middle;\n",
              "    }\n",
              "\n",
              "    .dataframe tbody tr th {\n",
              "        vertical-align: top;\n",
              "    }\n",
              "\n",
              "    .dataframe thead th {\n",
              "        text-align: right;\n",
              "    }\n",
              "</style>\n",
              "<table border=\"1\" class=\"dataframe\">\n",
              "  <thead>\n",
              "    <tr style=\"text-align: right;\">\n",
              "      <th></th>\n",
              "      <th>attributes</th>\n",
              "      <th>correlation</th>\n",
              "    </tr>\n",
              "  </thead>\n",
              "  <tbody>\n",
              "    <tr>\n",
              "      <th>0</th>\n",
              "      <td>potential</td>\n",
              "      <td>0.817933</td>\n",
              "    </tr>\n",
              "    <tr>\n",
              "      <th>1</th>\n",
              "      <td>crossing</td>\n",
              "      <td>0.287133</td>\n",
              "    </tr>\n",
              "    <tr>\n",
              "      <th>2</th>\n",
              "      <td>finishing</td>\n",
              "      <td>0.266431</td>\n",
              "    </tr>\n",
              "    <tr>\n",
              "      <th>3</th>\n",
              "      <td>heading_accuracy</td>\n",
              "      <td>0.220257</td>\n",
              "    </tr>\n",
              "    <tr>\n",
              "      <th>4</th>\n",
              "      <td>short_passing</td>\n",
              "      <td>0.406328</td>\n",
              "    </tr>\n",
              "    <tr>\n",
              "      <th>5</th>\n",
              "      <td>volleys</td>\n",
              "      <td>0.301406</td>\n",
              "    </tr>\n",
              "    <tr>\n",
              "      <th>6</th>\n",
              "      <td>dribbling</td>\n",
              "      <td>0.292616</td>\n",
              "    </tr>\n",
              "    <tr>\n",
              "      <th>7</th>\n",
              "      <td>curve</td>\n",
              "      <td>0.320642</td>\n",
              "    </tr>\n",
              "    <tr>\n",
              "      <th>8</th>\n",
              "      <td>free_kick_accuracy</td>\n",
              "      <td>0.282834</td>\n",
              "    </tr>\n",
              "    <tr>\n",
              "      <th>9</th>\n",
              "      <td>long_passing</td>\n",
              "      <td>0.385933</td>\n",
              "    </tr>\n",
              "    <tr>\n",
              "      <th>10</th>\n",
              "      <td>ball_control</td>\n",
              "      <td>0.372964</td>\n",
              "    </tr>\n",
              "    <tr>\n",
              "      <th>11</th>\n",
              "      <td>acceleration</td>\n",
              "      <td>0.170680</td>\n",
              "    </tr>\n",
              "    <tr>\n",
              "      <th>12</th>\n",
              "      <td>sprint_speed</td>\n",
              "      <td>0.182518</td>\n",
              "    </tr>\n",
              "    <tr>\n",
              "      <th>13</th>\n",
              "      <td>agility</td>\n",
              "      <td>0.218455</td>\n",
              "    </tr>\n",
              "    <tr>\n",
              "      <th>14</th>\n",
              "      <td>reactions</td>\n",
              "      <td>0.789116</td>\n",
              "    </tr>\n",
              "    <tr>\n",
              "      <th>15</th>\n",
              "      <td>balance</td>\n",
              "      <td>0.097360</td>\n",
              "    </tr>\n",
              "    <tr>\n",
              "      <th>16</th>\n",
              "      <td>shot_power</td>\n",
              "      <td>0.341983</td>\n",
              "    </tr>\n",
              "    <tr>\n",
              "      <th>17</th>\n",
              "      <td>jumping</td>\n",
              "      <td>0.226032</td>\n",
              "    </tr>\n",
              "    <tr>\n",
              "      <th>18</th>\n",
              "      <td>stamina</td>\n",
              "      <td>0.231846</td>\n",
              "    </tr>\n",
              "    <tr>\n",
              "      <th>19</th>\n",
              "      <td>strength</td>\n",
              "      <td>0.210157</td>\n",
              "    </tr>\n",
              "    <tr>\n",
              "      <th>20</th>\n",
              "      <td>long_shots</td>\n",
              "      <td>0.323131</td>\n",
              "    </tr>\n",
              "    <tr>\n",
              "      <th>21</th>\n",
              "      <td>aggression</td>\n",
              "      <td>0.263876</td>\n",
              "    </tr>\n",
              "    <tr>\n",
              "      <th>22</th>\n",
              "      <td>interceptions</td>\n",
              "      <td>0.196064</td>\n",
              "    </tr>\n",
              "    <tr>\n",
              "      <th>23</th>\n",
              "      <td>positioning</td>\n",
              "      <td>0.282044</td>\n",
              "    </tr>\n",
              "    <tr>\n",
              "      <th>24</th>\n",
              "      <td>vision</td>\n",
              "      <td>0.412322</td>\n",
              "    </tr>\n",
              "    <tr>\n",
              "      <th>25</th>\n",
              "      <td>penalties</td>\n",
              "      <td>0.275482</td>\n",
              "    </tr>\n",
              "    <tr>\n",
              "      <th>26</th>\n",
              "      <td>marking</td>\n",
              "      <td>0.109600</td>\n",
              "    </tr>\n",
              "    <tr>\n",
              "      <th>27</th>\n",
              "      <td>standing_tackle</td>\n",
              "      <td>0.140715</td>\n",
              "    </tr>\n",
              "    <tr>\n",
              "      <th>28</th>\n",
              "      <td>sliding_tackle</td>\n",
              "      <td>0.122908</td>\n",
              "    </tr>\n",
              "    <tr>\n",
              "      <th>29</th>\n",
              "      <td>gk_diving</td>\n",
              "      <td>0.037613</td>\n",
              "    </tr>\n",
              "    <tr>\n",
              "      <th>30</th>\n",
              "      <td>gk_handling</td>\n",
              "      <td>0.041038</td>\n",
              "    </tr>\n",
              "    <tr>\n",
              "      <th>31</th>\n",
              "      <td>gk_kicking</td>\n",
              "      <td>0.037448</td>\n",
              "    </tr>\n",
              "    <tr>\n",
              "      <th>32</th>\n",
              "      <td>gk_positioning</td>\n",
              "      <td>0.042111</td>\n",
              "    </tr>\n",
              "    <tr>\n",
              "      <th>33</th>\n",
              "      <td>gk_reflexes</td>\n",
              "      <td>0.042044</td>\n",
              "    </tr>\n",
              "  </tbody>\n",
              "</table>\n",
              "</div>\n",
              "      <button class=\"colab-df-convert\" onclick=\"convertToInteractive('df-40a9404c-2f76-405c-8806-28da2e88559a')\"\n",
              "              title=\"Convert this dataframe to an interactive table.\"\n",
              "              style=\"display:none;\">\n",
              "        \n",
              "  <svg xmlns=\"http://www.w3.org/2000/svg\" height=\"24px\"viewBox=\"0 0 24 24\"\n",
              "       width=\"24px\">\n",
              "    <path d=\"M0 0h24v24H0V0z\" fill=\"none\"/>\n",
              "    <path d=\"M18.56 5.44l.94 2.06.94-2.06 2.06-.94-2.06-.94-.94-2.06-.94 2.06-2.06.94zm-11 1L8.5 8.5l.94-2.06 2.06-.94-2.06-.94L8.5 2.5l-.94 2.06-2.06.94zm10 10l.94 2.06.94-2.06 2.06-.94-2.06-.94-.94-2.06-.94 2.06-2.06.94z\"/><path d=\"M17.41 7.96l-1.37-1.37c-.4-.4-.92-.59-1.43-.59-.52 0-1.04.2-1.43.59L10.3 9.45l-7.72 7.72c-.78.78-.78 2.05 0 2.83L4 21.41c.39.39.9.59 1.41.59.51 0 1.02-.2 1.41-.59l7.78-7.78 2.81-2.81c.8-.78.8-2.07 0-2.86zM5.41 20L4 18.59l7.72-7.72 1.47 1.35L5.41 20z\"/>\n",
              "  </svg>\n",
              "      </button>\n",
              "      \n",
              "  <style>\n",
              "    .colab-df-container {\n",
              "      display:flex;\n",
              "      flex-wrap:wrap;\n",
              "      gap: 12px;\n",
              "    }\n",
              "\n",
              "    .colab-df-convert {\n",
              "      background-color: #E8F0FE;\n",
              "      border: none;\n",
              "      border-radius: 50%;\n",
              "      cursor: pointer;\n",
              "      display: none;\n",
              "      fill: #1967D2;\n",
              "      height: 32px;\n",
              "      padding: 0 0 0 0;\n",
              "      width: 32px;\n",
              "    }\n",
              "\n",
              "    .colab-df-convert:hover {\n",
              "      background-color: #E2EBFA;\n",
              "      box-shadow: 0px 1px 2px rgba(60, 64, 67, 0.3), 0px 1px 3px 1px rgba(60, 64, 67, 0.15);\n",
              "      fill: #174EA6;\n",
              "    }\n",
              "\n",
              "    [theme=dark] .colab-df-convert {\n",
              "      background-color: #3B4455;\n",
              "      fill: #D2E3FC;\n",
              "    }\n",
              "\n",
              "    [theme=dark] .colab-df-convert:hover {\n",
              "      background-color: #434B5C;\n",
              "      box-shadow: 0px 1px 3px 1px rgba(0, 0, 0, 0.15);\n",
              "      filter: drop-shadow(0px 1px 2px rgba(0, 0, 0, 0.3));\n",
              "      fill: #FFFFFF;\n",
              "    }\n",
              "  </style>\n",
              "\n",
              "      <script>\n",
              "        const buttonEl =\n",
              "          document.querySelector('#df-40a9404c-2f76-405c-8806-28da2e88559a button.colab-df-convert');\n",
              "        buttonEl.style.display =\n",
              "          google.colab.kernel.accessAllowed ? 'block' : 'none';\n",
              "\n",
              "        async function convertToInteractive(key) {\n",
              "          const element = document.querySelector('#df-40a9404c-2f76-405c-8806-28da2e88559a');\n",
              "          const dataTable =\n",
              "            await google.colab.kernel.invokeFunction('convertToInteractive',\n",
              "                                                     [key], {});\n",
              "          if (!dataTable) return;\n",
              "\n",
              "          const docLinkHtml = 'Like what you see? Visit the ' +\n",
              "            '<a target=\"_blank\" href=https://colab.research.google.com/notebooks/data_table.ipynb>data table notebook</a>'\n",
              "            + ' to learn more about interactive tables.';\n",
              "          element.innerHTML = '';\n",
              "          dataTable['output_type'] = 'display_data';\n",
              "          await google.colab.output.renderOutput(dataTable, element);\n",
              "          const docLink = document.createElement('div');\n",
              "          docLink.innerHTML = docLinkHtml;\n",
              "          element.appendChild(docLink);\n",
              "        }\n",
              "      </script>\n",
              "    </div>\n",
              "  </div>\n",
              "  "
            ]
          },
          "metadata": {},
          "execution_count": 52
        }
      ],
      "source": [
        "corr_matrix = pd.DataFrame({'attributes': cols, 'correlation': correlations})\n",
        "corr_matrix"
      ]
    },
    {
      "cell_type": "markdown",
      "metadata": {
        "id": "NcmGz3Lgx_Pe"
      },
      "source": [
        "Plotting the correlation"
      ]
    },
    {
      "cell_type": "code",
      "execution_count": 53,
      "metadata": {
        "id": "c4o8kxlMxiBp"
      },
      "outputs": [],
      "source": [
        "def plot_corr_dataframe(df, y_label):\n",
        "    color = 'coral'\n",
        "    fig = plt.gcf()\n",
        "    fig.set_size_inches(20, 12)\n",
        "    plt.ylabel(y_label)\n",
        "    \n",
        "    ax = corr_matrix.correlation.plot(linewidth=3.3, color=color)\n",
        "    ax.set_xticks(corr_matrix.index)\n",
        "    ax.set_xticklabels(corr_matrix.attributes, rotation=75)\n",
        "    plt.show()"
      ]
    },
    {
      "cell_type": "code",
      "execution_count": 54,
      "metadata": {
        "colab": {
          "base_uri": "https://localhost:8080/",
          "height": 797
        },
        "id": "PW5iwH0bx-vS",
        "outputId": "494c8687-d554-48cd-e24a-df6460baa8be"
      },
      "outputs": [
        {
          "output_type": "display_data",
          "data": {
            "text/plain": [
              "<Figure size 1440x864 with 1 Axes>"
            ],
            "image/png": "[encoded data removed]"
          },
          "metadata": {}
        }
      ],
      "source": [
        "plot_corr_dataframe(corr_matrix, 'Player\\'s Overall Rating')"
      ]
    },
    {
      "cell_type": "markdown",
      "metadata": {
        "id": "zS0RprNGYhJh"
      },
      "source": [
        "### ⏩ Model Building"
      ]
    },
    {
      "cell_type": "code",
      "execution_count": 55,
      "metadata": {
        "id": "bSvje4lwYo-E"
      },
      "outputs": [],
      "source": [
        "y_train = train_set['overall_rating']\n",
        "X_train = train_set.drop(['overall_rating', 'player_name'], axis=1)\n",
        "y_test = test_set['overall_rating']\n",
        "X_test = test_set.drop(['overall_rating', 'player_name'], axis=1)"
      ]
    },
    {
      "cell_type": "code",
      "execution_count": 56,
      "metadata": {
        "colab": {
          "base_uri": "https://localhost:8080/"
        },
        "id": "lR4KIIYp4ejR",
        "outputId": "686b5e2f-5168-4078-9794-b2372aa42706"
      },
      "outputs": [
        {
          "output_type": "execute_result",
          "data": {
            "text/plain": [
              "(7807, 36)"
            ]
          },
          "metadata": {},
          "execution_count": 56
        }
      ],
      "source": [
        "X_train.shape"
      ]
    },
    {
      "cell_type": "markdown",
      "metadata": {
        "id": "6GLE0GwHG3_j"
      },
      "source": [
        "Boruta Shap for Feature Selection"
      ]
    },
    {
      "cell_type": "code",
      "execution_count": null,
      "metadata": {
        "colab": {
          "base_uri": "https://localhost:8080/",
          "height": 121,
          "referenced_widgets": [
            "5074504c690c4ba9b47bfd3e35f641b0",
            "4e245e65e0494b329d341db02326a738",
            "176ecebd014c472dba7b27f0d5304ea1",
            "c63329fc821c470abee94ee6197f8f32",
            "ee22668313e74563a2739ec62f581bab",
            "23e6a853a24146c08c0bd5be4c14a168",
            "3ba65b1de1f7494481b42bc6ed7d72d4",
            "c222ee990e7d43df844308787a9c6677",
            "daa09984c9c64a568e99f0a0973b1f39",
            "7c7d724037ab4998a82c48293158438c",
            "50fe397881754053bd69d346701775ff"
          ]
        },
        "id": "BiIEnvdf094Q",
        "outputId": "14dbe2df-4878-4f3a-c4d4-abfafb377dcc"
      },
      "outputs": [
        {
          "output_type": "display_data",
          "data": {
            "text/plain": [
              "  0%|          | 0/5 [00:00<?, ?it/s]"
            ],
            "application/vnd.jupyter.widget-view+json": {
              "version_major": 2,
              "version_minor": 0,
              "model_id": "5074504c690c4ba9b47bfd3e35f641b0"
            }
          },
          "metadata": {}
        },
        {
          "output_type": "stream",
          "name": "stdout",
          "text": [
            "0 attributes confirmed important: []\n",
            "0 attributes confirmed unimportant: []\n",
            "37 tentative attributes remains: ['acceleration', 'aggression', 'heading_accuracy', 'gk_kicking', 'gk_positioning', 'long_shots', 'standing_tackle', 'agility', 'penalties', 'vision', 'positioning', 'gk_handling', 'marking', 'balance', 'dribbling', 'age', 'free_kick_accuracy', 'curve', 'jumping', 'ball_control', 'volleys', 'stamina', 'shot_power', 'reactions', 'sprint_speed', 'short_passing', 'player_api_id', 'player_id', 'strength', 'interceptions', 'crossing', 'long_passing', 'sliding_tackle', 'finishing', 'gk_diving', 'potential', 'gk_reflexes']\n"
          ]
        }
      ],
      "source": [
        "Feature_Selector = BorutaShap(importance_measure='shap', classification=False)\n",
        "Feature_Selector.fit(X=X_train, y=y_train, n_trials=5, sample = False, verbose = True)"
      ]
    },
    {
      "cell_type": "markdown",
      "metadata": {
        "id": "WQfbBtJcZKzb"
      },
      "source": [
        "**Model Selection and execution**"
      ]
    },
    {
      "cell_type": "markdown",
      "metadata": {
        "id": "erv_5R-vZPG5"
      },
      "source": [
        "1. Linear Regression"
      ]
    },
    {
      "cell_type": "code",
      "execution_count": 57,
      "metadata": {
        "colab": {
          "base_uri": "https://localhost:8080/"
        },
        "id": "Ay-idUysZSmW",
        "outputId": "49514333-dd0d-4b13-caaa-4762370d5d5e"
      },
      "outputs": [
        {
          "output_type": "execute_result",
          "data": {
            "text/plain": [
              "LinearRegression()"
            ]
          },
          "metadata": {},
          "execution_count": 57
        }
      ],
      "source": [
        "lin_reg = LinearRegression()\n",
        "lin_reg.fit(X_train, y_train)"
      ]
    },
    {
      "cell_type": "markdown",
      "metadata": {
        "id": "cwm_V-bGZfBq"
      },
      "source": [
        "Measuring the performance of Linear Regression"
      ]
    },
    {
      "cell_type": "code",
      "execution_count": 58,
      "metadata": {
        "colab": {
          "base_uri": "https://localhost:8080/"
        },
        "id": "Cfgrgc4yZwvY",
        "outputId": "93039d82-ab0e-40ac-d7d5-c4a785bc7c4d"
      },
      "outputs": [
        {
          "output_type": "execute_result",
          "data": {
            "text/plain": [
              "1.991002322310114"
            ]
          },
          "metadata": {},
          "execution_count": 58
        }
      ],
      "source": [
        "y_predictions = lin_reg.predict(X_train)\n",
        "lin_mse = mean_squared_error(y_train, y_predictions)\n",
        "lin_rmse = np.sqrt(lin_mse)\n",
        "lin_rmse"
      ]
    },
    {
      "cell_type": "markdown",
      "metadata": {
        "id": "bcW2a2VfpOhX"
      },
      "source": [
        "2. Decision Tree"
      ]
    },
    {
      "cell_type": "code",
      "execution_count": 59,
      "metadata": {
        "colab": {
          "base_uri": "https://localhost:8080/"
        },
        "id": "9oA32LK4pO5M",
        "outputId": "80727981-3d88-4856-b069-55c6ef0fc4d2"
      },
      "outputs": [
        {
          "output_type": "execute_result",
          "data": {
            "text/plain": [
              "DecisionTreeRegressor()"
            ]
          },
          "metadata": {},
          "execution_count": 59
        }
      ],
      "source": [
        "tree_reg = DecisionTreeRegressor()\n",
        "tree_reg.fit(X_train, y_train)"
      ]
    },
    {
      "cell_type": "markdown",
      "metadata": {
        "id": "ZH4NsG0F4Yxk"
      },
      "source": [
        "Measuring the performance of Decision Tree"
      ]
    },
    {
      "cell_type": "code",
      "execution_count": 60,
      "metadata": {
        "colab": {
          "base_uri": "https://localhost:8080/"
        },
        "id": "RJ8tAyQF4ZS1",
        "outputId": "9cc8a59e-40a1-4c3e-865c-df320cf66474"
      },
      "outputs": [
        {
          "output_type": "execute_result",
          "data": {
            "text/plain": [
              "0.0"
            ]
          },
          "metadata": {},
          "execution_count": 60
        }
      ],
      "source": [
        "y_predictions = tree_reg.predict(X_train)\n",
        "tree_mse = mean_squared_error(y_train, y_predictions)\n",
        "tree_rmse = np.sqrt(tree_mse)\n",
        "tree_rmse"
      ]
    },
    {
      "cell_type": "markdown",
      "metadata": {
        "id": "q58o611e4wqa"
      },
      "source": [
        "3. Random Forest"
      ]
    },
    {
      "cell_type": "code",
      "execution_count": 61,
      "metadata": {
        "colab": {
          "base_uri": "https://localhost:8080/"
        },
        "id": "YereIsS94y5Z",
        "outputId": "49f6a3fb-5c0c-4d73-86a2-aaa3b26206df"
      },
      "outputs": [
        {
          "output_type": "execute_result",
          "data": {
            "text/plain": [
              "RandomForestRegressor()"
            ]
          },
          "metadata": {},
          "execution_count": 61
        }
      ],
      "source": [
        "forest_reg = RandomForestRegressor()\n",
        "forest_reg.fit(X_train, y_train)"
      ]
    },
    {
      "cell_type": "markdown",
      "metadata": {
        "id": "MZas-TFZ42Yr"
      },
      "source": [
        "Measuring the performance of Random Forest"
      ]
    },
    {
      "cell_type": "code",
      "execution_count": 62,
      "metadata": {
        "colab": {
          "base_uri": "https://localhost:8080/"
        },
        "id": "BQVYz6gL4-kI",
        "outputId": "5c29c17b-bd62-419e-9ce1-031eda8b2775"
      },
      "outputs": [
        {
          "output_type": "execute_result",
          "data": {
            "text/plain": [
              "0.542790162490985"
            ]
          },
          "metadata": {},
          "execution_count": 62
        }
      ],
      "source": [
        "y_predictions = forest_reg.predict(X_train)\n",
        "forest_mse = mean_squared_error(y_train, y_predictions)\n",
        "forest_rmse = np.sqrt(forest_mse)\n",
        "forest_rmse"
      ]
    },
    {
      "cell_type": "markdown",
      "metadata": {
        "id": "dlz6S13Z5u_v"
      },
      "source": [
        "4. KNN"
      ]
    },
    {
      "cell_type": "code",
      "execution_count": 63,
      "metadata": {
        "colab": {
          "base_uri": "https://localhost:8080/"
        },
        "id": "WPplwdDs5wl9",
        "outputId": "eb7039ce-2366-44ff-ffaf-9ca40c209fed"
      },
      "outputs": [
        {
          "output_type": "execute_result",
          "data": {
            "text/plain": [
              "KNeighborsRegressor()"
            ]
          },
          "metadata": {},
          "execution_count": 63
        }
      ],
      "source": [
        "knn_reg = KNeighborsRegressor()\n",
        "knn_reg.fit(X_train, y_train)"
      ]
    },
    {
      "cell_type": "markdown",
      "metadata": {
        "id": "AhNXqbaD6fHe"
      },
      "source": [
        "Measuring the performance of KNN"
      ]
    },
    {
      "cell_type": "code",
      "execution_count": 64,
      "metadata": {
        "colab": {
          "base_uri": "https://localhost:8080/"
        },
        "id": "1xLTPvna6gp5",
        "outputId": "be4a78ad-74a4-4031-9972-9d921f6fd5a9"
      },
      "outputs": [
        {
          "output_type": "execute_result",
          "data": {
            "text/plain": [
              "4.7788039115080405"
            ]
          },
          "metadata": {},
          "execution_count": 64
        }
      ],
      "source": [
        "y_predictions = knn_reg.predict(X_train)\n",
        "knn_mse = mean_squared_error(y_train, y_predictions)\n",
        "knn_rmse = np.sqrt(knn_mse)\n",
        "knn_rmse"
      ]
    },
    {
      "cell_type": "markdown",
      "metadata": {
        "id": "GshjcUsC8BaZ"
      },
      "source": [
        "5. SVR"
      ]
    },
    {
      "cell_type": "code",
      "execution_count": 65,
      "metadata": {
        "colab": {
          "base_uri": "https://localhost:8080/"
        },
        "id": "Ugtybh7I8Dbj",
        "outputId": "8745ddd3-4061-499b-eb9a-67e8d6623af8"
      },
      "outputs": [
        {
          "output_type": "execute_result",
          "data": {
            "text/plain": [
              "SVR()"
            ]
          },
          "metadata": {},
          "execution_count": 65
        }
      ],
      "source": [
        "svm_reg = SVR()\n",
        "svm_reg.fit(X_train, y_train)"
      ]
    },
    {
      "cell_type": "markdown",
      "metadata": {
        "id": "X1ab69-p8QHo"
      },
      "source": [
        "Measuring the performance of SVR"
      ]
    },
    {
      "cell_type": "code",
      "execution_count": 66,
      "metadata": {
        "colab": {
          "base_uri": "https://localhost:8080/"
        },
        "id": "mu0x2jqp8Rj1",
        "outputId": "352db526-252e-431e-ad0f-f3bae26f83c3"
      },
      "outputs": [
        {
          "output_type": "execute_result",
          "data": {
            "text/plain": [
              "6.080528188499624"
            ]
          },
          "metadata": {},
          "execution_count": 66
        }
      ],
      "source": [
        "y_predictions = svm_reg.predict(X_train)\n",
        "svm_mse = mean_squared_error(y_train, y_predictions)\n",
        "svm_rmse = np.sqrt(svm_mse)\n",
        "svm_rmse"
      ]
    },
    {
      "cell_type": "markdown",
      "metadata": {
        "id": "9MnQDGWtFizs"
      },
      "source": [
        "6. XGBoost"
      ]
    },
    {
      "cell_type": "code",
      "execution_count": 67,
      "metadata": {
        "colab": {
          "base_uri": "https://localhost:8080/"
        },
        "id": "kAMNtk0zFkml",
        "outputId": "6c9208f0-44af-49e9-d68a-dbaf28bbb165"
      },
      "outputs": [
        {
          "output_type": "execute_result",
          "data": {
            "text/plain": [
              "XGBRegressor(verbosity=0)"
            ]
          },
          "metadata": {},
          "execution_count": 67
        }
      ],
      "source": [
        "xgb_reg = XGBRegressor(objective ='reg:linear', verbosity = 0)\n",
        "xgb_reg.fit(X_train, y_train)"
      ]
    },
    {
      "cell_type": "markdown",
      "metadata": {
        "id": "P3o4XonEPTm7"
      },
      "source": [
        "Measuring the performance of XGBoost"
      ]
    },
    {
      "cell_type": "code",
      "execution_count": 68,
      "metadata": {
        "colab": {
          "base_uri": "https://localhost:8080/"
        },
        "id": "C4zd4v86PVQK",
        "outputId": "ca9a024c-ba65-4d00-cc0f-42f906f7acfb"
      },
      "outputs": [
        {
          "output_type": "execute_result",
          "data": {
            "text/plain": [
              "1.350446374125898"
            ]
          },
          "metadata": {},
          "execution_count": 68
        }
      ],
      "source": [
        "y_predictions = xgb_reg.predict(X_train)\n",
        "xgb_mse = mean_squared_error(y_train, y_predictions)\n",
        "xgb_rmse = np.sqrt(xgb_mse)\n",
        "xgb_rmse"
      ]
    },
    {
      "cell_type": "code",
      "source": [
        "print (\"======================INITIAL RMSE OF EACH MODEL======================\")\n",
        "print (\"Linear Regression: \", lin_rmse)\n",
        "print (\"Decision Tree: \", tree_rmse)\n",
        "print (\"Random Forest: \", forest_rmse)\n",
        "print (\"K Nearest Neighbour: \", knn_rmse)\n",
        "print (\"Support Vector Regression: \", svm_rmse)\n",
        "print (\"XGBoost: \", xgb_rmse)"
      ],
      "metadata": {
        "colab": {
          "base_uri": "https://localhost:8080/"
        },
        "id": "ZAmbG9a8x2Fw",
        "outputId": "b5401a7b-d3f8-4d3f-d64b-689245594bd4"
      },
      "execution_count": 69,
      "outputs": [
        {
          "output_type": "stream",
          "name": "stdout",
          "text": [
            "======================INITIAL RMSE OF EACH MODEL======================\n",
            "Linear Regression:  1.991002322310114\n",
            "Decision Tree:  0.0\n",
            "Random Forest:  0.542790162490985\n",
            "K Nearest Neighbour:  4.7788039115080405\n",
            "Support Vector Regression:  6.080528188499624\n",
            "XGBoost:  1.350446374125898\n"
          ]
        }
      ]
    },
    {
      "cell_type": "markdown",
      "metadata": {
        "id": "ySqVgTPmfp6B"
      },
      "source": [
        "### ⏩ Validating the results using cross validation method"
      ]
    },
    {
      "cell_type": "code",
      "execution_count": 70,
      "metadata": {
        "id": "owIUJw1xh7S2"
      },
      "outputs": [],
      "source": [
        "def display_scores(scores):\n",
        "  print(\"Scores:\", scores)\n",
        "  print(\"Mean:\", scores.mean())\n",
        "  print(\"Standard Deviation:\", scores.std())"
      ]
    },
    {
      "cell_type": "markdown",
      "metadata": {
        "id": "8EYPx9FQfuXK"
      },
      "source": [
        "\n",
        "\n",
        "*   Linear Regression\n"
      ]
    },
    {
      "cell_type": "code",
      "execution_count": 71,
      "metadata": {
        "colab": {
          "base_uri": "https://localhost:8080/"
        },
        "id": "_KoIB7XKfxX6",
        "outputId": "a55ff4f1-6aef-457a-8f95-b26e186b3193"
      },
      "outputs": [
        {
          "output_type": "stream",
          "name": "stdout",
          "text": [
            "***Cross Validation score of Linear Regression***\n",
            "Scores: [1.95328477 2.0600739  1.80156181 1.96127111 1.91881889 2.05584608\n",
            " 1.94232044 2.05499894 2.0932748  2.14228907]\n",
            "Mean: 1.9983739797414704\n",
            "Standard Deviation: 0.09573386560601159\n"
          ]
        }
      ],
      "source": [
        "scores = cross_val_score(lin_reg, X_train, y_train,scoring='neg_mean_squared_error', cv=10)\n",
        "lin_reg_scores = np.sqrt(-scores)\n",
        "print (\"***Cross Validation score of Linear Regression***\")\n",
        "display_scores(lin_reg_scores)"
      ]
    },
    {
      "cell_type": "markdown",
      "metadata": {
        "id": "WYqbYMCChfbN"
      },
      "source": [
        "* Decision Tree\n"
      ]
    },
    {
      "cell_type": "code",
      "execution_count": 72,
      "metadata": {
        "colab": {
          "base_uri": "https://localhost:8080/"
        },
        "id": "oUmw-gLvhfbO",
        "outputId": "29a08015-1f27-4e36-bb5a-ddd7973eb9cf"
      },
      "outputs": [
        {
          "output_type": "stream",
          "name": "stdout",
          "text": [
            "***Cross Validation score of Decision Tree***\n",
            "Scores: [2.35976734 2.35379118 2.33028274 2.331656   2.36518712 2.54108368\n",
            " 2.20376816 2.35992177 2.4405758  2.394438  ]\n",
            "Mean: 2.3680471808724244\n",
            "Standard Deviation: 0.08122965287666141\n"
          ]
        }
      ],
      "source": [
        "scores = cross_val_score(tree_reg, X_train, y_train,scoring='neg_mean_squared_error', cv=10)\n",
        "tree_reg_scores = np.sqrt(-scores)\n",
        "print (\"***Cross Validation score of Decision Tree***\")\n",
        "display_scores(tree_reg_scores)"
      ]
    },
    {
      "cell_type": "markdown",
      "metadata": {
        "id": "kCKD_0z2hfbO"
      },
      "source": [
        "* Random Forest"
      ]
    },
    {
      "cell_type": "code",
      "execution_count": 73,
      "metadata": {
        "colab": {
          "base_uri": "https://localhost:8080/"
        },
        "id": "JJB2MW1fhfbO",
        "outputId": "0222a104-fd16-4964-d893-9ef656c2a185"
      },
      "outputs": [
        {
          "output_type": "stream",
          "name": "stdout",
          "text": [
            "***Cross Validation score of Random Forest***\n",
            "Scores: [1.54444098 1.49931252 1.4005586  1.45351149 1.4454994  1.51594394\n",
            " 1.42330961 1.49853899 1.46718189 1.50512449]\n",
            "Mean: 1.4753421915535179\n",
            "Standard Deviation: 0.04261048714153529\n"
          ]
        }
      ],
      "source": [
        "scores = cross_val_score(forest_reg, X_train, y_train,scoring='neg_mean_squared_error', cv=10)\n",
        "forest_reg_scores = np.sqrt(-scores)\n",
        "print (\"***Cross Validation score of Random Forest***\")\n",
        "display_scores(forest_reg_scores)"
      ]
    },
    {
      "cell_type": "markdown",
      "metadata": {
        "id": "YYS7Gc6hhfbO"
      },
      "source": [
        "* KNN"
      ]
    },
    {
      "cell_type": "code",
      "execution_count": 74,
      "metadata": {
        "colab": {
          "base_uri": "https://localhost:8080/"
        },
        "id": "rgAjl2n9hfbO",
        "outputId": "20b946ae-9908-49e4-ddfa-ea36d7403f48"
      },
      "outputs": [
        {
          "output_type": "stream",
          "name": "stdout",
          "text": [
            "***Cross Validation score of K Nearest Neighbour***\n",
            "Scores: [5.90673567 6.13637587 5.96789962 5.83284005 5.96428122 5.78080182\n",
            " 6.12758085 5.950195   5.9965845  5.97624786]\n",
            "Mean: 5.963954245145828\n",
            "Standard Deviation: 0.10579860577739324\n"
          ]
        }
      ],
      "source": [
        "scores = cross_val_score(knn_reg, X_train, y_train,scoring='neg_mean_squared_error', cv=10)\n",
        "knn_reg_scores = np.sqrt(-scores)\n",
        "print (\"***Cross Validation score of K Nearest Neighbour***\")\n",
        "display_scores(knn_reg_scores)"
      ]
    },
    {
      "cell_type": "markdown",
      "metadata": {
        "id": "umduTVZZhfbO"
      },
      "source": [
        "* SVR"
      ]
    },
    {
      "cell_type": "code",
      "execution_count": 75,
      "metadata": {
        "colab": {
          "base_uri": "https://localhost:8080/"
        },
        "id": "KKmhRmIthfbO",
        "outputId": "e437806d-b31b-4e3a-fe55-0c7b0f0725f3"
      },
      "outputs": [
        {
          "output_type": "stream",
          "name": "stdout",
          "text": [
            "***Cross Validation score of Support Vector Regression***\n",
            "Scores: [6.09699101 6.12542104 6.07993876 6.02616492 6.05689668 5.97808146\n",
            " 6.14638023 6.01953781 6.1449566  6.20075465]\n",
            "Mean: 6.087512314595972\n",
            "Standard Deviation: 0.06516889170373678\n"
          ]
        }
      ],
      "source": [
        "scores = cross_val_score(svm_reg, X_train, y_train,scoring='neg_mean_squared_error', cv=10)\n",
        "svm_reg_scores = np.sqrt(-scores)\n",
        "print (\"***Cross Validation score of Support Vector Regression***\")\n",
        "display_scores(svm_reg_scores)"
      ]
    },
    {
      "cell_type": "markdown",
      "metadata": {
        "id": "GHCqu80qhfbO"
      },
      "source": [
        "* XGBoost"
      ]
    },
    {
      "cell_type": "code",
      "execution_count": 76,
      "metadata": {
        "colab": {
          "base_uri": "https://localhost:8080/"
        },
        "id": "2rwAh6tehfbP",
        "outputId": "b00f7797-3e75-463b-86ee-3eb2a98b6108"
      },
      "outputs": [
        {
          "output_type": "stream",
          "name": "stdout",
          "text": [
            "***Cross Validation score of XGBoost***\n",
            "Scores: [1.46456006 1.47972703 1.35559111 1.44673765 1.4213527  1.50802155\n",
            " 1.43973725 1.47305599 1.53856468 1.52723447]\n",
            "Mean: 1.4654582495455526\n",
            "Standard Deviation: 0.05124718050357821\n"
          ]
        }
      ],
      "source": [
        "scores = cross_val_score(xgb_reg, X_train, y_train,scoring='neg_mean_squared_error', cv=10)\n",
        "xgb_reg_scores = np.sqrt(-scores)\n",
        "print (\"***Cross Validation score of XGBoost***\")\n",
        "display_scores(xgb_reg_scores)"
      ]
    },
    {
      "cell_type": "markdown",
      "metadata": {
        "id": "dBC88YY_iyce"
      },
      "source": [
        "### ⏩ Fine tuning the hyperparameters using GridSearchCV"
      ]
    },
    {
      "cell_type": "code",
      "execution_count": 77,
      "metadata": {
        "colab": {
          "base_uri": "https://localhost:8080/"
        },
        "id": "GQnyYYQoi77Y",
        "outputId": "f0d879e3-7b84-45a2-8e79-48044f237cd0"
      },
      "outputs": [
        {
          "output_type": "stream",
          "name": "stdout",
          "text": [
            "Fitting 5 folds for each of 120 candidates, totalling 600 fits\n"
          ]
        },
        {
          "output_type": "execute_result",
          "data": {
            "text/plain": [
              "GridSearchCV(cv=5, estimator=XGBRegressor(verbosity=0),\n",
              "             param_grid={'learning_rate': [0.05, 0.25, 0.5, 1],\n",
              "                         'max_depth': [5, 6, 7], 'min_child_weight': [3, 5],\n",
              "                         'n_estimators': [100, 200, 300, 400, 500],\n",
              "                         'objective': ['reg:linear']},\n",
              "             return_train_score=True, scoring='neg_mean_squared_error',\n",
              "             verbose=1)"
            ]
          },
          "metadata": {},
          "execution_count": 77
        }
      ],
      "source": [
        "param_grid = {'objective':['reg:linear'],\n",
        "              'learning_rate': [0.05,0.25,0.50,1],\n",
        "              'max_depth': [5, 6, 7],\n",
        "              'min_child_weight': [3,5],\n",
        "              'n_estimators': [100, 200, 300, 400, 500]}\n",
        "\n",
        "xgb_reg = XGBRegressor(objective ='reg:linear', verbosity = 0)\n",
        "grid_search = GridSearchCV(xgb_reg,param_grid,cv=5,scoring='neg_mean_squared_error',return_train_score=True,verbose=1)\n",
        "grid_search.fit(X_train, y_train)"
      ]
    },
    {
      "cell_type": "code",
      "execution_count": 78,
      "metadata": {
        "colab": {
          "base_uri": "https://localhost:8080/"
        },
        "id": "oXMPMZHkjSvC",
        "outputId": "1a3fabdd-d8d9-460a-8db9-724d233b047c"
      },
      "outputs": [
        {
          "output_type": "stream",
          "name": "stdout",
          "text": [
            "The best parameters are:  {'learning_rate': 0.05, 'max_depth': 7, 'min_child_weight': 5, 'n_estimators': 500, 'objective': 'reg:linear'}\n",
            "The best estimator is:  XGBRegressor(learning_rate=0.05, max_depth=7, min_child_weight=5,\n",
            "             n_estimators=500, verbosity=0)\n"
          ]
        }
      ],
      "source": [
        "print(\"The best parameters are: \", grid_search.best_params_)\n",
        "print(\"The best estimator is: \", grid_search.best_estimator_)"
      ]
    },
    {
      "cell_type": "markdown",
      "metadata": {
        "id": "ReSuGo3wjmXd"
      },
      "source": [
        "### ⏩ Evaluation of the best model"
      ]
    },
    {
      "cell_type": "code",
      "execution_count": 79,
      "metadata": {
        "colab": {
          "base_uri": "https://localhost:8080/"
        },
        "id": "TQxfuilPjol5",
        "outputId": "e6a37273-5b08-4e35-8ffb-12b7c16df502"
      },
      "outputs": [
        {
          "output_type": "stream",
          "name": "stdout",
          "text": [
            "RMSE by the best model on the test dataset:  1.0329150280931896\n"
          ]
        }
      ],
      "source": [
        "best_model = grid_search.best_estimator_\n",
        "best_predictions = best_model.predict(X_test)\n",
        "best_mse = mean_squared_error(y_test, best_predictions)\n",
        "best_rmse = np.sqrt(best_mse)\n",
        "print(\"RMSE by the best model on the test dataset: \",best_rmse)"
      ]
    },
    {
      "cell_type": "markdown",
      "metadata": {
        "id": "IyPD6W3xz_WP"
      },
      "source": [
        "Calculating the confidence interval"
      ]
    },
    {
      "cell_type": "code",
      "execution_count": 80,
      "metadata": {
        "colab": {
          "base_uri": "https://localhost:8080/"
        },
        "id": "9c-uGT-f0CZ0",
        "outputId": "e2458e25-1cbe-4953-ea84-f1c8546c79ad"
      },
      "outputs": [
        {
          "output_type": "stream",
          "name": "stdout",
          "text": [
            "We are 95% confident that the rmse values would be between  0.9887297449992288 and 1.0752861953337207\n"
          ]
        }
      ],
      "source": [
        "confidence = 0.95\n",
        "squared_errors = (best_predictions - y_test)**2\n",
        "conf=np.sqrt(stats.t.interval(confidence, len(squared_errors)-1,loc=squared_errors.mean(),\n",
        "scale=stats.sem(squared_errors)))\n",
        "print(\"We are 95% confident that the rmse values would be between \",conf[0],\"and\",conf[1])"
      ]
    },
    {
      "cell_type": "markdown",
      "source": [
        "Predictions"
      ],
      "metadata": {
        "id": "rEw1tlX7Ajdp"
      }
    },
    {
      "cell_type": "code",
      "source": [
        "sample_data = X_test.iloc[:5]\n",
        "sample_label = y_test.iloc[:5]\n",
        "print(\"########## CHECKING HOW GOOD THE PREDICTIONS ARE ##########\")\n",
        "print(\"Predictions:\", best_model.predict(sample_data))\n",
        "print(\"True Labels:\", list(sample_label))"
      ],
      "metadata": {
        "colab": {
          "base_uri": "https://localhost:8080/"
        },
        "id": "MGagoC1CAaBH",
        "outputId": "8c56a7fd-d814-4c40-e631-6d1f3349d3e7"
      },
      "execution_count": 81,
      "outputs": [
        {
          "output_type": "stream",
          "name": "stdout",
          "text": [
            "########## CHECKING HOW GOOD THE PREDICTIONS ARE ##########\n",
            "Predictions: [75.56884  70.16643  65.05865  66.487465 74.04788 ]\n",
            "True Labels: [74.0, 70.0, 65.0, 67.0, 75.0]\n"
          ]
        }
      ]
    }
  ],
  "metadata": {
    "colab": {
      "collapsed_sections": [],
      "provenance": []
    },
    "kernelspec": {
      "display_name": "Python 3",
      "name": "python3"
    },
    "language_info": {
      "name": "python"
    },
    "widgets": {
      "application/vnd.jupyter.widget-state+json": {
        "5074504c690c4ba9b47bfd3e35f641b0": {
          "model_module": "@jupyter-widgets/controls",
          "model_name": "HBoxModel",
          "model_module_version": "1.5.0",
          "state": {
            "_dom_classes": [],
            "_model_module": "@jupyter-widgets/controls",
            "_model_module_version": "1.5.0",
            "_model_name": "HBoxModel",
            "_view_count": null,
            "_view_module": "@jupyter-widgets/controls",
            "_view_module_version": "1.5.0",
            "_view_name": "HBoxView",
            "box_style": "",
            "children": [
              "IPY_MODEL_4e245e65e0494b329d341db02326a738",
              "IPY_MODEL_176ecebd014c472dba7b27f0d5304ea1",
              "IPY_MODEL_c63329fc821c470abee94ee6197f8f32"
            ],
            "layout": "IPY_MODEL_ee22668313e74563a2739ec62f581bab"
          }
        },
        "4e245e65e0494b329d341db02326a738": {
          "model_module": "@jupyter-widgets/controls",
          "model_name": "HTMLModel",
          "model_module_version": "1.5.0",
          "state": {
            "_dom_classes": [],
            "_model_module": "@jupyter-widgets/controls",
            "_model_module_version": "1.5.0",
            "_model_name": "HTMLModel",
            "_view_count": null,
            "_view_module": "@jupyter-widgets/controls",
            "_view_module_version": "1.5.0",
            "_view_name": "HTMLView",
            "description": "",
            "description_tooltip": null,
            "layout": "IPY_MODEL_23e6a853a24146c08c0bd5be4c14a168",
            "placeholder": "​",
            "style": "IPY_MODEL_3ba65b1de1f7494481b42bc6ed7d72d4",
            "value": "100%"
          }
        },
        "176ecebd014c472dba7b27f0d5304ea1": {
          "model_module": "@jupyter-widgets/controls",
          "model_name": "FloatProgressModel",
          "model_module_version": "1.5.0",
          "state": {
            "_dom_classes": [],
            "_model_module": "@jupyter-widgets/controls",
            "_model_module_version": "1.5.0",
            "_model_name": "FloatProgressModel",
            "_view_count": null,
            "_view_module": "@jupyter-widgets/controls",
            "_view_module_version": "1.5.0",
            "_view_name": "ProgressView",
            "bar_style": "success",
            "description": "",
            "description_tooltip": null,
            "layout": "IPY_MODEL_c222ee990e7d43df844308787a9c6677",
            "max": 5,
            "min": 0,
            "orientation": "horizontal",
            "style": "IPY_MODEL_daa09984c9c64a568e99f0a0973b1f39",
            "value": 5
          }
        },
        "c63329fc821c470abee94ee6197f8f32": {
          "model_module": "@jupyter-widgets/controls",
          "model_name": "HTMLModel",
          "model_module_version": "1.5.0",
          "state": {
            "_dom_classes": [],
            "_model_module": "@jupyter-widgets/controls",
            "_model_module_version": "1.5.0",
            "_model_name": "HTMLModel",
            "_view_count": null,
            "_view_module": "@jupyter-widgets/controls",
            "_view_module_version": "1.5.0",
            "_view_name": "HTMLView",
            "description": "",
            "description_tooltip": null,
            "layout": "IPY_MODEL_7c7d724037ab4998a82c48293158438c",
            "placeholder": "​",
            "style": "IPY_MODEL_50fe397881754053bd69d346701775ff",
            "value": " 5/5 [30:15&lt;00:00, 363.06s/it]"
          }
        },
        "ee22668313e74563a2739ec62f581bab": {
          "model_module": "@jupyter-widgets/base",
          "model_name": "LayoutModel",
          "model_module_version": "1.2.0",
          "state": {
            "_model_module": "@jupyter-widgets/base",
            "_model_module_version": "1.2.0",
            "_model_name": "LayoutModel",
            "_view_count": null,
            "_view_module": "@jupyter-widgets/base",
            "_view_module_version": "1.2.0",
            "_view_name": "LayoutView",
            "align_content": null,
            "align_items": null,
            "align_self": null,
            "border": null,
            "bottom": null,
            "display": null,
            "flex": null,
            "flex_flow": null,
            "grid_area": null,
            "grid_auto_columns": null,
            "grid_auto_flow": null,
            "grid_auto_rows": null,
            "grid_column": null,
            "grid_gap": null,
            "grid_row": null,
            "grid_template_areas": null,
            "grid_template_columns": null,
            "grid_template_rows": null,
            "height": null,
            "justify_content": null,
            "justify_items": null,
            "left": null,
            "margin": null,
            "max_height": null,
            "max_width": null,
            "min_height": null,
            "min_width": null,
            "object_fit": null,
            "object_position": null,
            "order": null,
            "overflow": null,
            "overflow_x": null,
            "overflow_y": null,
            "padding": null,
            "right": null,
            "top": null,
            "visibility": null,
            "width": null
          }
        },
        "23e6a853a24146c08c0bd5be4c14a168": {
          "model_module": "@jupyter-widgets/base",
          "model_name": "LayoutModel",
          "model_module_version": "1.2.0",
          "state": {
            "_model_module": "@jupyter-widgets/base",
            "_model_module_version": "1.2.0",
            "_model_name": "LayoutModel",
            "_view_count": null,
            "_view_module": "@jupyter-widgets/base",
            "_view_module_version": "1.2.0",
            "_view_name": "LayoutView",
            "align_content": null,
            "align_items": null,
            "align_self": null,
            "border": null,
            "bottom": null,
            "display": null,
            "flex": null,
            "flex_flow": null,
            "grid_area": null,
            "grid_auto_columns": null,
            "grid_auto_flow": null,
            "grid_auto_rows": null,
            "grid_column": null,
            "grid_gap": null,
            "grid_row": null,
            "grid_template_areas": null,
            "grid_template_columns": null,
            "grid_template_rows": null,
            "height": null,
            "justify_content": null,
            "justify_items": null,
            "left": null,
            "margin": null,
            "max_height": null,
            "max_width": null,
            "min_height": null,
            "min_width": null,
            "object_fit": null,
            "object_position": null,
            "order": null,
            "overflow": null,
            "overflow_x": null,
            "overflow_y": null,
            "padding": null,
            "right": null,
            "top": null,
            "visibility": null,
            "width": null
          }
        },
        "3ba65b1de1f7494481b42bc6ed7d72d4": {
          "model_module": "@jupyter-widgets/controls",
          "model_name": "DescriptionStyleModel",
          "model_module_version": "1.5.0",
          "state": {
            "_model_module": "@jupyter-widgets/controls",
            "_model_module_version": "1.5.0",
            "_model_name": "DescriptionStyleModel",
            "_view_count": null,
            "_view_module": "@jupyter-widgets/base",
            "_view_module_version": "1.2.0",
            "_view_name": "StyleView",
            "description_width": ""
          }
        },
        "c222ee990e7d43df844308787a9c6677": {
          "model_module": "@jupyter-widgets/base",
          "model_name": "LayoutModel",
          "model_module_version": "1.2.0",
          "state": {
            "_model_module": "@jupyter-widgets/base",
            "_model_module_version": "1.2.0",
            "_model_name": "LayoutModel",
            "_view_count": null,
            "_view_module": "@jupyter-widgets/base",
            "_view_module_version": "1.2.0",
            "_view_name": "LayoutView",
            "align_content": null,
            "align_items": null,
            "align_self": null,
            "border": null,
            "bottom": null,
            "display": null,
            "flex": null,
            "flex_flow": null,
            "grid_area": null,
            "grid_auto_columns": null,
            "grid_auto_flow": null,
            "grid_auto_rows": null,
            "grid_column": null,
            "grid_gap": null,
            "grid_row": null,
            "grid_template_areas": null,
            "grid_template_columns": null,
            "grid_template_rows": null,
            "height": null,
            "justify_content": null,
            "justify_items": null,
            "left": null,
            "margin": null,
            "max_height": null,
            "max_width": null,
            "min_height": null,
            "min_width": null,
            "object_fit": null,
            "object_position": null,
            "order": null,
            "overflow": null,
            "overflow_x": null,
            "overflow_y": null,
            "padding": null,
            "right": null,
            "top": null,
            "visibility": null,
            "width": null
          }
        },
        "daa09984c9c64a568e99f0a0973b1f39": {
          "model_module": "@jupyter-widgets/controls",
          "model_name": "ProgressStyleModel",
          "model_module_version": "1.5.0",
          "state": {
            "_model_module": "@jupyter-widgets/controls",
            "_model_module_version": "1.5.0",
            "_model_name": "ProgressStyleModel",
            "_view_count": null,
            "_view_module": "@jupyter-widgets/base",
            "_view_module_version": "1.2.0",
            "_view_name": "StyleView",
            "bar_color": null,
            "description_width": ""
          }
        },
        "7c7d724037ab4998a82c48293158438c": {
          "model_module": "@jupyter-widgets/base",
          "model_name": "LayoutModel",
          "model_module_version": "1.2.0",
          "state": {
            "_model_module": "@jupyter-widgets/base",
            "_model_module_version": "1.2.0",
            "_model_name": "LayoutModel",
            "_view_count": null,
            "_view_module": "@jupyter-widgets/base",
            "_view_module_version": "1.2.0",
            "_view_name": "LayoutView",
            "align_content": null,
            "align_items": null,
            "align_self": null,
            "border": null,
            "bottom": null,
            "display": null,
            "flex": null,
            "flex_flow": null,
            "grid_area": null,
            "grid_auto_columns": null,
            "grid_auto_flow": null,
            "grid_auto_rows": null,
            "grid_column": null,
            "grid_gap": null,
            "grid_row": null,
            "grid_template_areas": null,
            "grid_template_columns": null,
            "grid_template_rows": null,
            "height": null,
            "justify_content": null,
            "justify_items": null,
            "left": null,
            "margin": null,
            "max_height": null,
            "max_width": null,
            "min_height": null,
            "min_width": null,
            "object_fit": null,
            "object_position": null,
            "order": null,
            "overflow": null,
            "overflow_x": null,
            "overflow_y": null,
            "padding": null,
            "right": null,
            "top": null,
            "visibility": null,
            "width": null
          }
        },
        "50fe397881754053bd69d346701775ff": {
          "model_module": "@jupyter-widgets/controls",
          "model_name": "DescriptionStyleModel",
          "model_module_version": "1.5.0",
          "state": {
            "_model_module": "@jupyter-widgets/controls",
            "_model_module_version": "1.5.0",
            "_model_name": "DescriptionStyleModel",
            "_view_count": null,
            "_view_module": "@jupyter-widgets/base",
            "_view_module_version": "1.2.0",
            "_view_name": "StyleView",
            "description_width": ""
          }
        }
      }
    }
  },
  "nbformat": 4,
  "nbformat_minor": 0
}